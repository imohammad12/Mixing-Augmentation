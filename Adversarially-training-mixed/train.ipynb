{
 "cells": [
  {
   "cell_type": "code",
   "execution_count": 211,
   "id": "reserved-birmingham",
   "metadata": {},
   "outputs": [],
   "source": [
    "#!/usr/bin/env python3 -u\n",
    "# Copyright (c) 2017-present, Facebook, Inc.\n",
    "# All rights reserved.\n",
    "#\n",
    "# This source code is licensed under the license found in the LICENSE file in\n",
    "# the root directory of this source tree.\n",
    "from __future__ import print_function\n",
    "\n",
    "import argparse\n",
    "import csv\n",
    "import os\n",
    "\n",
    "import numpy as np\n",
    "import torch\n",
    "from torch.autograd import Variable\n",
    "import torch.backends.cudnn as cudnn\n",
    "import torch.nn as nn\n",
    "import torch.optim as optim\n",
    "import torchvision.transforms as transforms\n",
    "import torchvision.datasets as datasets\n",
    "\n",
    "import models\n",
    "from utils import progress_bar\n",
    "import matplotlib.pyplot as plt\n",
    "import numpy as np\n",
    "import pandas as pd\n",
    "import random\n",
    "from tqdm import tqdm\n",
    "\n",
    "# parser = argparse.ArgumentParser(description='PyTorch CIFAR10 Training')\n",
    "# parser.add_argument('--lr', default=0.1, type=float, help='learning rate')\n",
    "# parser.add_argument('--resume', '-r', action='store_true',\n",
    "#                     help='resume from checkpoint')\n",
    "# parser.add_argument('--model', default=\"ResNet18\", type=str,\n",
    "#                     help='model type (default: ResNet18)')\n",
    "# parser.add_argument('--name', default='0', type=str, help='name of run')\n",
    "# parser.add_argument('--seed', default=0, type=int, help='random seed')\n",
    "# parser.add_argument('--batch-size', default=128, type=int, help='batch size')\n",
    "# parser.add_argument('--epoch', default=200, type=int,\n",
    "#                     help='total epochs to run')\n",
    "# parser.add_argument('--no-augment', dest='augment', action='store_false',\n",
    "#                     help='use standard augmentation (default: True)')\n",
    "# parser.add_argument('--decay', default=1e-4, type=float, help='weight decay')\n",
    "# parser.add_argument('--alpha', default=1., type=float,\n",
    "#                     help='mixup interpolation coefficient (default: 1)')\n",
    "# args = parser.parse_args()\n",
    "\n",
    "params = {\n",
    "    \"lr\": .01,\n",
    "    \"resume\": True,\n",
    "    \"model\": \"ResNet18\",\n",
    "    \"name\": \"mixup-128-AdvsTrain-Eps(.32, .08)\",\n",
    "    \"seed\": 10,\n",
    "    \"batch_size\": 128,\n",
    "    \"decay\": 1e-4, \n",
    "    \"augment\": True,\n",
    "    \"epoch\": 200,\n",
    "#     \"no_augment\": False,\n",
    "    \"alpha\": 1.,\n",
    "}\n",
    "\n",
    "# %cd ../../"
   ]
  },
  {
   "cell_type": "code",
   "execution_count": 212,
   "id": "innocent-structure",
   "metadata": {
    "collapsed": true
   },
   "outputs": [
    {
     "data": {
      "text/plain": [
       "DataParallel(\n",
       "  (module): ResNet(\n",
       "    (conv1): Conv2d(3, 64, kernel_size=(3, 3), stride=(1, 1), padding=(1, 1), bias=False)\n",
       "    (bn1): BatchNorm2d(64, eps=1e-05, momentum=0.1, affine=True, track_running_stats=True)\n",
       "    (layer1): Sequential(\n",
       "      (0): PreActBlock(\n",
       "        (bn1): BatchNorm2d(64, eps=1e-05, momentum=0.1, affine=True, track_running_stats=True)\n",
       "        (conv1): Conv2d(64, 64, kernel_size=(3, 3), stride=(1, 1), padding=(1, 1), bias=False)\n",
       "        (bn2): BatchNorm2d(64, eps=1e-05, momentum=0.1, affine=True, track_running_stats=True)\n",
       "        (conv2): Conv2d(64, 64, kernel_size=(3, 3), stride=(1, 1), padding=(1, 1), bias=False)\n",
       "        (shortcut): Sequential()\n",
       "      )\n",
       "      (1): PreActBlock(\n",
       "        (bn1): BatchNorm2d(64, eps=1e-05, momentum=0.1, affine=True, track_running_stats=True)\n",
       "        (conv1): Conv2d(64, 64, kernel_size=(3, 3), stride=(1, 1), padding=(1, 1), bias=False)\n",
       "        (bn2): BatchNorm2d(64, eps=1e-05, momentum=0.1, affine=True, track_running_stats=True)\n",
       "        (conv2): Conv2d(64, 64, kernel_size=(3, 3), stride=(1, 1), padding=(1, 1), bias=False)\n",
       "        (shortcut): Sequential()\n",
       "      )\n",
       "    )\n",
       "    (layer2): Sequential(\n",
       "      (0): PreActBlock(\n",
       "        (bn1): BatchNorm2d(64, eps=1e-05, momentum=0.1, affine=True, track_running_stats=True)\n",
       "        (conv1): Conv2d(64, 128, kernel_size=(3, 3), stride=(2, 2), padding=(1, 1), bias=False)\n",
       "        (bn2): BatchNorm2d(128, eps=1e-05, momentum=0.1, affine=True, track_running_stats=True)\n",
       "        (conv2): Conv2d(128, 128, kernel_size=(3, 3), stride=(1, 1), padding=(1, 1), bias=False)\n",
       "        (shortcut): Sequential(\n",
       "          (0): Conv2d(64, 128, kernel_size=(1, 1), stride=(2, 2), bias=False)\n",
       "        )\n",
       "      )\n",
       "      (1): PreActBlock(\n",
       "        (bn1): BatchNorm2d(128, eps=1e-05, momentum=0.1, affine=True, track_running_stats=True)\n",
       "        (conv1): Conv2d(128, 128, kernel_size=(3, 3), stride=(1, 1), padding=(1, 1), bias=False)\n",
       "        (bn2): BatchNorm2d(128, eps=1e-05, momentum=0.1, affine=True, track_running_stats=True)\n",
       "        (conv2): Conv2d(128, 128, kernel_size=(3, 3), stride=(1, 1), padding=(1, 1), bias=False)\n",
       "        (shortcut): Sequential()\n",
       "      )\n",
       "    )\n",
       "    (layer3): Sequential(\n",
       "      (0): PreActBlock(\n",
       "        (bn1): BatchNorm2d(128, eps=1e-05, momentum=0.1, affine=True, track_running_stats=True)\n",
       "        (conv1): Conv2d(128, 256, kernel_size=(3, 3), stride=(2, 2), padding=(1, 1), bias=False)\n",
       "        (bn2): BatchNorm2d(256, eps=1e-05, momentum=0.1, affine=True, track_running_stats=True)\n",
       "        (conv2): Conv2d(256, 256, kernel_size=(3, 3), stride=(1, 1), padding=(1, 1), bias=False)\n",
       "        (shortcut): Sequential(\n",
       "          (0): Conv2d(128, 256, kernel_size=(1, 1), stride=(2, 2), bias=False)\n",
       "        )\n",
       "      )\n",
       "      (1): PreActBlock(\n",
       "        (bn1): BatchNorm2d(256, eps=1e-05, momentum=0.1, affine=True, track_running_stats=True)\n",
       "        (conv1): Conv2d(256, 256, kernel_size=(3, 3), stride=(1, 1), padding=(1, 1), bias=False)\n",
       "        (bn2): BatchNorm2d(256, eps=1e-05, momentum=0.1, affine=True, track_running_stats=True)\n",
       "        (conv2): Conv2d(256, 256, kernel_size=(3, 3), stride=(1, 1), padding=(1, 1), bias=False)\n",
       "        (shortcut): Sequential()\n",
       "      )\n",
       "    )\n",
       "    (layer4): Sequential(\n",
       "      (0): PreActBlock(\n",
       "        (bn1): BatchNorm2d(256, eps=1e-05, momentum=0.1, affine=True, track_running_stats=True)\n",
       "        (conv1): Conv2d(256, 512, kernel_size=(3, 3), stride=(2, 2), padding=(1, 1), bias=False)\n",
       "        (bn2): BatchNorm2d(512, eps=1e-05, momentum=0.1, affine=True, track_running_stats=True)\n",
       "        (conv2): Conv2d(512, 512, kernel_size=(3, 3), stride=(1, 1), padding=(1, 1), bias=False)\n",
       "        (shortcut): Sequential(\n",
       "          (0): Conv2d(256, 512, kernel_size=(1, 1), stride=(2, 2), bias=False)\n",
       "        )\n",
       "      )\n",
       "      (1): PreActBlock(\n",
       "        (bn1): BatchNorm2d(512, eps=1e-05, momentum=0.1, affine=True, track_running_stats=True)\n",
       "        (conv1): Conv2d(512, 512, kernel_size=(3, 3), stride=(1, 1), padding=(1, 1), bias=False)\n",
       "        (bn2): BatchNorm2d(512, eps=1e-05, momentum=0.1, affine=True, track_running_stats=True)\n",
       "        (conv2): Conv2d(512, 512, kernel_size=(3, 3), stride=(1, 1), padding=(1, 1), bias=False)\n",
       "        (shortcut): Sequential()\n",
       "      )\n",
       "    )\n",
       "    (linear): Linear(in_features=512, out_features=10, bias=True)\n",
       "  )\n",
       ")"
      ]
     },
     "execution_count": 212,
     "metadata": {},
     "output_type": "execute_result"
    }
   ],
   "source": [
    "\n",
    "# checkpoint = torch.load('./checkpoint/ckpt.t7' + params[\"name\"] + '_'\n",
    "#                             + str(params[\"seed\"]), map_location='cpu')\n",
    "\n",
    "# net_SampEps_32_10 = checkpoint['net']\n",
    "# net_SampEps_32_10.cuda()"
   ]
  },
  {
   "cell_type": "markdown",
   "id": "final-stroke",
   "metadata": {},
   "source": [
    "# Loading Data"
   ]
  },
  {
   "cell_type": "code",
   "execution_count": 202,
   "id": "junior-depression",
   "metadata": {},
   "outputs": [
    {
     "name": "stdout",
     "output_type": "stream",
     "text": [
      "==> Preparing data..\n"
     ]
    }
   ],
   "source": [
    "\n",
    "\n",
    "\n",
    "use_cuda = torch.cuda.is_available()\n",
    "\n",
    "best_acc = 0  # best test accuracy\n",
    "start_epoch = 0  # start from epoch 0 or last checkpoint epoch\n",
    "\n",
    "if params[\"seed\"] != 0:\n",
    "    torch.manual_seed(params[\"seed\"])\n",
    "\n",
    "# Data\n",
    "print('==> Preparing data..')\n",
    "if params[\"augment\"]:\n",
    "    transform_train = transforms.Compose([\n",
    "        transforms.RandomCrop(32, padding=4),\n",
    "        transforms.RandomHorizontalFlip(),\n",
    "        transforms.ToTensor(),\n",
    "        transforms.Normalize((0.4914, 0.4822, 0.4465),\n",
    "                             (0.2023, 0.1994, 0.2010)),\n",
    "    ])\n",
    "else:\n",
    "    print(\"no augmentation\")\n",
    "    transform_train = transforms.Compose([\n",
    "        transforms.ToTensor(),\n",
    "        transforms.Normalize((0.4914, 0.4822, 0.4465),\n",
    "                             (0.2023, 0.1994, 0.2010)),\n",
    "    ])\n",
    "\n",
    "\n",
    "transform_test = transforms.Compose([\n",
    "    transforms.ToTensor(),\n",
    "    transforms.Normalize((0.4914, 0.4822, 0.4465), (0.2023, 0.1994, 0.2010)),\n",
    "])\n",
    "\n",
    "trainset = datasets.CIFAR10(root='./data', train=True, download=False,\n",
    "                            transform=transform_train)\n",
    "trainloader = torch.utils.data.DataLoader(trainset,\n",
    "                                          batch_size=params[\"batch_size\"],\n",
    "                                          shuffle=True, num_workers=8)\n",
    "\n",
    "testset = datasets.CIFAR10(root='./data', train=False, download=False,\n",
    "                           transform=transform_test)\n",
    "testloader = torch.utils.data.DataLoader(testset, batch_size=100,\n",
    "                                         shuffle=False, num_workers=8)"
   ]
  },
  {
   "cell_type": "code",
   "execution_count": 222,
   "id": "statewide-freeware",
   "metadata": {},
   "outputs": [
    {
     "data": {
      "text/plain": [
       "(torch.Size([128, 3, 32, 32]), torch.Size([128]))"
      ]
     },
     "execution_count": 222,
     "metadata": {},
     "output_type": "execute_result"
    }
   ],
   "source": [
    "x, y = next(iter(trainloader))\n",
    "x.shape, y.shape"
   ]
  },
  {
   "cell_type": "markdown",
   "id": "individual-fundamental",
   "metadata": {},
   "source": [
    "# Creating Model "
   ]
  },
  {
   "cell_type": "code",
   "execution_count": 203,
   "id": "disabled-finish",
   "metadata": {},
   "outputs": [
    {
     "name": "stdout",
     "output_type": "stream",
     "text": [
      "==> Building model..\n",
      "3\n",
      "Using CUDA..\n"
     ]
    }
   ],
   "source": [
    "# Model\n",
    "if params[\"resume\"]:\n",
    "    # Load checkpoint.\n",
    "    print('==> Resuming from checkpoint..')\n",
    "    assert os.path.isdir('checkpoint'), 'Error: no checkpoint directory found!'\n",
    "    checkpoint = torch.load('./checkpoint/ckpt.t7' + params[\"name\"] + '_'\n",
    "                            + str(params[\"seed\"]), map_location='cpu')\n",
    "    \n",
    "    net = checkpoint['net']\n",
    "    best_acc = checkpoint['acc']\n",
    "    start_epoch = checkpoint['epoch'] + 1\n",
    "    rng_state = checkpoint['rng_state']\n",
    "    torch.set_rng_state(rng_state)\n",
    "else:\n",
    "    print('==> Building model..')\n",
    "    net = models.__dict__[params[\"model\"]]()\n",
    "\n",
    "if not os.path.isdir('results'):\n",
    "    os.mkdir('results')\n",
    "logname = ('results/log_' + net.__class__.__name__ + '_' + params[\"name\"] + '_'\n",
    "           + str(params[\"seed\"]) + '.csv')\n",
    "\n",
    "if use_cuda:\n",
    "    net = torch.nn.DataParallel(net)\n",
    "    net.to(f'cuda:{net.device_ids[0]}')\n",
    "    print(torch.cuda.device_count())\n",
    "    cudnn.benchmark = True\n",
    "    print('Using CUDA..')\n",
    "\n",
    "criterion = nn.CrossEntropyLoss()\n",
    "optimizer = optim.SGD(net.parameters(), lr=params[\"lr\"], momentum=0.9,\n",
    "                      weight_decay=params[\"decay\"])"
   ]
  },
  {
   "cell_type": "markdown",
   "id": "stopped-shareware",
   "metadata": {},
   "source": [
    "# Helping functions"
   ]
  },
  {
   "cell_type": "code",
   "execution_count": 185,
   "id": "reduced-multimedia",
   "metadata": {
    "scrolled": false
   },
   "outputs": [
    {
     "data": {
      "image/png": "[encoded data removed]",
      "text/plain": [
       "<Figure size 432x288 with 1 Axes>"
      ]
     },
     "metadata": {
      "needs_background": "light"
     },
     "output_type": "display_data"
    }
   ],
   "source": [
    "import matplotlib.pyplot as plt\n",
    "mu, sigma = .32, .08\n",
    "s = np.random.normal(mu, sigma, 1000)\n",
    "count, bins, ignored = plt.hist(s, 30, density=True)\n",
    "plt.plot(bins, 1/(sigma * np.sqrt(2 * np.pi)) *\n",
    "               np.exp( - (bins - mu)**2 / (2 * sigma**2) ), linewidth=2, color='r')\n",
    "plt.show()"
   ]
  },
  {
   "cell_type": "code",
   "execution_count": 204,
   "id": "innocent-court",
   "metadata": {},
   "outputs": [],
   "source": [
    "def advs_mix_err():\n",
    "    \n",
    "\n",
    "def mixup_data(x, y, alpha=1.0, use_cuda=True, advs_train=False, epsilon=.35):\n",
    "    '''Returns mixed inputs, pairs of targets, and lambda'''\n",
    "    if alpha > 0:\n",
    "        lam = np.random.beta(alpha, alpha)\n",
    "    else:\n",
    "        lam = 1\n",
    "\n",
    "    batch_size = x.size()[0]\n",
    "    if use_cuda:\n",
    "        index = torch.randperm(batch_size).cuda()\n",
    "    else:\n",
    "        index = torch.randperm(batch_size)\n",
    "    \n",
    "\n",
    "    \n",
    "    mixed_x = lam * x + (1 - lam) * x[index, :]\n",
    "    y_a, y_b = y, y[index]\n",
    "    \n",
    "    \n",
    "    \n",
    "    if advs_train:\n",
    "        \n",
    "        x_b = x[index, :]\n",
    "        \n",
    "        x_b.requires_grad_(True)\n",
    "        x.requires_grad_(True)\n",
    "        \n",
    "        out_a = net(x)\n",
    "        loss_a = criterion(out_a, y_a)\n",
    "        optimizer.zero_grad()\n",
    "        loss_a.backward()\n",
    "        \n",
    "        if type(epsilon) == tuple:\n",
    "            epsilon = np.random.beta(epsilon[0], epsilon[1])\n",
    "            \n",
    "        \n",
    "        err = torch.zeros_like(x)\n",
    "        with torch.no_grad():\n",
    "            err += epsilon * lam * x.grad.sign()\n",
    "\n",
    "        out_b = net(x_b)\n",
    "        loss_b = criterion(out_b, y_b)\n",
    "        optimizer.zero_grad()\n",
    "        loss_b.backward()\n",
    "        \n",
    "        with torch.no_grad():\n",
    "            err += epsilon * (1 - lam) * x_b.grad.sign()\n",
    "            \n",
    "        mixed_x += err\n",
    "        \n",
    "        \n",
    "        \n",
    "\n",
    "    return mixed_x, y_a, y_b, lam\n",
    "\n",
    "\n",
    "def mixup_criterion(criterion, pred, y_a, y_b, lam):\n",
    "    return lam * criterion(pred, y_a) + (1 - lam) * criterion(pred, y_b)\n",
    "\n",
    "\n",
    "def mixup_criterion_nMixes(criterion, pred, mixed_targs, wts):\n",
    "    '''Returns total criterion for total mixed images'''\n",
    "    \n",
    "    # accumulate total criterion as weighted sum of shuffled targets, weighted with wts \n",
    "    total_criterion = 0\n",
    "    for i in range(len(wts)):\n",
    "        total_criterion += wts[i]*criterion(pred, mixed_targs[:,i])\n",
    "    return(total_criterion)\n",
    "\n",
    "\n",
    "def train_mixup(epoch, advs_train=False, epsilon=.35):\n",
    "    print('\\nEpoch: %d' % epoch)\n",
    "    net.train()\n",
    "    train_loss = 0\n",
    "    reg_loss = 0\n",
    "    correct = 0\n",
    "    total = 0\n",
    "    for batch_idx, (inputs, targets) in enumerate(trainloader):\n",
    "        if use_cuda:\n",
    "            inputs, targets = inputs.cuda(), targets.cuda()\n",
    "                 \n",
    "        inputs, targets_a, targets_b, lam = mixup_data(inputs, targets,\n",
    "                                                       params[\"alpha\"], use_cuda, \n",
    "                                                       advs_train=advs_train, epsilon=epsilon)\n",
    "        \n",
    "        inputs, targets_a, targets_b = map(Variable, (inputs,\n",
    "                                                      targets_a, targets_b))\n",
    "        outputs = net(inputs)\n",
    "        loss = mixup_criterion(criterion, outputs, targets_a, targets_b, lam)\n",
    "        train_loss += loss.item()\n",
    "        _, predicted = torch.max(outputs.data, 1)\n",
    "        total += targets.size(0)\n",
    "        correct += (lam * predicted.eq(targets_a.data).cpu().sum().float()\n",
    "                    + (1 - lam) * predicted.eq(targets_b.data).cpu().sum().float())\n",
    "\n",
    "        optimizer.zero_grad()\n",
    "        loss.backward()\n",
    "        optimizer.step()\n",
    "\n",
    "        progress_bar(batch_idx, len(trainloader),\n",
    "                     'Loss: %.3f | Reg: %.5f | Acc: %.3f%% (%d/%d)'\n",
    "                     % (train_loss/(batch_idx+1), reg_loss/(batch_idx+1),\n",
    "                        100.*correct/total, correct, total))\n",
    "    return (train_loss/batch_idx, reg_loss/batch_idx, 100.*correct/total)\n",
    "\n",
    "\n",
    "def train_normal(epochs, advs_train=False , epsilon=.35, alpha=0.5):\n",
    "    print('\\nEpoch: %d' % epoch)\n",
    "    net.train()\n",
    "    train_loss = 0\n",
    "    reg_loss = 0\n",
    "    correct = 0\n",
    "    total = 0\n",
    "    for batch_idx, (inputs, targets) in enumerate(trainloader):\n",
    "        if use_cuda:\n",
    "            inputs, targets = inputs.cuda(), targets.cuda()\n",
    "        \n",
    "        outputs_normal = net(inputs)\n",
    "        loss_normal = criterion(outputs_normal, targets)\n",
    "        \n",
    "        if advs_train:\n",
    "            inputs_advs = fgsm(inputs, targets, eps=epsilon)\n",
    "            outputs_advs = net(inputs_advs)\n",
    "            loss_advs = criterion(outputs_advs, targets)\n",
    "            loss = ((1 - alpha) * loss_advs) + (alpha * loss_normal)\n",
    "        else:\n",
    "            loss = loss_normal\n",
    "        \n",
    "        optimizer.zero_grad()\n",
    "        loss.backward()\n",
    "        \n",
    "        train_loss += loss.item()\n",
    "        _, predicted = torch.max(outputs_normal.data, 1)\n",
    "        total += targets.size(0)\n",
    "        correct += predicted.eq(targets.data).cpu().sum().float()\n",
    "\n",
    "        optimizer.step()\n",
    "\n",
    "        progress_bar(batch_idx, len(trainloader),\n",
    "                     'Loss: %.3f | Reg: %.5f | Acc: %.3f%% (%d/%d)'\n",
    "                     % (train_loss/(batch_idx+1), reg_loss/(batch_idx+1),\n",
    "                        100.*correct/total, correct, total))\n",
    "        \n",
    "    return (train_loss/batch_idx, reg_loss/batch_idx, 100.*correct/total)\n",
    "\n",
    "\n",
    "def fgsm(x, y, eps=.35):\n",
    "    \n",
    "    x.requires_grad_(True)\n",
    "    out = net(x)\n",
    "    loss = criterion(out, y)\n",
    "    optimizer.zero_grad()\n",
    "    loss.backward()\n",
    "        \n",
    "    with torch.no_grad():\n",
    "        err = eps * x.grad.sign()    \n",
    "        x_advs = x + err\n",
    "\n",
    "    return x_advs\n",
    "\n",
    "def test(epoch):\n",
    "    global best_acc\n",
    "    net.eval()\n",
    "    test_loss = 0\n",
    "    correct = 0\n",
    "    total = 0\n",
    "    for batch_idx, (inputs, targets) in enumerate(testloader):\n",
    "        if use_cuda:\n",
    "            inputs, targets = inputs.cuda(), targets.cuda()\n",
    "        inputs, targets = Variable(inputs, volatile=True), Variable(targets)\n",
    "        outputs = net(inputs)\n",
    "        loss = criterion(outputs, targets)\n",
    "\n",
    "        test_loss += loss.item()\n",
    "        _, predicted = torch.max(outputs.data, 1)\n",
    "        total += targets.size(0)\n",
    "        correct += predicted.eq(targets.data).cpu().sum()\n",
    "\n",
    "        progress_bar(batch_idx, len(testloader),\n",
    "                     'Loss: %.3f | Acc: %.3f%% (%d/%d)'\n",
    "                     % (test_loss/(batch_idx+1), 100.*correct/total,\n",
    "                        correct, total))\n",
    "    acc = 100.*correct/total\n",
    "    if acc > best_acc:\n",
    "        best_acc = acc\n",
    "        checkpoint(acc, epoch)\n",
    "\n",
    "        \n",
    "    return (test_loss/batch_idx, 100.*correct/total)\n",
    "\n",
    "\n",
    "def checkpoint(acc, epoch):\n",
    "    # Save checkpoint.\n",
    "    print('Saving..')\n",
    "    state = {\n",
    "        'net': net,\n",
    "        'acc': acc,\n",
    "        'epoch': epoch,\n",
    "        'rng_state': torch.get_rng_state()\n",
    "    }\n",
    "    if not os.path.isdir('checkpoint'):\n",
    "        os.mkdir('checkpoint')\n",
    "    torch.save(state, './checkpoint/ckpt.t7' + params[\"name\"] + '_'\n",
    "               + str(params[\"seed\"]))\n",
    "\n",
    "\n",
    "def adjust_learning_rate(optimizer, epoch):\n",
    "    \"\"\"decrease the learning rate at 100 and 150 epoch\"\"\"\n",
    "    lr = params[\"lr\"]\n",
    "    if epoch >= 100:\n",
    "        lr /= 10\n",
    "    if epoch >= 150:\n",
    "        lr /= 10\n",
    "    for param_group in optimizer.param_groups:\n",
    "        param_group['lr'] = lr"
   ]
  },
  {
   "cell_type": "markdown",
   "id": "sapphire-spanish",
   "metadata": {},
   "source": [
    "# Training the model"
   ]
  },
  {
   "cell_type": "code",
   "execution_count": 205,
   "id": "forced-navigation",
   "metadata": {
    "scrolled": true
   },
   "outputs": [
    {
     "name": "stdout",
     "output_type": "stream",
     "text": [
      "\n",
      "Epoch: 0\n",
      " [=====================================================================================>]  Step: 163ms | Tot: 59s523ms | Loss: 2.305 | Reg: 0.00000 | Acc: 11.703% (5851/50000 391/391 \n",
      " [====>.................................................................................]  Step: 34ms | Tot: 155ms | Loss: 2.159 | Acc: 29.000% (174/600 6/100 \r"
     ]
    },
    {
     "name": "stderr",
     "output_type": "stream",
     "text": [
      "<ipython-input-204-8f50c73e32b1>:160: UserWarning: volatile was removed and now has no effect. Use `with torch.no_grad():` instead.\n",
      "  inputs, targets = Variable(inputs, volatile=True), Variable(targets)\n"
     ]
    },
    {
     "name": "stdout",
     "output_type": "stream",
     "text": [
      " [=====================================================================================>]  Step: 40ms | Tot: 3s623ms | Loss: 2.177 | Acc: 24.730% (2473/10000 100/100 0 ===================================================>............................]  Step: 37ms | Tot: 2s396ms | Loss: 2.178 | Acc: 24.779% (1685/6800 68/100 >............]  Step: 41ms | Tot: 3s101ms | Loss: 2.178 | Acc: 24.644% (2144/8700 87/100 ==============================================================================>.......]  Step: 39ms | Tot: 3s303ms | Loss: 2.178 | Acc: 24.728% (2275/9200 92/100 =>....]  Step: 42ms | Tot: 3s465ms | Loss: 2.177 | Acc: 24.708% (2372/9600 96/100 ======================================================>..]  Step: 39ms | Tot: 3s542ms | Loss: 2.177 | Acc: 24.704% (2421/9800 98/100 ======>.]  Step: 40ms | Tot: 3s583ms | Loss: 2.177 | Acc: 24.697% (2445/9900 99/100 \n",
      "Saving..\n",
      "\n",
      "Epoch: 1\n",
      " [=====================================================================================>]  Step: 161ms | Tot: 59s408ms | Loss: 2.269 | Reg: 0.00000 | Acc: 13.609% (6804/50000 391/391 \n",
      " [=====================================================================================>]  Step: 39ms | Tot: 3s592ms | Loss: 2.076 | Acc: 27.570% (2757/10000 100/100 100 44/100 ========>................................................]  Step: 32ms | Tot: 1s548ms | Loss: 2.075 | Acc: 28.156% (1267/4500 45/100 ================>.....................]  Step: 36ms | Tot: 2s654ms | Loss: 2.079 | Acc: 27.632% (2100/7600 76/100 ==============================================================>........]  Step: 42ms | Tot: 3s235ms | Loss: 2.077 | Acc: 27.736% (2524/9100 91/100 ===============>....]  Step: 38ms | Tot: 3s433ms | Loss: 2.077 | Acc: 27.646% (2654/9600 96/100 \n",
      "Saving..\n",
      "\n",
      "Epoch: 2\n",
      " [=====================================================================================>]  Step: 164ms | Tot: 1m362ms | Loss: 2.256 | Reg: 0.00000 | Acc: 14.649% (7324/50000 391/391  \n",
      " [===================================================================================>..]  Step: 42ms | Tot: 3s656ms | Loss: 1.990 | Acc: 27.827% (2727/9800 98/100 ...............................................]  Step: 35ms | Tot: 317ms | Loss: 1.982 | Acc: 26.000% (234/900 9/100 ........................................................]  Step: 35ms | Tot: 1s133ms | Loss: 1.987 | Acc: 27.516% (853/3100 31/100 36/100 ======>.......................................................]  Step: 42ms | Tot: 1s337ms | Loss: 1.988 | Acc: 27.784% (1028/3700 37/100 48/100 ====================>.................]  Step: 42ms | Tot: 2s986ms | Loss: 1.989 | Acc: 28.210% (2285/8100 81/100 88/100 89/10 94/100 ==========================================================================>.....]  Step: 45ms | Tot: 3s531ms | Loss: 1.990 | Acc: 27.853% (2646/9500 95/100 ========================================================>.]  Step: 30ms | Tot: 3s687ms | Loss: 1.989 | Acc: 27.828% (2755/99 99/100 ===========================================================>]  Step: 40ms | Tot: 3s728ms | Loss: 1.989 | Acc: 27.850% (2785/10000 100/100 \n",
      "Saving..\n",
      "\n",
      "Epoch: 3\n",
      " [=====================================================================================>]  Step: 166ms | Tot: 1m1s | Loss: 2.220 | Reg: 0.00000 | Acc: 16.766% (8383/50000 391/391 91  \n",
      " [=====================================================================================>]  Step: 38ms | Tot: 3s679ms | Loss: 2.099 | Acc: 23.510% (2351/10000 100/100 .....]  Step: 40ms | Tot: 1s275ms | Loss: 2.094 | Acc: 23.611% (850/3600 36/100 40/100 ..........................................]  Step: 45ms | Tot: 1s472ms | Loss: 2.097 | Acc: 23.585% (967/4100 41/10 55/100 =================================================>....................................]  Step: 38ms | Tot: 2s125ms | Loss: 2.100 | Acc: 23.655% (1372/5800 58/100 59/100   Step: 38ms | Tot: 2s837ms | Loss: 2.097 | Acc: 23.744% (1852/7800 78/10 80/100 ======================================================================>.........]  Step: 43ms | Tot: 3s281ms | Loss: 2.102 | Acc: 23.422% (2108/9000 90/100 \n",
      "\n",
      "Epoch: 4\n",
      " [=====================================================================================>]  Step: 159ms | Tot: 59s780ms | Loss: 2.088 | Reg: 0.00000 | Acc: 23.700% (11850/50000 391/391 \n",
      " [=====================================================================================>]  Step: 36ms | Tot: 3s677ms | Loss: 1.851 | Acc: 34.700% (3470/1000099/100 .................]  Step: 29ms | Tot: 1s507ms | Loss: 1.842 | Acc: 35.186% (1513/4300 43/100 ..............]  Step: 42ms | Tot: 2s575ms | Loss: 1.850 | Acc: 35.070% (2490/7100 71/10 89/10 92/100 >....]  Step: 41ms | Tot: 3s521ms | Loss: 1.852 | Acc: 34.729% (3334/9600 96/10 100/100 \n",
      "Saving..\n",
      "\n",
      "Epoch: 5\n",
      " [=====================================================================================>]  Step: 159ms | Tot: 1m991ms | Loss: 1.945 | Reg: 0.00000 | Acc: 31.555% (15777/50000 391/391  \n",
      " [=====================================================================================>]  Step: 38ms | Tot: 3s559ms | Loss: 1.752 | Acc: 34.670% (3467/10000 100/100 ...................]  Step: 34ms | Tot: 443ms | Loss: 1.759 | Acc: 33.357% (467/1400 14/100 ...............]  Step: 43ms | Tot: 821ms | Loss: 1.754 | Acc: 34.080% (852/2500 25/10 28/100 ========>.........]  Step: 40ms | Tot: 3s177ms | Loss: 1.754 | Acc: 34.256% (3083/9000 90/100 \n",
      "\n",
      "Epoch: 6\n",
      " [=====================================================================================>]  Step: 157ms | Tot: 1m229ms | Loss: 1.877 | Reg: 0.00000 | Acc: 35.148% (17574/50000 391/391  \n",
      " [=====================================================================================>]  Step: 44ms | Tot: 3s723ms | Loss: 1.707 | Acc: 37.350% (3735/10000 100/100 ..]  Step: 42ms | Tot: 3s239ms | Loss: 1.706 | Acc: 37.352% (3287/8800 88/100 >........]  Step: 39ms | Tot: 3s356ms | Loss: 1.707 | Acc: 37.396% (3403/9100 91/100 ...]  Step: 41ms | Tot: 3s554ms | Loss: 1.707 | Acc: 37.312% (3582/9600 96/100 97/100 \n",
      "Saving..\n",
      "\n",
      "Epoch: 7\n",
      " [==========>...........................................................................]  Step: 162ms | Tot: 7s654ms | Loss: 1.854 | Reg: 0.00000 | Acc: 35.722% (2240/6272 49/391 \r"
     ]
    },
    {
     "name": "stderr",
     "output_type": "stream",
     "text": [
      "IOPub message rate exceeded.\n",
      "The notebook server will temporarily stop sending output\n",
      "to the client in order to avoid crashing it.\n",
      "To change this limit, set the config variable\n",
      "`--NotebookApp.iopub_msg_rate_limit`.\n",
      "\n",
      "Current values:\n",
      "NotebookApp.iopub_msg_rate_limit=1000.0 (msgs/sec)\n",
      "NotebookApp.rate_limit_window=3.0 (secs)\n",
      "\n"
     ]
    },
    {
     "name": "stdout",
     "output_type": "stream",
     "text": [
      " [=====================================================================================>]  Step: 155ms | Tot: 1m1s | Loss: 1.183 | Reg: 0.00000 | Acc: 65.681% (32840/50000 391/391 91  \n",
      " [=====================================================================================>]  Step: 41ms | Tot: 3s787ms | Loss: 0.932 | Acc: 69.830% (6983/10000 100/100 ...............................................................................]  Step: 40ms | Tot: 316ms | Loss: 0.903 | Acc: 70.889% (638/900 9/100 26/10 41/100 ..................]  Step: 42ms | Tot: 2s144ms | Loss: 0.932 | Acc: 70.035% (3992/5700 57/100 ........]  Step: 32ms | Tot: 2s218ms | Loss: 0.932 | Acc: 70.000% (4130/5900 59/10 65/10 80/100 ===============>................]  Step: 39ms | Tot: 3s77ms | Loss: 0.928 | Acc: 70.256% (5761/8200 82/100 .........]  Step: 39ms | Tot: 3s156ms | Loss: 0.928 | Acc: 70.298% (5905/8400 84/100 92/10 93/100 \n",
      "\n",
      "Epoch: 32\n",
      " [=====================================================================================>]  Step: 156ms | Tot: 1m1s | Loss: 1.161 | Reg: 0.00000 | Acc: 66.695% (33347/50000 391/391 91  \n",
      " [=====================================================================================>]  Step: 40ms | Tot: 3s654ms | Loss: 0.908 | Acc: 73.270% (7327/10000 100/100 .........................]  Step: 35ms | Tot: 1s173ms | Loss: 0.906 | Acc: 73.000% (2409/3300 33/100 34/10 35/100 ....]  Step: 42ms | Tot: 1s406ms | Loss: 0.912 | Acc: 72.795% (2839/3900 39/100 =========>...]  Step: 43ms | Tot: 3s538ms | Loss: 0.907 | Acc: 73.309% (7111/9700 97/10 98/100 \n",
      "Saving..\n",
      "\n",
      "Epoch: 33\n",
      " [=====================================================================================>]  Step: 158ms | Tot: 1m1s | Loss: 1.176 | Reg: 0.00000 | Acc: 66.611% (33305/50000 391/391 91  \n",
      " [=====================================================================================>]  Step: 45ms | Tot: 3s779ms | Loss: 0.987 | Acc: 67.260% (6726/10000 100/100 10 36/100 ...........................................]  Step: 49ms | Tot: 1s646ms | Loss: 0.985 | Acc: 67.489% (3037/4500 45/10 53/100 ======>.............]  Step: 43ms | Tot: 3s169ms | Loss: 0.983 | Acc: 67.576% (5744/8500 85/100 87/100 =============================================================>.........]  Step: 43ms | Tot: 3s372ms | Loss: 0.986 | Acc: 67.478% (6073/9000 90/100 ====================>...]  Step: 42ms | Tot: 3s653ms | Loss: 0.985 | Acc: 67.392% (6537/9700 97/100 \n",
      "\n",
      "Epoch: 34\n",
      " [=====================================================================================>]  Step: 155ms | Tot: 1m1s | Loss: 1.144 | Reg: 0.00000 | Acc: 67.667% (33833/50000 391/391 91  \n",
      " [====================================================================================>.]  Step: 43ms | Tot: 3s680ms | Loss: 1.068 | Acc: 65.677% (6502/9900 99/100 ======>.............................................................]  Step: 33ms | Tot: 1s5ms | Loss: 1.076 | Acc: 65.379% (1896/2900 29/100 ......................................]  Step: 39ms | Tot: 1s44ms | Loss: 1.075 | Acc: 65.467% (1964/3000 30/10 41/10 42/100 ........]  Step: 41ms | Tot: 1s920ms | Loss: 1.073 | Acc: 65.717% (3483/5300 53/100 ==============================================>.......................................]  Step: 45ms | Tot: 2s5ms | Loss: 1.075 | Acc: 65.655% (3611/5500 55/100 57/100 ==============================================================================>]  Step: 40ms | Tot: 3s721ms | Loss: 1.068 | Acc: 65.730% (6573/10000 100/100 \n",
      "\n",
      "Epoch: 35\n",
      " [=====================================================================================>]  Step: 158ms | Tot: 1m1s | Loss: 1.172 | Reg: 0.00000 | Acc: 66.225% (33112/50000 391/391 91  \n",
      " [=====================================================================================>]  Step: 45ms | Tot: 3s632ms | Loss: 0.911 | Acc: 72.170% (7217/1000099/100 10 21/100 ...........]  Step: 40ms | Tot: 825ms | Loss: 0.904 | Acc: 73.125% (1755/2400 24/100 .............................................................]  Step: 39ms | Tot: 865ms | Loss: 0.907 | Acc: 73.040% (1826/2500 25/100 ...........]  Step: 43ms | Tot: 985ms | Loss: 0.916 | Acc: 72.429% (2028/2800 28/10 30/100 ==============>...............]  Step: 30ms | Tot: 2s969ms | Loss: 0.909 | Acc: 72.361% (6006/8300 83/100 ========>..............]  Step: 32ms | Tot: 3s1ms | Loss: 0.910 | Acc: 72.357% (6078/8400 84/100 ==============>........]  Step: 39ms | Tot: 3s271ms | Loss: 0.913 | Acc: 72.220% (6572/9100 91/100 ====================>.......]  Step: 43ms | Tot: 3s314ms | Loss: 0.911 | Acc: 72.272% (6649/9200 92/100 95/100 ===>....]  Step: 38ms | Tot: 3s471ms | Loss: 0.911 | Acc: 72.271% (6938/9600 96/10 100/100 \n",
      "\n",
      "Epoch: 36\n",
      " [=====================================================================================>]  Step: 145ms | Tot: 1m1s | Loss: 1.107 | Reg: 0.00000 | Acc: 68.422% (34210/50000 391/391 91  \n",
      " [=====================================================================================>]  Step: 36ms | Tot: 3s690ms | Loss: 0.854 | Acc: 72.180% (7218/10000 100/100 .....................................................]  Step: 43ms | Tot: 204ms | Loss: 0.816 | Acc: 74.286% (520/700 7/100 56/100 ....................]  Step: 42ms | Tot: 2s360ms | Loss: 0.855 | Acc: 72.323% (4701/6500 65/10 67/100 81/10 97/100 \n",
      "\n",
      "Epoch: 37\n",
      " [===============================================>......................................]  Step: 161ms | Tot: 33s923ms | Loss: 1.194 | Reg: 0.00000 | Acc: 64.968% (17962/27648 216/391 \r"
     ]
    },
    {
     "name": "stderr",
     "output_type": "stream",
     "text": [
      "IOPub message rate exceeded.\n",
      "The notebook server will temporarily stop sending output\n",
      "to the client in order to avoid crashing it.\n",
      "To change this limit, set the config variable\n",
      "`--NotebookApp.iopub_msg_rate_limit`.\n",
      "\n",
      "Current values:\n",
      "NotebookApp.iopub_msg_rate_limit=1000.0 (msgs/sec)\n",
      "NotebookApp.rate_limit_window=3.0 (secs)\n",
      "\n"
     ]
    },
    {
     "name": "stdout",
     "output_type": "stream",
     "text": [
      " [=====================================================================================>]  Step: 167ms | Tot: 1m1s | Loss: 1.044 | Reg: 0.00000 | Acc: 70.654% (35327/50000 391/391 91  \n",
      " [=====================================================================================>]  Step: 38ms | Tot: 3s747ms | Loss: 0.740 | Acc: 77.580% (7758/10000 100/100 ...]  Step: 40ms | Tot: 897ms | Loss: 0.744 | Acc: 77.480% (1937/2500 25/10 26/100 64/100 95/100 \n",
      "\n",
      "Epoch: 63\n",
      " [=====================================================================================>]  Step: 159ms | Tot: 1m1s | Loss: 1.024 | Reg: 0.00000 | Acc: 71.086% (35542/50000 391/391 91  \n",
      " [===================================================================================>..]  Step: 41ms | Tot: 3s635ms | Loss: 0.753 | Acc: 78.459% (7689/9800 98/100 ..........]  Step: 46ms | Tot: 2s251ms | Loss: 0.753 | Acc: 78.484% (4866/6200 62/100 ]  Step: 46ms | Tot: 2s521ms | Loss: 0.753 | Acc: 78.406% (5410/6900 69/10 70/100 ====================================================>..........]  Step: 38ms | Tot: 3s275ms | Loss: 0.752 | Acc: 78.427% (6980/8900 89/100 ====================>.........]  Step: 41ms | Tot: 3s317ms | Loss: 0.752 | Acc: 78.433% (7059/9000 90/100 ==============================================================================>.....]  Step: 35ms | Tot: 3s517ms | Loss: 0.752 | Acc: 78.526% (7460/9500 95/10 97/100 ========>.]  Step: 43ms | Tot: 3s679ms | Loss: 0.752 | Acc: 78.475% (7769/9900 99/100 ===========================================================================>]  Step: 40ms | Tot: 3s719ms | Loss: 0.751 | Acc: 78.470% (7847/10000 100/100 \n",
      "\n",
      "Epoch: 64\n",
      " [=====================================================================================>]  Step: 151ms | Tot: 1m1s | Loss: 1.050 | Reg: 0.00000 | Acc: 70.207% (35103/50000 391/391 91  \n",
      " [=====================================================================================>]  Step: 40ms | Tot: 3s749ms | Loss: 0.718 | Acc: 80.570% (8057/10000 100/100 .......]  Step: 44ms | Tot: 921ms | Loss: 0.720 | Acc: 80.269% (2087/2600 26/100 .................................]  Step: 36ms | Tot: 1s78ms | Loss: 0.720 | Acc: 80.400% (2412/3000 30/100 ...........................]  Step: 41ms | Tot: 1s119ms | Loss: 0.720 | Acc: 80.387% (2492/3100 31/100 48/100 =========================>..........................................]  Step: 40ms | Tot: 1s871ms | Loss: 0.719 | Acc: 80.706% (4116/5100 51/100 83/100 ==>..........]  Step: 40ms | Tot: 3s303ms | Loss: 0.717 | Acc: 80.618% (7175/8900 89/100 92/100 ================================================================================>.....]  Step: 41ms | Tot: 3s541ms | Loss: 0.718 | Acc: 80.568% (7654/9500 95/100 \n",
      "\n",
      "Epoch: 65\n",
      " [=====================================================================================>]  Step: 158ms | Tot: 1m1s | Loss: 1.040 | Reg: 0.00000 | Acc: 70.872% (35435/50000 391/391 91  \n",
      " [=====================================================================================>]  Step: 39ms | Tot: 3s696ms | Loss: 0.670 | Acc: 81.070% (8107/1000099/100 ]  Step: 42ms | Tot: 1s204ms | Loss: 0.682 | Acc: 80.412% (2734/3400 34/100 =====>........................................................]  Step: 41ms | Tot: 1s246ms | Loss: 0.687 | Acc: 80.286% (2810/3500 35/100 39/100 ...]  Step: 39ms | Tot: 1s605ms | Loss: 0.677 | Acc: 80.909% (3560/44 44/10 51/100 ====================>........................]  Step: 38ms | Tot: 2s651ms | Loss: 0.673 | Acc: 80.904% (5906/7300 73/10 75/100 =========================>..........]  Step: 40ms | Tot: 3s253ms | Loss: 0.672 | Acc: 80.944% (7204/8900 89/100 ==================>......]  Step: 44ms | Tot: 3s420ms | Loss: 0.671 | Acc: 81.000% (7533/9300 93/100 =========>...]  Step: 45ms | Tot: 3s577ms | Loss: 0.670 | Acc: 81.062% (7863/9700 97/10 100/100 \n",
      "\n",
      "Epoch: 66\n",
      " [=====================================================================================>]  Step: 159ms | Tot: 1m1s | Loss: 1.021 | Reg: 0.00000 | Acc: 71.356% (35678/50000 391/391 91  \n",
      " [=====================================================================================>]  Step: 41ms | Tot: 3s641ms | Loss: 0.740 | Acc: 79.520% (7952/10000 100/100 ...............]  Step: 33ms | Tot: 1s408ms | Loss: 0.747 | Acc: 79.585% (3263/4100 41/100 .........]  Step: 44ms | Tot: 2s370ms | Loss: 0.743 | Acc: 79.478% (5325/6700 67/100 =====================>................]  Step: 34ms | Tot: 2s925ms | Loss: 0.742 | Acc: 79.439% (6514/8200 82/100 =>.........]  Step: 39ms | Tot: 3s239ms | Loss: 0.742 | Acc: 79.444% (7150/9000 90/100 ==============================>........]  Step: 42ms | Tot: 3s281ms | Loss: 0.741 | Acc: 79.516% (7236/9100 91/100 ===========>.......]  Step: 38ms | Tot: 3s320ms | Loss: 0.740 | Acc: 79.533% (7317/9200 92/100 \n",
      "\n",
      "Epoch: 67\n",
      " [=====================================================================================>]  Step: 152ms | Tot: 1m738ms | Loss: 0.996 | Reg: 0.00000 | Acc: 71.910% (35955/50000 391/391  \n",
      " [=====================================================================================>]  Step: 40ms | Tot: 3s635ms | Loss: 0.689 | Acc: 81.510% (8151/10000 100/100 ............]  Step: 41ms | Tot: 1s362ms | Loss: 0.702 | Acc: 80.667% (3146/3900 39/100 64/100 ==========================================>............]  Step: 42ms | Tot: 3s110ms | Loss: 0.692 | Acc: 81.391% (7081/8700 87/100 96/100 \n",
      "\n",
      "Epoch: 68\n",
      " [========================>.............................................................]  Step: 150ms | Tot: 17s143ms | Loss: 1.073 | Reg: 0.00000 | Acc: 69.754% (10178/14592 114/391 \r"
     ]
    },
    {
     "name": "stderr",
     "output_type": "stream",
     "text": [
      "IOPub message rate exceeded.\n",
      "The notebook server will temporarily stop sending output\n",
      "to the client in order to avoid crashing it.\n",
      "To change this limit, set the config variable\n",
      "`--NotebookApp.iopub_msg_rate_limit`.\n",
      "\n",
      "Current values:\n",
      "NotebookApp.iopub_msg_rate_limit=1000.0 (msgs/sec)\n",
      "NotebookApp.rate_limit_window=3.0 (secs)\n",
      "\n"
     ]
    },
    {
     "name": "stdout",
     "output_type": "stream",
     "text": [
      " [=====================================================================================>]  Step: 159ms | Tot: 59s336ms | Loss: 1.005 | Reg: 0.00000 | Acc: 71.144% (35571/50000 391/391 \n",
      " [=====================================================================================>]  Step: 39ms | Tot: 3s674ms | Loss: 0.530 | Acc: 85.900% (8590/10000 100/100 ================>...............................................................]  Step: 32ms | Tot: 948ms | Loss: 0.543 | Acc: 85.259% (2302/2700 27/100 =================>..............................................................]  Step: 36ms | Tot: 984ms | Loss: 0.543 | Acc: 85.321% (2389/2800 28/100 \n",
      "Saving..\n",
      "\n",
      "Epoch: 93\n",
      " [=====================================================================================>]  Step: 157ms | Tot: 59s500ms | Loss: 1.030 | Reg: 0.00000 | Acc: 70.157% (35078/50000 391/391 \n",
      " [=====================================================================================>]  Step: 37ms | Tot: 3s716ms | Loss: 0.527 | Acc: 86.020% (8602/10000 100/100 /10 83/100 .]  Step: 41ms | Tot: 3s276ms | Loss: 0.528 | Acc: 85.932% (7562/8800 88/100 \n",
      "Saving..\n",
      "\n",
      "Epoch: 94\n",
      " [=====================================================================================>]  Step: 149ms | Tot: 59s363ms | Loss: 1.017 | Reg: 0.00000 | Acc: 71.024% (35511/50000 391/391 \n",
      " [=====================================================================================>]  Step: 37ms | Tot: 3s716ms | Loss: 0.570 | Acc: 82.860% (8286/10000 100/100 0 ]  Step: 43ms | Tot: 1s978ms | Loss: 0.576 | Acc: 82.889% (4476/5400 54/10 89/100 \n",
      "\n",
      "Epoch: 95\n",
      " [=====================================================================================>]  Step: 151ms | Tot: 59s563ms | Loss: 1.043 | Reg: 0.00000 | Acc: 69.783% (34891/50000 391/391 \n",
      " [=====================================================================================>]  Step: 36ms | Tot: 3s673ms | Loss: 0.485 | Acc: 85.640% (8564/10000 100/100 \n",
      "\n",
      "Epoch: 96\n",
      " [=====================================================================================>]  Step: 150ms | Tot: 59s616ms | Loss: 1.012 | Reg: 0.00000 | Acc: 71.080% (35540/50000 391/391 \n",
      " [=====================================================================================>]  Step: 32ms | Tot: 3s698ms | Loss: 0.501 | Acc: 85.440% (8544/10000 100/100 \n",
      "\n",
      "Epoch: 97\n",
      " [=====================================================================================>]  Step: 153ms | Tot: 59s442ms | Loss: 1.050 | Reg: 0.00000 | Acc: 69.410% (34705/50000 391/391 \n",
      " [=====================================================================================>]  Step: 38ms | Tot: 3s659ms | Loss: 0.530 | Acc: 85.260% (8526/10000 100/100 \n",
      "\n",
      "Epoch: 98\n",
      " [==========================================>...........................................]  Step: 149ms | Tot: 29s564ms | Loss: 0.985 | Reg: 0.00000 | Acc: 71.850% (17933/24960 195/391 \r"
     ]
    },
    {
     "name": "stderr",
     "output_type": "stream",
     "text": [
      "IOPub message rate exceeded.\n",
      "The notebook server will temporarily stop sending output\n",
      "to the client in order to avoid crashing it.\n",
      "To change this limit, set the config variable\n",
      "`--NotebookApp.iopub_msg_rate_limit`.\n",
      "\n",
      "Current values:\n",
      "NotebookApp.iopub_msg_rate_limit=1000.0 (msgs/sec)\n",
      "NotebookApp.rate_limit_window=3.0 (secs)\n",
      "\n"
     ]
    },
    {
     "name": "stdout",
     "output_type": "stream",
     "text": [
      " [=====================================================================================>]  Step: 148ms | Tot: 58s779ms | Loss: 0.889 | Reg: 0.00000 | Acc: 74.949% (37474/50000 391/391 \n",
      " [=====================================================================================>]  Step: 35ms | Tot: 3s588ms | Loss: 0.392 | Acc: 88.910% (8891/10000 100/100 \n",
      "\n",
      "Epoch: 124\n",
      " [=====================================================================================>]  Step: 150ms | Tot: 57s868ms | Loss: 0.964 | Reg: 0.00000 | Acc: 71.811% (35905/50000 391/391 \n",
      " [=====================================================================================>]  Step: 42ms | Tot: 3s569ms | Loss: 0.407 | Acc: 89.320% (8932/10000 100/100 0 \n",
      "\n",
      "Epoch: 125\n",
      " [=====================================================================================>]  Step: 137ms | Tot: 57s861ms | Loss: 0.949 | Reg: 0.00000 | Acc: 72.501% (36250/50000 391/391 \n",
      " [=====================================================================================>]  Step: 38ms | Tot: 3s768ms | Loss: 0.391 | Acc: 89.780% (8978/10000 100/100 \n",
      "\n",
      "Epoch: 126\n",
      " [=====================================================================================>]  Step: 147ms | Tot: 57s937ms | Loss: 0.947 | Reg: 0.00000 | Acc: 72.206% (36103/50000 391/391 \n",
      " [=====================================================================================>]  Step: 31ms | Tot: 3s560ms | Loss: 0.412 | Acc: 89.350% (8935/10000 100/100 ===================================================>......................]  Step: 28ms | Tot: 2s657ms | Loss: 0.414 | Acc: 89.280% (6696/7500 75/100 \n",
      "\n",
      "Epoch: 127\n",
      " [=====================================================================================>]  Step: 151ms | Tot: 58s28ms | Loss: 0.940 | Reg: 0.00000 | Acc: 72.619% (36309/50000 391/391  \n",
      " [=====================================================================================>]  Step: 41ms | Tot: 3s571ms | Loss: 0.377 | Acc: 89.740% (8974/10000 100/100 \n",
      "\n",
      "Epoch: 128\n",
      " [=====================================================================================>]  Step: 149ms | Tot: 58s91ms | Loss: 0.950 | Reg: 0.00000 | Acc: 72.536% (36267/50000 391/391  \n",
      " [=====================================================================================>]  Step: 36ms | Tot: 3s716ms | Loss: 0.382 | Acc: 89.730% (8973/10000 100/100 .........]  Step: 30ms | Tot: 1s671ms | Loss: 0.389 | Acc: 89.333% (4288/4800 48/100 \n",
      "\n",
      "Epoch: 129\n",
      " [======================================>...............................................]  Step: 151ms | Tot: 26s207ms | Loss: 0.923 | Reg: 0.00000 | Acc: 73.193% (16676/22784 178/391 \r"
     ]
    },
    {
     "name": "stderr",
     "output_type": "stream",
     "text": [
      "IOPub message rate exceeded.\n",
      "The notebook server will temporarily stop sending output\n",
      "to the client in order to avoid crashing it.\n",
      "To change this limit, set the config variable\n",
      "`--NotebookApp.iopub_msg_rate_limit`.\n",
      "\n",
      "Current values:\n",
      "NotebookApp.iopub_msg_rate_limit=1000.0 (msgs/sec)\n",
      "NotebookApp.rate_limit_window=3.0 (secs)\n",
      "\n"
     ]
    },
    {
     "name": "stdout",
     "output_type": "stream",
     "text": [
      " [=====================================================================================>]  Step: 154ms | Tot: 58s413ms | Loss: 0.926 | Reg: 0.00000 | Acc: 72.686% (36342/50000 391/391 \n",
      " [=====================================================================================>]  Step: 37ms | Tot: 3s588ms | Loss: 0.370 | Acc: 89.510% (8951/10000 100/100 ==========================================================>.........................]  Step: 34ms | Tot: 2s529ms | Loss: 0.372 | Acc: 89.324% (6342/7100 71/100 \n",
      "\n",
      "Epoch: 155\n",
      " [=====================================================================================>]  Step: 150ms | Tot: 58s478ms | Loss: 0.943 | Reg: 0.00000 | Acc: 72.265% (36132/50000 391/391 \n",
      " [=====================================================================================>]  Step: 36ms | Tot: 3s736ms | Loss: 0.405 | Acc: 89.630% (8963/10000 100/100 \n",
      "\n",
      "Epoch: 156\n",
      " [=====================================================================================>]  Step: 149ms | Tot: 58s447ms | Loss: 0.903 | Reg: 0.00000 | Acc: 73.635% (36817/50000 391/391 \n",
      " [=====================================================================================>]  Step: 38ms | Tot: 3s617ms | Loss: 0.375 | Acc: 90.120% (9012/10000 100/100 00 \n",
      "Saving..\n",
      "\n",
      "Epoch: 157\n",
      " [=====================================================================================>]  Step: 148ms | Tot: 58s530ms | Loss: 0.918 | Reg: 0.00000 | Acc: 73.544% (36772/50000 391/391 \n",
      " [=====================================================================================>]  Step: 33ms | Tot: 3s560ms | Loss: 0.396 | Acc: 89.910% (8991/10000 100/100 ..........................................................................]  Step: 35ms | Tot: 403ms | Loss: 0.377 | Acc: 90.846% (1181/1300 13/100 ..........................]  Step: 31ms | Tot: 972ms | Loss: 0.399 | Acc: 89.828% (2605/2900 29/100 \n",
      "\n",
      "Epoch: 158\n",
      " [=====================================================================================>]  Step: 153ms | Tot: 58s512ms | Loss: 0.919 | Reg: 0.00000 | Acc: 73.099% (36549/50000 391/391 \n",
      " [=====================================================================================>]  Step: 43ms | Tot: 3s797ms | Loss: 0.362 | Acc: 90.190% (9019/10000 100/100 .....................................................................]  Step: 201ms | Tot: 356ms | Loss: 0.338 | Acc: 90.429% (633/700 7/100 ....]  Step: 49ms | Tot: 2s90ms | Loss: 0.368 | Acc: 89.926% (4856/5400 54/100   Step: 43ms | Tot: 2s169ms | Loss: 0.368 | Acc: 90.018% (5041/5600 56/100 ..]  Step: 39ms | Tot: 2s242ms | Loss: 0.367 | Acc: 90.034% (5222/5800 58/100 \n",
      "Saving..\n",
      "\n",
      "Epoch: 159\n",
      " [=====================================================================================>]  Step: 144ms | Tot: 58s290ms | Loss: 0.902 | Reg: 0.00000 | Acc: 73.435% (36717/50000 391/391 \n",
      " [=====================================================================================>]  Step: 34ms | Tot: 3s581ms | Loss: 0.370 | Acc: 89.910% (8991/10000 100/100 \n",
      "\n",
      "Epoch: 160\n",
      " [========================>.............................................................]  Step: 149ms | Tot: 16s608ms | Loss: 0.910 | Reg: 0.00000 | Acc: 72.998% (10464/14336 112/391 \r"
     ]
    },
    {
     "name": "stderr",
     "output_type": "stream",
     "text": [
      "IOPub message rate exceeded.\n",
      "The notebook server will temporarily stop sending output\n",
      "to the client in order to avoid crashing it.\n",
      "To change this limit, set the config variable\n",
      "`--NotebookApp.iopub_msg_rate_limit`.\n",
      "\n",
      "Current values:\n",
      "NotebookApp.iopub_msg_rate_limit=1000.0 (msgs/sec)\n",
      "NotebookApp.rate_limit_window=3.0 (secs)\n",
      "\n"
     ]
    },
    {
     "name": "stdout",
     "output_type": "stream",
     "text": [
      " [=====================================================================================>]  Step: 32ms | Tot: 3s552ms | Loss: 0.374 | Acc: 89.930% (8993/10000 100/100 ....]  Step: 32ms | Tot: 2s848ms | Loss: 0.374 | Acc: 89.864% (7279/8100 81/100 \n",
      "\n",
      "Epoch: 184\n",
      " [=====================================================================================>]  Step: 152ms | Tot: 59s383ms | Loss: 0.918 | Reg: 0.00000 | Acc: 72.963% (36481/50000 391/391 \n",
      " [=====================================================================================>]  Step: 37ms | Tot: 3s708ms | Loss: 0.378 | Acc: 90.120% (9012/10000 100/100   Step: 44ms | Tot: 3s388ms | Loss: 0.377 | Acc: 90.121% (8201/9100 91/100 \n",
      "\n",
      "Epoch: 185\n",
      " [=====================================================================================>]  Step: 152ms | Tot: 59s240ms | Loss: 0.910 | Reg: 0.00000 | Acc: 73.421% (36710/50000 391/391 \n",
      " [=====================================================================================>]  Step: 36ms | Tot: 3s604ms | Loss: 0.363 | Acc: 90.230% (9023/10000 100/100 ===========================================>........................................]  Step: 28ms | Tot: 1s909ms | Loss: 0.370 | Acc: 89.907% (4855/5400 54/100 \n",
      "\n",
      "Epoch: 186\n",
      " [=====================================================================================>]  Step: 153ms | Tot: 59s399ms | Loss: 0.907 | Reg: 0.00000 | Acc: 73.724% (36862/50000 391/391 \n",
      " [=====================================================================================>]  Step: 36ms | Tot: 3s649ms | Loss: 0.377 | Acc: 90.290% (9029/10000 100/100 \n",
      "\n",
      "Epoch: 187\n",
      " [=====================================================================================>]  Step: 150ms | Tot: 59s496ms | Loss: 0.905 | Reg: 0.00000 | Acc: 73.581% (36790/50000 391/391 \n",
      " [=====================================================================================>]  Step: 33ms | Tot: 3s612ms | Loss: 0.390 | Acc: 90.120% (9012/10000 100/100 \n",
      "\n",
      "Epoch: 188\n",
      " [=====================================================================================>]  Step: 153ms | Tot: 59s431ms | Loss: 0.923 | Reg: 0.00000 | Acc: 73.157% (36578/50000 391/391 \n",
      " [=====================================================================================>]  Step: 35ms | Tot: 3s625ms | Loss: 0.375 | Acc: 89.830% (8983/10000 100/100 \n",
      "\n",
      "Epoch: 189\n",
      " [=====================================================================================>]  Step: 155ms | Tot: 58s787ms | Loss: 0.883 | Reg: 0.00000 | Acc: 74.899% (37449/50000 391/391 \n",
      " [=====================================================================================>]  Step: 37ms | Tot: 3s653ms | Loss: 0.361 | Acc: 90.260% (9026/10000 100/100 .......................]  Step: 46ms | Tot: 274ms | Loss: 0.339 | Acc: 90.875% (727/800 8/100 ...........]  Step: 46ms | Tot: 1s527ms | Loss: 0.369 | Acc: 89.810% (3772/4200 42/100 \n",
      "\n",
      "Epoch: 190\n",
      " [===>..................................................................................]  Step: 151ms | Tot: 2s709ms | Loss: 1.083 | Reg: 0.00000 | Acc: 67.835% (1562/2304 18/391 \r"
     ]
    },
    {
     "name": "stderr",
     "output_type": "stream",
     "text": [
      "IOPub message rate exceeded.\n",
      "The notebook server will temporarily stop sending output\n",
      "to the client in order to avoid crashing it.\n",
      "To change this limit, set the config variable\n",
      "`--NotebookApp.iopub_msg_rate_limit`.\n",
      "\n",
      "Current values:\n",
      "NotebookApp.iopub_msg_rate_limit=1000.0 (msgs/sec)\n",
      "NotebookApp.rate_limit_window=3.0 (secs)\n",
      "\n"
     ]
    }
   ],
   "source": [
    "if not os.path.exists(logname):\n",
    "    with open(logname, 'w') as logfile:\n",
    "        logwriter = csv.writer(logfile, delimiter=',')\n",
    "        logwriter.writerow(['epoch', 'train loss', 'reg loss', 'train acc',\n",
    "                            'test loss', 'test acc'])\n",
    "\n",
    "mu = .32\n",
    "sig = .08\n",
    "for epoch in range(start_epoch, params[\"epoch\"]):\n",
    "    train_loss, reg_loss, train_acc = train_mixup(epoch, advs_train=True, epsilon=(1.,1.))\n",
    "    test_loss, test_acc = test(epoch)\n",
    "    adjust_learning_rate(optimizer, epoch)\n",
    "    with open(logname, 'a') as logfile:\n",
    "        logwriter = csv.writer(logfile, delimiter=',')\n",
    "        logwriter.writerow([epoch, train_loss, reg_loss, train_acc, test_loss,\n",
    "                            test_acc])"
   ]
  },
  {
   "cell_type": "markdown",
   "id": "flush-forth",
   "metadata": {},
   "source": [
    "# Robustness Evaluation"
   ]
  },
  {
   "cell_type": "code",
   "execution_count": 59,
   "id": "attempted-plaintiff",
   "metadata": {},
   "outputs": [],
   "source": [
    "def eval_robust(net, epsilon=0):\n",
    "#     net.cuda()\n",
    "#     net.to('cpu')\n",
    "\n",
    "    net.to(f'cuda:{net.device_ids[0]}')\n",
    "    net.eval()\n",
    "    incorrect = 0\n",
    "    total = 0\n",
    "    \n",
    "    for batch_idx, (normal_inpts, targets) in tqdm(enumerate(testloader)):\n",
    "        if use_cuda:\n",
    "            normal_inpts, targets = normal_inpts.cuda(), targets.cuda()\n",
    "#             normal_inpts, targets = normal_inpts.to('cuda:1'), targets.to('cuda:1')\n",
    "#         normal_inpts, targets = Variable(normal_inpts, volatile=True), Variable(targets)\n",
    "        normal_inpts.requires_grad_(True)\n",
    "        \n",
    "        outputs = net(normal_inpts)\n",
    "        loss = criterion(outputs, targets)\n",
    "        \n",
    "        optimizer.zero_grad()\n",
    "        loss.backward()\n",
    "        \n",
    "        \n",
    "        with torch.no_grad():\n",
    "            advers_inp = normal_inpts + (epsilon * normal_inpts.grad.sign())\n",
    "            advers_out = net(advers_inp)\n",
    "#             print(advers_out.cpu().data.shape)\n",
    "            normal_out = net(normal_inpts)\n",
    "            _,advs_predicted = torch.max(advers_out.data, 1)\n",
    "            _,normal_predicted = torch.max(normal_out.data, 1)\n",
    "    \n",
    "\n",
    "#         _, advs_predicted = torch.max(advs_predicted.data, 1)\n",
    "        total += targets.size(0)\n",
    "        incorrect += targets.size(0) - advs_predicted.eq(targets.data).sum()\n",
    "    \n",
    "    print(f'incorrects are: {incorrect} \\ntotal is: {total} \\nTop-1 error is {100.*incorrect/total}')\n",
    "        \n",
    "    return 100.*incorrect/total\n",
    "#     acc = 100.*correct/total\n",
    "#     return (test_loss/batch_idx, 100.*correct/total)"
   ]
  },
  {
   "cell_type": "code",
   "execution_count": 216,
   "id": "worthy-blink",
   "metadata": {},
   "outputs": [
    {
     "name": "stderr",
     "output_type": "stream",
     "text": [
      "100it [00:08, 11.19it/s]"
     ]
    },
    {
     "name": "stdout",
     "output_type": "stream",
     "text": [
      "incorrects are: 252 \n",
      "total is: 10000 \n",
      "Top-1 error is 2.5199999809265137\n"
     ]
    },
    {
     "name": "stderr",
     "output_type": "stream",
     "text": [
      "\n"
     ]
    },
    {
     "data": {
      "text/plain": [
       "tensor([97.4800])"
      ]
     },
     "execution_count": 216,
     "metadata": {},
     "output_type": "execute_result"
    }
   ],
   "source": [
    "to_acc_tensor([eval_robust(net_SampEps_32_10, .2)])"
   ]
  },
  {
   "cell_type": "code",
   "execution_count": 76,
   "id": "regional-petroleum",
   "metadata": {
    "scrolled": false
   },
   "outputs": [],
   "source": [
    "def robust_eval_range(net, points=15, delta=.04):\n",
    "    eps_list = [i * delta for i in list(range(points))]\n",
    "    top_one_errs = []\n",
    "    for i in eps_list:\n",
    "        top_one_errs.append(eval_robust(net, i))\n",
    "    return top_one_errs, eps_list"
   ]
  },
  {
   "cell_type": "code",
   "execution_count": 133,
   "id": "excess-france",
   "metadata": {},
   "outputs": [],
   "source": [
    "def to_acc_tensor(arr):\n",
    "    return 100 - torch.cat([i.reshape(1) for i in arr]).cpu()"
   ]
  },
  {
   "cell_type": "code",
   "execution_count": 218,
   "id": "straight-december",
   "metadata": {
    "scrolled": true
   },
   "outputs": [
    {
     "name": "stderr",
     "output_type": "stream",
     "text": [
      "100it [00:09, 10.97it/s]"
     ]
    },
    {
     "name": "stdout",
     "output_type": "stream",
     "text": [
      "incorrects are: 962 \n",
      "total is: 10000 \n",
      "Top-1 error is 9.619999885559082\n"
     ]
    },
    {
     "name": "stderr",
     "output_type": "stream",
     "text": [
      "\n",
      "100it [00:09, 11.08it/s]"
     ]
    },
    {
     "name": "stdout",
     "output_type": "stream",
     "text": [
      "incorrects are: 3857 \n",
      "total is: 10000 \n",
      "Top-1 error is 38.56999969482422\n"
     ]
    },
    {
     "name": "stderr",
     "output_type": "stream",
     "text": [
      "\n",
      "100it [00:09, 11.10it/s]"
     ]
    },
    {
     "name": "stdout",
     "output_type": "stream",
     "text": [
      "incorrects are: 2907 \n",
      "total is: 10000 \n",
      "Top-1 error is 29.06999969482422\n"
     ]
    },
    {
     "name": "stderr",
     "output_type": "stream",
     "text": [
      "\n",
      "100it [00:09, 10.88it/s]"
     ]
    },
    {
     "name": "stdout",
     "output_type": "stream",
     "text": [
      "incorrects are: 1199 \n",
      "total is: 10000 \n",
      "Top-1 error is 11.989999771118164\n"
     ]
    },
    {
     "name": "stderr",
     "output_type": "stream",
     "text": [
      "\n",
      "100it [00:09, 11.03it/s]"
     ]
    },
    {
     "name": "stdout",
     "output_type": "stream",
     "text": [
      "incorrects are: 402 \n",
      "total is: 10000 \n",
      "Top-1 error is 4.019999980926514\n"
     ]
    },
    {
     "name": "stderr",
     "output_type": "stream",
     "text": [
      "\n",
      "100it [00:09, 11.08it/s]"
     ]
    },
    {
     "name": "stdout",
     "output_type": "stream",
     "text": [
      "incorrects are: 252 \n",
      "total is: 10000 \n",
      "Top-1 error is 2.5199999809265137\n"
     ]
    },
    {
     "name": "stderr",
     "output_type": "stream",
     "text": [
      "\n",
      "100it [00:09, 11.07it/s]"
     ]
    },
    {
     "name": "stdout",
     "output_type": "stream",
     "text": [
      "incorrects are: 270 \n",
      "total is: 10000 \n",
      "Top-1 error is 2.700000047683716\n"
     ]
    },
    {
     "name": "stderr",
     "output_type": "stream",
     "text": [
      "\n",
      "100it [00:09, 10.95it/s]"
     ]
    },
    {
     "name": "stdout",
     "output_type": "stream",
     "text": [
      "incorrects are: 383 \n",
      "total is: 10000 \n",
      "Top-1 error is 3.8299999237060547\n"
     ]
    },
    {
     "name": "stderr",
     "output_type": "stream",
     "text": [
      "\n",
      "100it [00:09, 11.03it/s]"
     ]
    },
    {
     "name": "stdout",
     "output_type": "stream",
     "text": [
      "incorrects are: 612 \n",
      "total is: 10000 \n",
      "Top-1 error is 6.119999885559082\n"
     ]
    },
    {
     "name": "stderr",
     "output_type": "stream",
     "text": [
      "\n",
      "100it [00:09, 11.11it/s]"
     ]
    },
    {
     "name": "stdout",
     "output_type": "stream",
     "text": [
      "incorrects are: 1056 \n",
      "total is: 10000 \n",
      "Top-1 error is 10.559999465942383\n"
     ]
    },
    {
     "name": "stderr",
     "output_type": "stream",
     "text": [
      "\n",
      "100it [00:09, 11.11it/s]"
     ]
    },
    {
     "name": "stdout",
     "output_type": "stream",
     "text": [
      "incorrects are: 1779 \n",
      "total is: 10000 \n",
      "Top-1 error is 17.78999900817871\n"
     ]
    },
    {
     "name": "stderr",
     "output_type": "stream",
     "text": [
      "\n",
      "100it [00:09, 11.08it/s]"
     ]
    },
    {
     "name": "stdout",
     "output_type": "stream",
     "text": [
      "incorrects are: 2644 \n",
      "total is: 10000 \n",
      "Top-1 error is 26.439998626708984\n"
     ]
    },
    {
     "name": "stderr",
     "output_type": "stream",
     "text": [
      "\n",
      "100it [00:09, 10.81it/s]"
     ]
    },
    {
     "name": "stdout",
     "output_type": "stream",
     "text": [
      "incorrects are: 3681 \n",
      "total is: 10000 \n",
      "Top-1 error is 36.80999755859375\n"
     ]
    },
    {
     "name": "stderr",
     "output_type": "stream",
     "text": [
      "\n",
      "100it [00:09, 11.08it/s]"
     ]
    },
    {
     "name": "stdout",
     "output_type": "stream",
     "text": [
      "incorrects are: 4659 \n",
      "total is: 10000 \n",
      "Top-1 error is 46.59000015258789\n"
     ]
    },
    {
     "name": "stderr",
     "output_type": "stream",
     "text": [
      "\n",
      "100it [00:09, 10.91it/s]"
     ]
    },
    {
     "name": "stdout",
     "output_type": "stream",
     "text": [
      "incorrects are: 5499 \n",
      "total is: 10000 \n",
      "Top-1 error is 54.98999786376953\n"
     ]
    },
    {
     "name": "stderr",
     "output_type": "stream",
     "text": [
      "\n"
     ]
    }
   ],
   "source": [
    "# err_norm_advs, eps_list = robust_eval_range(net_norm_adv)\n",
    "# err35, eps_list = robust_eval_range(net35)\n",
    "# err25, eps_list = robust_eval_range(net25)\n",
    "# err45, eps_list = robust_eval_range(net45)\n",
    "# err_mixup, eps_list = robust_eval_range(net)\n",
    "# err_erm_noadvs, eps_list = robust_eval_range(net_ERM_noadvs)\n",
    "err_SampEps_32_08, eps_list = robust_eval_range(net_SampEps_32_10)\n",
    "# err05, eps_list = robust_eval_range(net)\n",
    "# err_SampEpsBeta_1_1, eps_list = robust_eval_range(net)"
   ]
  },
  {
   "cell_type": "code",
   "execution_count": 219,
   "id": "moved-tractor",
   "metadata": {
    "scrolled": false
   },
   "outputs": [
    {
     "data": {
      "image/png": "[encoded data removed]",
      "text/plain": [
       "<Figure size 800x640 with 1 Axes>"
      ]
     },
     "metadata": {
      "needs_background": "light"
     },
     "output_type": "display_data"
    }
   ],
   "source": [
    "from matplotlib.pyplot import figure\n",
    "\n",
    "figure(figsize=(10, 8), dpi=80)\n",
    "\n",
    "plt.xlabel('epsilon'); plt.ylabel('acc');\n",
    "\n",
    "\n",
    "plt.plot(eps_list, to_acc_tensor(err_SampEps_32_08), c='gray')\n",
    "plt.plot(eps_list, to_acc_tensor(err_SampEpsBeta_1_1), c='pink')\n",
    "plt.plot(eps_list, to_acc_tensor(err05))\n",
    "plt.plot(eps_list, to_acc_tensor(err25), c='purple')\n",
    "plt.plot(eps_list, to_acc_tensor(err35), c='r')\n",
    "plt.plot(eps_list, to_acc_tensor(err45), c='olive')\n",
    "plt.plot(eps_list, to_acc_tensor(err_mixup), c='b')\n",
    "plt.plot(eps_list, to_acc_tensor(err_erm_noadvs), c = 'darkgreen')\n",
    "plt.plot(eps_list, to_acc_tensor(err_norm_advs), c='black')\n",
    "\n",
    "plt.legend(['Mixup Advs NormalSamp(.32, .08)', 'Mixup Advs BetaSamp(1., 1.)', 'Mixup Advs .05', 'Mixup Advs .25', 'Mixup Advs .35', 'Mixup Advs .45', 'Vanilla Mixup', 'Vanilla Training', 'Normal Advs Training']);"
   ]
  },
  {
   "cell_type": "code",
   "execution_count": 164,
   "id": "affiliated-campus",
   "metadata": {},
   "outputs": [],
   "source": [
    "def imshow(img):\n",
    "#     img = img / 2 + 0.5     # unnormalize\n",
    "    npimg = img.numpy()\n",
    "    plt.imshow(np.transpose(npimg, (1, 2, 0)))\n",
    "#     plt.imshow(npimg)\n",
    "    plt.show()"
   ]
  },
  {
   "cell_type": "code",
   "execution_count": 337,
   "id": "located-forum",
   "metadata": {},
   "outputs": [
    {
     "data": {
      "text/plain": [
       "tensor(94.6600)"
      ]
     },
     "execution_count": 337,
     "metadata": {},
     "output_type": "execute_result"
    }
   ],
   "source": [
    "best_acc"
   ]
  },
  {
   "cell_type": "code",
   "execution_count": 186,
   "id": "comparative-visitor",
   "metadata": {},
   "outputs": [
    {
     "name": "stderr",
     "output_type": "stream",
     "text": [
      "Clipping input data to the valid range for imshow with RGB data ([0..1] for floats or [0..255] for integers).\n"
     ]
    },
    {
     "name": "stdout",
     "output_type": "stream",
     "text": [
      "true labels is 1 \n",
      " adversaliral predicted is tensor([6]) \n",
      " nomral is predictedtensor([1])\n"
     ]
    },
    {
     "data": {
      "image/png": "[encoded data removed]",
      "text/plain": [
       "<Figure size 432x288 with 1 Axes>"
      ]
     },
     "metadata": {
      "needs_background": "light"
     },
     "output_type": "display_data"
    },
    {
     "name": "stderr",
     "output_type": "stream",
     "text": [
      "Clipping input data to the valid range for imshow with RGB data ([0..1] for floats or [0..255] for integers).\n"
     ]
    },
    {
     "data": {
      "image/png": "[encoded data removed]",
      "text/plain": [
       "<Figure size 432x288 with 1 Axes>"
      ]
     },
     "metadata": {
      "needs_background": "light"
     },
     "output_type": "display_data"
    }
   ],
   "source": [
    "epsilon = .11\n",
    "i = random.randint(0,100)\n",
    "# i = 1\n",
    "\n",
    "\n",
    "normal_inpt = trainset[i][0].reshape(1,3,32,32).cuda()\n",
    "normal_inpt.requires_grad_(True)\n",
    "out = net(normal_inpt)\n",
    "\n",
    "target = torch.tensor([trainset[i][1]]).cuda()\n",
    "\n",
    "loss = criterion(out, target)\n",
    "\n",
    "optimizer.zero_grad()\n",
    "loss.backward()\n",
    "\n",
    "with torch.no_grad():\n",
    "    advers_inp = normal_inpt + (epsilon * normal_inpt.grad.sign())\n",
    "    advers_out = net(advers_inp)\n",
    "    normal_out = net(normal_inpt)\n",
    "    _,advs_predicted = torch.max(advers_out.cpu().data, 1)\n",
    "    _,normal_predicted = torch.max(normal_out.cpu().data, 1)\n",
    "    \n",
    "print(f'true labels is {target.item()} \\n adversaliral predicted is {advs_predicted} \\n nomral is predicted{normal_predicted}')\n",
    "\n",
    "imshow(normal_inpt.cpu().detach().squeeze())\n",
    "imshow(advers_inp.cpu().detach().squeeze())"
   ]
  },
  {
   "cell_type": "code",
   "execution_count": 264,
   "id": "inclusive-conspiracy",
   "metadata": {},
   "outputs": [
    {
     "data": {
      "text/plain": [
       "tensor(-2.4291)"
      ]
     },
     "execution_count": 264,
     "metadata": {},
     "output_type": "execute_result"
    }
   ],
   "source": [
    "# advers_out = net(advers_inp) #+ (epsilon * normal_inpt.grad.sign())\n",
    "# print(advers_out)\n",
    "mx = 100\n",
    "for j in range(1000):\n",
    "    i = random.randint(0,3000)\n",
    "    if torch.min(torch.min(trainset[i][0], -1)[0], -1)[0][0] < mx:\n",
    "        mx = torch.min(torch.min(trainset[i][0], -1)[0], -1)[0][0]\n",
    "mx"
   ]
  },
  {
   "cell_type": "code",
   "execution_count": 281,
   "id": "sufficient-repository",
   "metadata": {},
   "outputs": [
    {
     "data": {
      "text/html": [
       "<div>\n",
       "<style scoped>\n",
       "    .dataframe tbody tr th:only-of-type {\n",
       "        vertical-align: middle;\n",
       "    }\n",
       "\n",
       "    .dataframe tbody tr th {\n",
       "        vertical-align: top;\n",
       "    }\n",
       "\n",
       "    .dataframe thead th {\n",
       "        text-align: right;\n",
       "    }\n",
       "</style>\n",
       "<table border=\"1\" class=\"dataframe\">\n",
       "  <thead>\n",
       "    <tr style=\"text-align: right;\">\n",
       "      <th></th>\n",
       "      <th>epoch</th>\n",
       "      <th>train loss</th>\n",
       "      <th>reg loss</th>\n",
       "      <th>train acc</th>\n",
       "      <th>test loss</th>\n",
       "      <th>test acc</th>\n",
       "    </tr>\n",
       "  </thead>\n",
       "  <tbody>\n",
       "    <tr>\n",
       "      <th>0</th>\n",
       "      <td>0</td>\n",
       "      <td>1.854828</td>\n",
       "      <td>0.0</td>\n",
       "      <td>tensor(35.1079)</td>\n",
       "      <td>1.217799</td>\n",
       "      <td>tensor(57.0300)</td>\n",
       "    </tr>\n",
       "    <tr>\n",
       "      <th>1</th>\n",
       "      <td>1</td>\n",
       "      <td>1.580279</td>\n",
       "      <td>0.0</td>\n",
       "      <td>tensor(48.6740)</td>\n",
       "      <td>0.930699</td>\n",
       "      <td>tensor(69.6800)</td>\n",
       "    </tr>\n",
       "    <tr>\n",
       "      <th>2</th>\n",
       "      <td>2</td>\n",
       "      <td>1.464894</td>\n",
       "      <td>0.0</td>\n",
       "      <td>tensor(54.0907)</td>\n",
       "      <td>0.964110</td>\n",
       "      <td>tensor(68.2700)</td>\n",
       "    </tr>\n",
       "    <tr>\n",
       "      <th>3</th>\n",
       "      <td>3</td>\n",
       "      <td>1.409389</td>\n",
       "      <td>0.0</td>\n",
       "      <td>tensor(56.5027)</td>\n",
       "      <td>0.768147</td>\n",
       "      <td>tensor(76.2700)</td>\n",
       "    </tr>\n",
       "    <tr>\n",
       "      <th>4</th>\n",
       "      <td>4</td>\n",
       "      <td>1.358588</td>\n",
       "      <td>0.0</td>\n",
       "      <td>tensor(58.5401)</td>\n",
       "      <td>0.707272</td>\n",
       "      <td>tensor(78.8900)</td>\n",
       "    </tr>\n",
       "    <tr>\n",
       "      <th>...</th>\n",
       "      <td>...</td>\n",
       "      <td>...</td>\n",
       "      <td>...</td>\n",
       "      <td>...</td>\n",
       "      <td>...</td>\n",
       "      <td>...</td>\n",
       "    </tr>\n",
       "    <tr>\n",
       "      <th>195</th>\n",
       "      <td>195</td>\n",
       "      <td>0.770341</td>\n",
       "      <td>0.0</td>\n",
       "      <td>tensor(74.8484)</td>\n",
       "      <td>0.297381</td>\n",
       "      <td>tensor(95.1700)</td>\n",
       "    </tr>\n",
       "    <tr>\n",
       "      <th>196</th>\n",
       "      <td>196</td>\n",
       "      <td>0.745491</td>\n",
       "      <td>0.0</td>\n",
       "      <td>tensor(75.9486)</td>\n",
       "      <td>0.265202</td>\n",
       "      <td>tensor(95.3000)</td>\n",
       "    </tr>\n",
       "    <tr>\n",
       "      <th>197</th>\n",
       "      <td>197</td>\n",
       "      <td>0.749481</td>\n",
       "      <td>0.0</td>\n",
       "      <td>tensor(75.8501)</td>\n",
       "      <td>0.252477</td>\n",
       "      <td>tensor(95.4300)</td>\n",
       "    </tr>\n",
       "    <tr>\n",
       "      <th>198</th>\n",
       "      <td>198</td>\n",
       "      <td>0.763400</td>\n",
       "      <td>0.0</td>\n",
       "      <td>tensor(75.3202)</td>\n",
       "      <td>0.269733</td>\n",
       "      <td>tensor(95.2800)</td>\n",
       "    </tr>\n",
       "    <tr>\n",
       "      <th>199</th>\n",
       "      <td>199</td>\n",
       "      <td>0.747603</td>\n",
       "      <td>0.0</td>\n",
       "      <td>tensor(75.9354)</td>\n",
       "      <td>0.251721</td>\n",
       "      <td>tensor(95.3500)</td>\n",
       "    </tr>\n",
       "  </tbody>\n",
       "</table>\n",
       "<p>200 rows × 6 columns</p>\n",
       "</div>"
      ],
      "text/plain": [
       "     epoch  train loss  reg loss        train acc  test loss         test acc\n",
       "0        0    1.854828       0.0  tensor(35.1079)   1.217799  tensor(57.0300)\n",
       "1        1    1.580279       0.0  tensor(48.6740)   0.930699  tensor(69.6800)\n",
       "2        2    1.464894       0.0  tensor(54.0907)   0.964110  tensor(68.2700)\n",
       "3        3    1.409389       0.0  tensor(56.5027)   0.768147  tensor(76.2700)\n",
       "4        4    1.358588       0.0  tensor(58.5401)   0.707272  tensor(78.8900)\n",
       "..     ...         ...       ...              ...        ...              ...\n",
       "195    195    0.770341       0.0  tensor(74.8484)   0.297381  tensor(95.1700)\n",
       "196    196    0.745491       0.0  tensor(75.9486)   0.265202  tensor(95.3000)\n",
       "197    197    0.749481       0.0  tensor(75.8501)   0.252477  tensor(95.4300)\n",
       "198    198    0.763400       0.0  tensor(75.3202)   0.269733  tensor(95.2800)\n",
       "199    199    0.747603       0.0  tensor(75.9354)   0.251721  tensor(95.3500)\n",
       "\n",
       "[200 rows x 6 columns]"
      ]
     },
     "execution_count": 281,
     "metadata": {},
     "output_type": "execute_result"
    }
   ],
   "source": [
    "import pandas as pd\n",
    "df = pd.read_csv(\"results/log_ResNet_0_0.csv\")\n",
    "df"
   ]
  },
  {
   "cell_type": "code",
   "execution_count": 297,
   "id": "tropical-punch",
   "metadata": {},
   "outputs": [
    {
     "data": {
      "text/plain": [
       "tensor([1.0000])"
      ]
     },
     "execution_count": 297,
     "metadata": {},
     "output_type": "execute_result"
    }
   ],
   "source": [
    "torch.log(torch.tensor([torch.exp(torch.tensor(1.))]))"
   ]
  },
  {
   "cell_type": "code",
   "execution_count": null,
   "id": "heavy-computer",
   "metadata": {},
   "outputs": [],
   "source": []
  }
 ],
 "metadata": {
  "kernelspec": {
   "display_name": "hugging",
   "language": "python",
   "name": "hugging"
  },
  "language_info": {
   "codemirror_mode": {
    "name": "ipython",
    "version": 3
   },
   "file_extension": ".py",
   "mimetype": "text/x-python",
   "name": "python",
   "nbconvert_exporter": "python",
   "pygments_lexer": "ipython3",
   "version": "3.8.5"
  }
 },
 "nbformat": 4,
 "nbformat_minor": 5
}
