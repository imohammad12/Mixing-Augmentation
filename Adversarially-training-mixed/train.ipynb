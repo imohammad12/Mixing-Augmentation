{
 "cells": [
  {
   "cell_type": "code",
   "execution_count": 119,
   "id": "reserved-birmingham",
   "metadata": {},
   "outputs": [],
   "source": [
    "#!/usr/bin/env python3 -u\n",
    "# Copyright (c) 2017-present, Facebook, Inc.\n",
    "# All rights reserved.\n",
    "#\n",
    "# This source code is licensed under the license found in the LICENSE file in\n",
    "# the root directory of this source tree.\n",
    "from __future__ import print_function\n",
    "\n",
    "import argparse\n",
    "import csv\n",
    "import os\n",
    "\n",
    "import numpy as np\n",
    "import torch\n",
    "from torch.autograd import Variable\n",
    "import torch.backends.cudnn as cudnn\n",
    "import torch.nn as nn\n",
    "import torch.optim as optim\n",
    "import torchvision.transforms as transforms\n",
    "import torchvision.datasets as datasets\n",
    "\n",
    "import models\n",
    "from utils import progress_bar\n",
    "import matplotlib.pyplot as plt\n",
    "import numpy as np\n",
    "import pandas as pd\n",
    "import random\n",
    "from tqdm import tqdm\n",
    "import MixingFunctions\n",
    "import sys\n",
    "import importlib  \n",
    "\n",
    "function = importlib.import_module(\"Mixing-Augmentation.filters.attention.function\")\n",
    "attribution_methods = importlib.import_module(\"Mixing-Augmentation.filters.attention.filter_code.code.saliency.attribution_methods\")\n",
    "models_attention = importlib.import_module(\"Mixing-Augmentation.filters.attention.filter_code.code.models_attention\")\n",
    "filter_env = importlib.import_module(\"Mixing-Augmentation.filters.Environment.environment_apply\")\n",
    "\n",
    "importlib.reload(function)\n",
    "importlib.reload(attribution_methods)\n",
    "importlib.reload(models)\n",
    "importlib.reload(filter_env)\n",
    "# importlib.reload(MixingFunctions)\n",
    "\n",
    "\n",
    "params = {\n",
    "    \"lr\": .01,\n",
    "    \"resume\": False,\n",
    "    \"model\": \"ResNet18\",\n",
    "    \"name\": \"Attention-NoMix-NoAdvs\",\n",
    "    \"seed\": 10,\n",
    "    \"batch_size\": 128,\n",
    "    \"decay\": 5e-4, \n",
    "    \"augment\": True,\n",
    "    \"epoch\": 200,\n",
    "#     \"no_augment\": False,\n",
    "    \"alpha\": 1.,\n",
    "}\n",
    "\n",
    "# %cd ../../"
   ]
  },
  {
   "cell_type": "code",
   "execution_count": 115,
   "id": "innocent-structure",
   "metadata": {},
   "outputs": [],
   "source": [
    "%config Completer.use_jedi = False\n",
    "\n",
    "\n",
    "# checkpoint = torch.load('./checkpoint/ckpt.t7' + params[\"name\"] + '_'\n",
    "#                             + str(params[\"seed\"]), map_location='cpu')\n",
    "\n",
    "# net_VerticalMix_2Sets_SampEps_32_10 = checkpoint['net']\n",
    "# net_VerticalMix_2Sets_SampEps_32_10.cuda()"
   ]
  },
  {
   "cell_type": "code",
   "execution_count": 95,
   "id": "furnished-refrigerator",
   "metadata": {},
   "outputs": [
    {
     "name": "stdout",
     "output_type": "stream",
     "text": [
      "/home/m25dehgh/testing_codes/NNs\r\n"
     ]
    }
   ],
   "source": []
  },
  {
   "cell_type": "markdown",
   "id": "final-stroke",
   "metadata": {},
   "source": [
    "# Loading Data"
   ]
  },
  {
   "cell_type": "code",
   "execution_count": 96,
   "id": "junior-depression",
   "metadata": {},
   "outputs": [
    {
     "name": "stdout",
     "output_type": "stream",
     "text": [
      "==> Preparing data..\n"
     ]
    }
   ],
   "source": [
    "\n",
    "\n",
    "\n",
    "use_cuda = torch.cuda.is_available()\n",
    "\n",
    "best_acc = 0  # best test accuracy\n",
    "start_epoch = 0  # start from epoch 0 or last checkpoint epoch\n",
    "\n",
    "if params[\"seed\"] != 0:\n",
    "    torch.manual_seed(params[\"seed\"])\n",
    "\n",
    "# Data\n",
    "print('==> Preparing data..')\n",
    "if params[\"augment\"]:\n",
    "    transform_train = transforms.Compose([\n",
    "        transforms.RandomCrop(32, padding=4),\n",
    "        transforms.RandomHorizontalFlip(),\n",
    "        transforms.ToTensor(),\n",
    "        transforms.Normalize((0.4914, 0.4822, 0.4465),\n",
    "                             (0.2023, 0.1994, 0.2010)),\n",
    "    ])\n",
    "else:\n",
    "    print(\"no augmentation\")\n",
    "    transform_train = transforms.Compose([\n",
    "        transforms.ToTensor(),\n",
    "        transforms.Normalize((0.4914, 0.4822, 0.4465),\n",
    "                             (0.2023, 0.1994, 0.2010)),\n",
    "    ])\n",
    "\n",
    "\n",
    "transform_test = transforms.Compose([\n",
    "    transforms.ToTensor(),\n",
    "    transforms.Normalize((0.4914, 0.4822, 0.4465), (0.2023, 0.1994, 0.2010)),\n",
    "])\n",
    "\n",
    "trainset = datasets.CIFAR10(root='/home/m25dehgh/testing_codes/NNs/data', train=True, download=False,\n",
    "                            transform=transform_train)\n",
    "trainloader = torch.utils.data.DataLoader(trainset,\n",
    "                                          batch_size=params[\"batch_size\"],\n",
    "                                          shuffle=True, num_workers=8)\n",
    "\n",
    "testset = datasets.CIFAR10(root='/home/m25dehgh/testing_codes/NNs/data', train=False, download=False,\n",
    "                           transform=transform_test)\n",
    "testloader = torch.utils.data.DataLoader(testset, batch_size=100,\n",
    "                                         shuffle=False, num_workers=8)"
   ]
  },
  {
   "cell_type": "markdown",
   "id": "individual-fundamental",
   "metadata": {},
   "source": [
    "# Creating Model "
   ]
  },
  {
   "cell_type": "code",
   "execution_count": 97,
   "id": "disabled-finish",
   "metadata": {},
   "outputs": [
    {
     "name": "stdout",
     "output_type": "stream",
     "text": [
      "==> Building model..\n",
      "3\n",
      "Using CUDA..\n"
     ]
    }
   ],
   "source": [
    "# Model\n",
    "if params[\"resume\"]:\n",
    "    # Load checkpoint.\n",
    "    print('==> Resuming from checkpoint..')\n",
    "    assert os.path.isdir('checkpoint'), 'Error: no checkpoint directory found!'\n",
    "    checkpoint = torch.load('./checkpoint/ckpt.t7' + params[\"name\"] + '_'\n",
    "                            + str(params[\"seed\"]), map_location='cpu')\n",
    "    \n",
    "    net = checkpoint['net']\n",
    "    best_acc = checkpoint['acc']\n",
    "    start_epoch = checkpoint['epoch'] + 1\n",
    "    rng_state = checkpoint['rng_state']\n",
    "    torch.set_rng_state(rng_state)\n",
    "else:\n",
    "    print('==> Building model..')\n",
    "    net = models.__dict__[params[\"model\"]]()\n",
    "\n",
    "if not os.path.isdir('results'):\n",
    "    os.mkdir('results')\n",
    "logname = ('results/log_' + net.__class__.__name__ + '_' + params[\"name\"] + '_'\n",
    "           + str(params[\"seed\"]) + '.csv')\n",
    "\n",
    "if use_cuda:\n",
    "    net = torch.nn.DataParallel(net)\n",
    "    net.to('cuda:0')\n",
    "    print(torch.cuda.device_count())\n",
    "    cudnn.benchmark = True\n",
    "    print('Using CUDA..')\n",
    "\n",
    "criterion = nn.CrossEntropyLoss()\n",
    "optimizer = optim.SGD(net.parameters(), lr=params[\"lr\"], momentum=0.9,\n",
    "                      weight_decay=params[\"decay\"])"
   ]
  },
  {
   "cell_type": "markdown",
   "id": "stopped-shareware",
   "metadata": {},
   "source": [
    "# Helping functions"
   ]
  },
  {
   "cell_type": "code",
   "execution_count": 98,
   "id": "reduced-multimedia",
   "metadata": {
    "scrolled": false
   },
   "outputs": [
    {
     "data": {
      "image/png": "[encoded data removed]",
      "text/plain": [
       "<Figure size 432x288 with 1 Axes>"
      ]
     },
     "metadata": {
      "needs_background": "light"
     },
     "output_type": "display_data"
    }
   ],
   "source": [
    "import matplotlib.pyplot as plt\n",
    "mu, sigma = .32, .08\n",
    "s = np.random.normal(mu, sigma, 1000)\n",
    "# s = np.random.dirichlet(np.ones(2), 1000)[:,0]\n",
    "count, bins, ignored = plt.hist(s, 30, density=True)\n",
    "plt.plot(bins, 1/(sigma * np.sqrt(2 * np.pi)) *\n",
    "               np.exp( - (bins - mu)**2 / (2 * sigma**2) ), linewidth=2, color='r')\n",
    "plt.show()"
   ]
  },
  {
   "cell_type": "code",
   "execution_count": 105,
   "id": "innocent-court",
   "metadata": {},
   "outputs": [],
   "source": [
    "\n",
    "def mixup_data(x, y, alpha=1.0, use_cuda=True, advs_train=False, epsilon=.35):\n",
    "    '''Returns mixed inputs, pairs of targets, and lambda'''\n",
    "    if alpha > 0:\n",
    "        lam = np.random.beta(alpha, alpha)\n",
    "    else:\n",
    "        lam = 1\n",
    "\n",
    "    batch_size = x.size()[0]\n",
    "    if use_cuda:\n",
    "        index = torch.randperm(batch_size).cuda()\n",
    "    else:\n",
    "        index = torch.randperm(batch_size)\n",
    "    \n",
    "\n",
    "    \n",
    "    mixed_x = lam * x + (1 - lam) * x[index, :]\n",
    "    y_a, y_b = y, y[index]\n",
    "    \n",
    "    \n",
    "    \n",
    "    if advs_train:\n",
    "        \n",
    "        x_b = x[index, :]\n",
    "        \n",
    "        x_b.requires_grad_(True)\n",
    "        x.requires_grad_(True)\n",
    "        \n",
    "        out_a = net(x)\n",
    "        loss_a = criterion(out_a, y_a)\n",
    "        optimizer.zero_grad()\n",
    "        loss_a.backward()\n",
    "        \n",
    "        if type(epsilon) == tuple:\n",
    "            epsilon = np.random.normal(epsilon[0], epsilon[1])\n",
    "            \n",
    "        \n",
    "        err = torch.zeros_like(x)\n",
    "        with torch.no_grad():\n",
    "            err += epsilon * lam * x.grad.sign()\n",
    "\n",
    "        out_b = net(x_b)\n",
    "        loss_b = criterion(out_b, y_b)\n",
    "        optimizer.zero_grad()\n",
    "        loss_b.backward()\n",
    "        \n",
    "        with torch.no_grad():\n",
    "            err += epsilon * (1 - lam) * x_b.grad.sign()\n",
    "            \n",
    "        mixed_x += err\n",
    "        \n",
    "        \n",
    "        \n",
    "\n",
    "    return mixed_x, y_a, y_b, lam\n",
    "\n",
    "\n",
    "def mixup_criterion(criterion, pred, y_a, y_b, lam):\n",
    "    return lam * criterion(pred, y_a) + (1 - lam) * criterion(pred, y_b)\n",
    "\n",
    "def identity(x, payload=None):\n",
    "    return x\n",
    "\n",
    "def mixup_criterion_nMixes(criterion, pred, mixed_targs, wts):\n",
    "    '''Returns total criterion for total mixed images'''\n",
    "    \n",
    "    # accumulate total criterion as weighted sum of shuffled targets, weighted with wts \n",
    "    total_criterion = 0\n",
    "    for i in range(len(wts)):\n",
    "        total_criterion += wts[i]*criterion(pred, mixed_targs[:,i])\n",
    "    return(total_criterion)\n",
    "\n",
    "\n",
    "def advs_mix_err(x, mixed_targs, mixed_indices, wts, epsilon):\n",
    "    n_mix = mixed_indices.shape[0]\n",
    "    noise = torch.zeros_like(x)\n",
    "    \n",
    "    for i in range(n_mix):\n",
    "        x_batch = x[mixed_indices[i]] # ith column of mix_indices have the indices of ith batch of mixed data.\n",
    "        y_batch = mixed_targs[:, i]\n",
    "        \n",
    "        if type(epsilon) == tuple:\n",
    "            epsilon = np.random.normal(epsilon[0], epsilon[1])\n",
    "        \n",
    "        noise += wts[i] * fgsm(x_batch, mixed_targs[:, i], epsilon)\n",
    "        \n",
    "    return noise\n",
    "\n",
    "def attention_model():\n",
    "    baseAddr = './Mixing-Augmentation/filters/attention/filter_code'\n",
    "    weights = torch.load(f\"{baseAddr}/model.pth\")\n",
    "    if use_cuda:\n",
    "        model = models_attention.SimpleCNN('cifar10', 'CAM').cuda()\n",
    "    model.load_state_dict(weights['model'])\n",
    "\n",
    "\n",
    "    CAM_cifar10 = attribution_methods.CAM(model)\n",
    "    \n",
    "    return CAM_cifar10\n",
    "    \n",
    "\n",
    "def train_mixup(epoch, filter_function=identity, fliter_payload=None, mixup_func=mixup_data, nMix=2, advs_train=False , epsilon=.35):\n",
    "    print('\\nEpoch: %d' % epoch)\n",
    "    net.train()\n",
    "    train_loss = 0\n",
    "    reg_loss = 0\n",
    "    correct = 0\n",
    "    total = 0\n",
    "    \n",
    "    if type(epsilon) == tuple:\n",
    "        epsilon = np.random.normal(epsilon[0], epsilon[1])\n",
    "    \n",
    "    \n",
    "    for batch_idx, (inputs, targets) in enumerate(trainloader):\n",
    "        if use_cuda:\n",
    "            inputs, targets = inputs.cuda(), targets.cuda()\n",
    "                 \n",
    "        inputs = filter_function(inputs, payload=fliter_payload).float()\n",
    "        \n",
    "        mixed_x, mixed_targs, mixed_noise, wts = mixup_func(inputs, targets, nMix, net, criterion, epsilon=epsilon, advs_train=advs_train)\n",
    "        mixed_targs = mixed_targs.long()\n",
    "        \n",
    "\n",
    "        if advs_train == True:\n",
    "            with torch.no_grad():\n",
    "                mixed_x += mixed_noise\n",
    "            \n",
    "\n",
    "        outputs = net(mixed_x)\n",
    "        \n",
    "        loss = mixup_criterion_nMixes(criterion, outputs, mixed_targs, wts)\n",
    "        \n",
    "        train_loss += loss.item()\n",
    "        _, predicted = torch.max(outputs.data, 1)\n",
    "        total += targets.size(0)\n",
    "        \n",
    "        for i, lam in enumerate(wts):\n",
    "            correct += (lam * predicted.eq(mixed_targs[:, i].data).cpu().sum().float())\n",
    "\n",
    "        optimizer.zero_grad()\n",
    "        loss.backward()\n",
    "        optimizer.step()\n",
    "\n",
    "        progress_bar(batch_idx, len(trainloader),\n",
    "                     'Loss: %.3f | Reg: %.5f | Acc: %.3f%% (%d/%d)'\n",
    "                     % (train_loss/(batch_idx+1), reg_loss/(batch_idx+1),\n",
    "                        100.*correct/total, correct, total))\n",
    "    return (train_loss/batch_idx, reg_loss/batch_idx, 100.*correct/total)\n",
    "\n",
    "\n",
    "\n",
    "def train_normal(epochs, filter_function=identity, fliter_payload=None, advs_train=False , epsilon=.35, alpha=0.5):\n",
    "    print('\\nEpoch: %d' % epoch)\n",
    "    net.train()\n",
    "    train_loss = 0\n",
    "    reg_loss = 0\n",
    "    correct = 0\n",
    "    total = 0\n",
    "    for batch_idx, (inputs, targets) in enumerate(trainloader):\n",
    "        if use_cuda:\n",
    "            inputs, targets = inputs.cuda(), targets.cuda()\n",
    "        \n",
    "        inputs = filter_function(inputs, fliter_payload)\n",
    "        outputs_normal = net(inputs.float())\n",
    "        loss_normal = criterion(outputs_normal, targets)\n",
    "        \n",
    "        if advs_train:\n",
    "            inputs_advs = inputs + fgsm(inputs, targets, eps=epsilon)\n",
    "            outputs_advs = net(inputs_advs)\n",
    "            loss_advs = criterion(outputs_advs, targets)\n",
    "            loss = ((1 - alpha) * loss_advs) + (alpha * loss_normal)\n",
    "        else:\n",
    "            loss = loss_normal\n",
    "        \n",
    "        optimizer.zero_grad()\n",
    "        loss.backward()\n",
    "        \n",
    "        train_loss += loss.item()\n",
    "        _, predicted = torch.max(outputs_normal.data, 1)\n",
    "        total += targets.size(0)\n",
    "        correct += predicted.eq(targets.data).cpu().sum().float()\n",
    "\n",
    "        optimizer.step()\n",
    "\n",
    "        progress_bar(batch_idx, len(trainloader),\n",
    "                     'Loss: %.3f | Reg: %.5f | Acc: %.3f%% (%d/%d)'\n",
    "                     % (train_loss/(batch_idx+1), reg_loss/(batch_idx+1),\n",
    "                        100.*correct/total, correct, total))\n",
    "        \n",
    "    return (train_loss/batch_idx, reg_loss/batch_idx, 100.*correct/total)\n",
    "\n",
    "\n",
    "def fgsm(x, y, eps=.35):\n",
    "    \n",
    "    x.requires_grad_(True)\n",
    "    out = net(x)\n",
    "    loss = criterion(out, y)\n",
    "    optimizer.zero_grad()\n",
    "    loss.backward()\n",
    "        \n",
    "    with torch.no_grad():\n",
    "        err = eps * x.grad.sign()    \n",
    "\n",
    "    return err\n",
    "\n",
    "def test(epochs, filter_function=identity, fliter_payload=None,):\n",
    "    global best_acc\n",
    "    net.eval()\n",
    "    test_loss = 0\n",
    "    correct = 0\n",
    "    total = 0\n",
    "    for batch_idx, (inputs, targets) in enumerate(testloader):\n",
    "        if use_cuda:\n",
    "            inputs, targets = inputs.cuda(), targets.cuda()\n",
    "\n",
    "        inputs = filter_function(inputs, payload=fliter_payload).float()\n",
    "        \n",
    "        outputs = net(inputs)\n",
    "        loss = criterion(outputs, targets)\n",
    "\n",
    "        test_loss += loss.item()\n",
    "        _, predicted = torch.max(outputs.data, 1)\n",
    "        total += targets.size(0)\n",
    "        correct += predicted.eq(targets.data).cpu().sum()\n",
    "\n",
    "        progress_bar(batch_idx, len(testloader),\n",
    "                     'Loss: %.3f | Acc: %.3f%% (%d/%d)'\n",
    "                     % (test_loss/(batch_idx+1), 100.*correct/total,\n",
    "                        correct, total))\n",
    "    acc = 100.*correct/total\n",
    "    if acc > best_acc:\n",
    "        best_acc = acc\n",
    "        checkpoint(acc, epoch)\n",
    "\n",
    "        \n",
    "    return (test_loss/batch_idx, 100.*correct/total)\n",
    "\n",
    "\n",
    "def checkpoint(acc, epoch):\n",
    "    # Save checkpoint.\n",
    "    print('Saving..')\n",
    "    state = {\n",
    "        'net': net,\n",
    "        'acc': acc,\n",
    "        'epoch': epoch,\n",
    "        'rng_state': torch.get_rng_state()\n",
    "    }\n",
    "    if not os.path.isdir('checkpoint'):\n",
    "        os.mkdir('checkpoint')\n",
    "    torch.save(state, './checkpoint/ckpt.t7' + params[\"name\"] + '_'\n",
    "               + str(params[\"seed\"]))\n",
    "\n",
    "\n",
    "def adjust_learning_rate(optimizer, epoch):\n",
    "    \"\"\"decrease the learning rate at 100 and 150 epoch\"\"\"\n",
    "    lr = params[\"lr\"]\n",
    "    if epoch >= 100:\n",
    "        lr /= 10\n",
    "    if epoch >= 150:\n",
    "        lr /= 10\n",
    "    for param_group in optimizer.param_groups:\n",
    "        param_group['lr'] = lr"
   ]
  },
  {
   "cell_type": "markdown",
   "id": "sapphire-spanish",
   "metadata": {},
   "source": [
    "# Training the model"
   ]
  },
  {
   "cell_type": "markdown",
   "id": "beneficial-retreat",
   "metadata": {},
   "source": [
    "## loading attention model"
   ]
  },
  {
   "cell_type": "code",
   "execution_count": 100,
   "id": "private-croatia",
   "metadata": {},
   "outputs": [
    {
     "name": "stdout",
     "output_type": "stream",
     "text": [
      "Model Complete\n"
     ]
    }
   ],
   "source": [
    "model_att = attention_model()\n",
    "\n",
    "payload={'model':model_att,'mean':(0.4914, 0.4822, 0.4465),'std':(0.2023, 0.1994, 0.2010)}\n",
    "\n",
    "filter_env.augment_environment(x, payload={'mean':(0.4914, 0.4822, 0.4465),'std':(0.2023, 0.1994, 0.2010)})\n"
   ]
  },
  {
   "cell_type": "code",
   "execution_count": 106,
   "id": "forced-navigation",
   "metadata": {
    "scrolled": true
   },
   "outputs": [
    {
     "name": "stdout",
     "output_type": "stream",
     "text": [
      "\n",
      "Epoch: 52\n",
      " [=====================================================================================>]  Step: 127ms | Tot: 1m4s | Loss: 0.103 | Reg: 0.00000 | Acc: 96.366% (48183/50000 391/391 91  \n",
      " [=====================================================================================>]  Step: 90ms | Tot: 8s694ms | Loss: 0.401 | Acc: 88.410% (8841/10000 100/100 ..............................]  Step: 101ms | Tot: 2s398ms | Loss: 0.387 | Acc: 88.857% (2488/2800 28/100 ====>.................]  Step: 100ms | Tot: 7s34ms | Loss: 0.394 | Acc: 88.642% (7180/8100 81/100 ===============================================================>................]  Step: 101ms | Tot: 7s135ms | Loss: 0.393 | Acc: 88.671% (7271/8200 82/100 \n",
      "\n",
      "Epoch: 53\n",
      " [=====================================================================================>]  Step: 117ms | Tot: 1m5s | Loss: 0.097 | Reg: 0.00000 | Acc: 96.650% (48325/50000 391/391 91  \n",
      " [=====================================================================================>]  Step: 81ms | Tot: 8s661ms | Loss: 0.378 | Acc: 89.310% (8931/10000 100/100 =>............]  Step: 101ms | Tot: 7s498ms | Loss: 0.379 | Acc: 89.230% (7763/8700 87/100 \n",
      "\n",
      "Epoch: 54\n",
      " [=====================================================================================>]  Step: 111ms | Tot: 1m5s | Loss: 0.097 | Reg: 0.00000 | Acc: 96.642% (48321/50000 391/391 91  154/391 ================>................................................]  Step: 199ms | Tot: 29s74ms | Loss: 0.094 | Reg: 0.00000 | Acc: 96.825% (21441/22144 173/391 \n",
      " [=====================================================================================>]  Step: 84ms | Tot: 8s705ms | Loss: 0.364 | Acc: 89.200% (8920/10000 100/100 ...................................]  Step: 105ms | Tot: 1s27ms | Loss: 0.365 | Acc: 89.615% (1165/1300 13/100 42/100 \n",
      "\n",
      "Epoch: 55\n",
      " [=====================================================================================>]  Step: 117ms | Tot: 1m5s | Loss: 0.101 | Reg: 0.00000 | Acc: 96.384% (48192/50000 391/391 91  ........................................]  Step: 194ms | Tot: 4s921ms | Loss: 0.109 | Reg: 0.00000 | Acc: 96.146% (3692/3840 30/391 \n",
      " [=====================================================================================>]  Step: 86ms | Tot: 8s611ms | Loss: 0.386 | Acc: 89.100% (8910/10000 100/100 /100 54/100 \n",
      "\n",
      "Epoch: 56\n",
      " [=====================================================================================>]  Step: 113ms | Tot: 1m5s | Loss: 0.101 | Reg: 0.00000 | Acc: 96.534% (48267/50000 391/391 91  \n",
      " [=====================================================================================>]  Step: 73ms | Tot: 8s573ms | Loss: 0.395 | Acc: 88.690% (8869/10000 100/100 0 82/100 \n",
      "\n",
      "Epoch: 57\n",
      " [=====================================================================================>]  Step: 126ms | Tot: 1m4s | Loss: 0.097 | Reg: 0.00000 | Acc: 96.706% (48353/50000 391/391 91  340/391 \n",
      " [=====================================================================================>]  Step: 90ms | Tot: 8s408ms | Loss: 0.391 | Acc: 88.490% (8849/10000 100/100 5/100 \n",
      "\n",
      "Epoch: 58\n",
      " [=====================================================================================>]  Step: 106ms | Tot: 1m4s | Loss: 0.089 | Reg: 0.00000 | Acc: 96.962% (48481/50000 391/391 91  \n",
      " [=====================================================================================>]  Step: 83ms | Tot: 7s336ms | Loss: 0.453 | Acc: 88.170% (8817/10000 100/100 \n",
      "\n",
      "Epoch: 59\n",
      " [=====================================================================================>]  Step: 106ms | Tot: 1m280ms | Loss: 0.094 | Reg: 0.00000 | Acc: 96.794% (48397/50000 391/391  \n",
      " [=====================================================================================>]  Step: 73ms | Tot: 7s379ms | Loss: 0.470 | Acc: 87.450% (8745/10000 100/100 \n",
      "\n",
      "Epoch: 60\n",
      " [=====================================================================================>]  Step: 108ms | Tot: 1m434ms | Loss: 0.092 | Reg: 0.00000 | Acc: 96.746% (48373/50000 391/391  \n",
      " [=====================================================================================>]  Step: 77ms | Tot: 7s447ms | Loss: 0.385 | Acc: 89.570% (8957/10000 100/100 \n",
      "\n",
      "Epoch: 61\n",
      " [=====================================================================================>]  Step: 109ms | Tot: 1m305ms | Loss: 0.089 | Reg: 0.00000 | Acc: 96.884% (48442/50000 391/391  \n",
      " [=====================================================================================>]  Step: 72ms | Tot: 7s377ms | Loss: 0.386 | Acc: 88.600% (8860/10000 100/100 \n",
      "\n",
      "Epoch: 62\n",
      " [=====================================================================================>]  Step: 109ms | Tot: 1m399ms | Loss: 0.091 | Reg: 0.00000 | Acc: 96.764% (48382/50000 391/391  \n",
      " [=====================================================================================>]  Step: 76ms | Tot: 7s339ms | Loss: 0.432 | Acc: 88.320% (8832/10000 100/100 \n",
      "\n",
      "Epoch: 63\n",
      " [=====================================================================================>]  Step: 110ms | Tot: 1m669ms | Loss: 0.088 | Reg: 0.00000 | Acc: 96.978% (48489/50000 391/391  203/391 \n",
      " [=====================================================================================>]  Step: 70ms | Tot: 7s346ms | Loss: 0.364 | Acc: 89.470% (8947/10000 100/100 \n",
      "\n",
      "Epoch: 64\n",
      " [=====================================================================================>]  Step: 113ms | Tot: 1m464ms | Loss: 0.089 | Reg: 0.00000 | Acc: 96.956% (48478/50000 391/391  \n",
      " [=====================================================================================>]  Step: 75ms | Tot: 7s435ms | Loss: 0.389 | Acc: 89.450% (8945/10000 100/100 \n",
      "\n",
      "Epoch: 65\n",
      " [=====================================================================================>]  Step: 108ms | Tot: 1m307ms | Loss: 0.088 | Reg: 0.00000 | Acc: 96.904% (48452/50000 391/391  \n",
      " [=====================================================================================>]  Step: 72ms | Tot: 7s419ms | Loss: 0.382 | Acc: 88.990% (8899/10000 100/100 \n",
      "\n",
      "Epoch: 66\n",
      " [=====================================================================================>]  Step: 106ms | Tot: 1m213ms | Loss: 0.089 | Reg: 0.00000 | Acc: 96.870% (48435/50000 391/391  \n",
      " [=====================================================================================>]  Step: 75ms | Tot: 7s301ms | Loss: 0.385 | Acc: 89.160% (8916/10000 100/100 \n",
      "\n",
      "Epoch: 67\n",
      " [=====================================================================================>]  Step: 119ms | Tot: 1m493ms | Loss: 0.087 | Reg: 0.00000 | Acc: 97.058% (48529/50000 391/391  \n",
      " [=====================================================================================>]  Step: 75ms | Tot: 7s545ms | Loss: 0.378 | Acc: 89.350% (8935/10000 100/100 \n",
      "\n",
      "Epoch: 68\n",
      " [=====================================================================================>]  Step: 123ms | Tot: 1m848ms | Loss: 0.086 | Reg: 0.00000 | Acc: 97.018% (48509/50000 391/391  \n",
      " [=====================================================================================>]  Step: 75ms | Tot: 7s421ms | Loss: 0.380 | Acc: 89.240% (8924/10000 100/100 \n",
      "\n",
      "Epoch: 69\n",
      " [=====================================================================================>]  Step: 115ms | Tot: 1m797ms | Loss: 0.087 | Reg: 0.00000 | Acc: 96.976% (48488/50000 391/391  \n",
      " [=====================================================================================>]  Step: 70ms | Tot: 7s552ms | Loss: 0.408 | Acc: 88.780% (8878/10000 100/100 \n",
      "\n",
      "Epoch: 70\n",
      " [=====================================================================================>]  Step: 107ms | Tot: 1m892ms | Loss: 0.086 | Reg: 0.00000 | Acc: 97.036% (48518/50000 391/391  \n",
      " [=====================================================================================>]  Step: 71ms | Tot: 7s381ms | Loss: 0.400 | Acc: 88.930% (8893/10000 100/100 \n",
      "\n",
      "Epoch: 71\n",
      " [=====================================================================================>]  Step: 115ms | Tot: 1m878ms | Loss: 0.086 | Reg: 0.00000 | Acc: 97.004% (48502/50000 391/391  \n",
      " [=====================================================================================>]  Step: 76ms | Tot: 7s476ms | Loss: 0.421 | Acc: 88.630% (8863/10000 100/100 \n",
      "\n",
      "Epoch: 72\n"
     ]
    },
    {
     "name": "stdout",
     "output_type": "stream",
     "text": [
      " [=====================================================================================>]  Step: 108ms | Tot: 1m1s | Loss: 0.080 | Reg: 0.00000 | Acc: 97.242% (48621/50000 391/391 91  \n",
      " [=====================================================================================>]  Step: 73ms | Tot: 7s521ms | Loss: 0.476 | Acc: 87.820% (8782/10000 100/100 \n",
      "\n",
      "Epoch: 73\n",
      " [=====================================================================================>]  Step: 106ms | Tot: 1m1s | Loss: 0.085 | Reg: 0.00000 | Acc: 97.056% (48528/50000 391/391 91  \n",
      " [=====================================================================================>]  Step: 72ms | Tot: 7s522ms | Loss: 0.397 | Acc: 88.430% (8843/10000 100/100 \n",
      "\n",
      "Epoch: 74\n",
      " [=====================================================================================>]  Step: 113ms | Tot: 1m1s | Loss: 0.086 | Reg: 0.00000 | Acc: 96.984% (48492/50000 391/391 91  \n",
      " [=====================================================================================>]  Step: 87ms | Tot: 7s526ms | Loss: 0.369 | Acc: 89.900% (8990/10000 100/100 \n",
      "\n",
      "Epoch: 75\n",
      " [=====================================================================================>]  Step: 109ms | Tot: 1m937ms | Loss: 0.088 | Reg: 0.00000 | Acc: 97.012% (48506/50000 391/391  \n",
      " [=====================================================================================>]  Step: 72ms | Tot: 7s529ms | Loss: 0.422 | Acc: 88.690% (8869/10000 100/100 \n",
      "\n",
      "Epoch: 76\n",
      " [=====================================================================================>]  Step: 108ms | Tot: 1m1s | Loss: 0.081 | Reg: 0.00000 | Acc: 97.252% (48626/50000 391/391 91  \n",
      " [=====================================================================================>]  Step: 73ms | Tot: 7s458ms | Loss: 0.441 | Acc: 88.360% (8836/10000 100/100 \n",
      "\n",
      "Epoch: 77\n",
      " [=====================================================================================>]  Step: 111ms | Tot: 1m759ms | Loss: 0.082 | Reg: 0.00000 | Acc: 97.138% (48569/50000 391/391  \n",
      " [=====================================================================================>]  Step: 87ms | Tot: 7s459ms | Loss: 0.384 | Acc: 89.000% (8900/10000 100/100 \n",
      "\n",
      "Epoch: 78\n",
      " [=====================================================================================>]  Step: 113ms | Tot: 1m902ms | Loss: 0.082 | Reg: 0.00000 | Acc: 97.078% (48539/50000 391/391  \n",
      " [=====================================================================================>]  Step: 73ms | Tot: 7s524ms | Loss: 0.418 | Acc: 88.200% (8820/10000 100/100 \n",
      "\n",
      "Epoch: 79\n",
      " [=====================================================================================>]  Step: 105ms | Tot: 1m1s | Loss: 0.079 | Reg: 0.00000 | Acc: 97.222% (48611/50000 391/391 91  \n",
      " [=====================================================================================>]  Step: 75ms | Tot: 7s518ms | Loss: 0.386 | Acc: 89.380% (8938/10000 100/100 \n",
      "\n",
      "Epoch: 80\n",
      " [=====================================================================================>]  Step: 109ms | Tot: 1m593ms | Loss: 0.081 | Reg: 0.00000 | Acc: 97.174% (48587/50000 391/391  \n",
      " [=====================================================================================>]  Step: 70ms | Tot: 7s397ms | Loss: 0.562 | Acc: 85.840% (8584/10000 100/100 \n",
      "\n",
      "Epoch: 81\n",
      " [=====================================================================================>]  Step: 106ms | Tot: 1m639ms | Loss: 0.078 | Reg: 0.00000 | Acc: 97.312% (48656/50000 391/391  \n",
      " [=====================================================================================>]  Step: 70ms | Tot: 7s409ms | Loss: 0.418 | Acc: 89.090% (8909/10000 100/100 \n",
      "\n",
      "Epoch: 82\n",
      " [=====================================================================================>]  Step: 116ms | Tot: 1m661ms | Loss: 0.083 | Reg: 0.00000 | Acc: 97.088% (48544/50000 391/391  \n",
      " [=====================================================================================>]  Step: 72ms | Tot: 7s409ms | Loss: 0.447 | Acc: 87.930% (8793/10000 100/100 \n",
      "\n",
      "Epoch: 83\n",
      " [=====================================================================================>]  Step: 111ms | Tot: 1m465ms | Loss: 0.080 | Reg: 0.00000 | Acc: 97.234% (48617/50000 391/391  \n",
      " [=====================================================================================>]  Step: 74ms | Tot: 7s383ms | Loss: 0.445 | Acc: 87.820% (8782/10000 100/100 \n",
      "\n",
      "Epoch: 84\n",
      " [=====================================================================================>]  Step: 109ms | Tot: 1m335ms | Loss: 0.083 | Reg: 0.00000 | Acc: 97.114% (48557/50000 391/391  \n",
      " [=====================================================================================>]  Step: 74ms | Tot: 7s546ms | Loss: 0.399 | Acc: 88.590% (8859/10000 100/100 \n",
      "\n",
      "Epoch: 85\n",
      " [=====================================================================================>]  Step: 110ms | Tot: 1m160ms | Loss: 0.080 | Reg: 0.00000 | Acc: 97.122% (48561/50000 391/391  \n",
      " [=====================================================================================>]  Step: 72ms | Tot: 7s379ms | Loss: 0.391 | Acc: 88.990% (8899/10000 100/100 \n",
      "\n",
      "Epoch: 86\n",
      " [=====================================================================================>]  Step: 110ms | Tot: 1m342ms | Loss: 0.079 | Reg: 0.00000 | Acc: 97.264% (48632/50000 391/391  \n",
      " [=====================================================================================>]  Step: 70ms | Tot: 7s471ms | Loss: 0.392 | Acc: 89.270% (8927/10000 100/100 =============================================>...]  Step: 132ms | Tot: 7s241ms | Loss: 0.394 | Acc: 89.196% (8652/9700 97/100 \n",
      "\n",
      "Epoch: 87\n",
      " [=====================================================================================>]  Step: 110ms | Tot: 1m536ms | Loss: 0.084 | Reg: 0.00000 | Acc: 97.108% (48554/50000 391/391  \n",
      " [=====================================================================================>]  Step: 71ms | Tot: 7s348ms | Loss: 0.380 | Acc: 89.530% (8953/10000 100/100 \n",
      "\n",
      "Epoch: 88\n",
      " [=====================================================================================>]  Step: 111ms | Tot: 1m2s | Loss: 0.076 | Reg: 0.00000 | Acc: 97.488% (48744/50000 391/391 91  >...........................]  Step: 197ms | Tot: 41s430ms | Loss: 0.074 | Reg: 0.00000 | Acc: 97.580% (33099/33920 265/391 \n",
      " [=====================================================================================>]  Step: 86ms | Tot: 8s620ms | Loss: 0.366 | Acc: 89.980% (8998/10000 100/100 /100 ......]  Step: 93ms | Tot: 6s51ms | Loss: 0.377 | Acc: 89.757% (6283/7000 70/100 ==============>................]  Step: 103ms | Tot: 7s78ms | Loss: 0.368 | Acc: 89.841% (7367/8200 82/100 \n",
      "\n",
      "Epoch: 89\n",
      " [=====================================================================================>]  Step: 111ms | Tot: 1m5s | Loss: 0.081 | Reg: 0.00000 | Acc: 97.292% (48646/50000 391/391 91  ===========================================================>...................]  Step: 201ms | Tot: 50s253ms | Loss: 0.078 | Reg: 0.00000 | Acc: 97.341% (37628/38656 302/391 ===================================>.............]  Step: 196ms | Tot: 55s414ms | Loss: 0.080 | Reg: 0.00000 | Acc: 97.292% (41345/42496 332/391 \n",
      " [=====================================================================================>]  Step: 82ms | Tot: 8s603ms | Loss: 0.369 | Acc: 89.530% (8953/10000 100/100 ......................]  Step: 102ms | Tot: 3s149ms | Loss: 0.389 | Acc: 89.000% (3293/3700 37/100 64/10 69/100 =======================================================================>............]  Step: 99ms | Tot: 7s431ms | Loss: 0.370 | Acc: 89.448% (7782/8700 87/100 \n",
      "\n",
      "Epoch: 90\n",
      " [=====================================================================================>]  Step: 114ms | Tot: 1m5s | Loss: 0.082 | Reg: 0.00000 | Acc: 97.230% (48615/50000 391/391 91  ......]  Step: 196ms | Tot: 52s768ms | Loss: 0.080 | Reg: 0.00000 | Acc: 97.292% (39477/40576 317/391 \n",
      " [=====================================================================================>]  Step: 93ms | Tot: 8s254ms | Loss: 0.390 | Acc: 89.190% (8919/10000 100/100 \n",
      "\n",
      "Epoch: 91\n"
     ]
    },
    {
     "name": "stdout",
     "output_type": "stream",
     "text": [
      " [=====================================================================================>]  Step: 119ms | Tot: 1m5s | Loss: 0.078 | Reg: 0.00000 | Acc: 97.354% (48677/50000 391/391 91  .....................................]  Step: 197ms | Tot: 16s806ms | Loss: 0.078 | Reg: 0.00000 | Acc: 97.564% (12738/13056 102/39 185/391 \n",
      " [=====================================================================================>]  Step: 105ms | Tot: 8s427ms | Loss: 0.352 | Acc: 90.220% (9022/10000 100/100 /100 \n",
      "\n",
      "Epoch: 92\n",
      " [=====================================================================================>]  Step: 119ms | Tot: 1m5s | Loss: 0.078 | Reg: 0.00000 | Acc: 97.312% (48656/50000 391/391 91  .......]  Step: 198ms | Tot: 10s390ms | Loss: 0.078 | Reg: 0.00000 | Acc: 97.241% (7966/8192 64/391 \n",
      " [=====================================================================================>]  Step: 87ms | Tot: 8s731ms | Loss: 0.403 | Acc: 89.230% (8923/10000 100/100 .........]  Step: 89ms | Tot: 6s408ms | Loss: 0.403 | Acc: 89.081% (6592/7400 74/100 96/100 97/100 \n",
      "\n",
      "Epoch: 93\n",
      " [=====================================================================================>]  Step: 129ms | Tot: 1m5s | Loss: 0.085 | Reg: 0.00000 | Acc: 97.004% (48502/50000 391/391 91  150/391 \n",
      " [=====================================================================================>]  Step: 84ms | Tot: 8s732ms | Loss: 0.373 | Acc: 89.680% (8968/10000 100/100 \n",
      "\n",
      "Epoch: 94\n",
      " [=====================================================================================>]  Step: 114ms | Tot: 1m5s | Loss: 0.077 | Reg: 0.00000 | Acc: 97.384% (48692/50000 391/391 91  \n",
      " [=====================================================================================>]  Step: 80ms | Tot: 8s620ms | Loss: 0.387 | Acc: 89.610% (8961/10000 100/100 \n",
      "\n",
      "Epoch: 95\n",
      " [=====================================================================================>]  Step: 116ms | Tot: 1m4s | Loss: 0.080 | Reg: 0.00000 | Acc: 97.216% (48608/50000 391/391 91  ====================>.......]  Step: 198ms | Tot: 59s135ms | Loss: 0.080 | Reg: 0.00000 | Acc: 97.197% (44415/45696 357/391 \n",
      " [=====================================================================================>]  Step: 99ms | Tot: 8s404ms | Loss: 0.457 | Acc: 87.960% (8796/10000 100/100 ....]  Step: 96ms | Tot: 2s284ms | Loss: 0.484 | Acc: 87.429% (2448/2800 28/100 51/100 \n",
      "\n",
      "Epoch: 96\n",
      " [=====================================================================================>]  Step: 105ms | Tot: 1m2s | Loss: 0.076 | Reg: 0.00000 | Acc: 97.428% (48714/50000 391/391 91  ep: 194ms | Tot: 3s343ms | Loss: 0.066 | Reg: 0.00000 | Acc: 97.693% (2626/2688 21/391 197/391 \n",
      " [=====================================================================================>]  Step: 74ms | Tot: 7s354ms | Loss: 0.350 | Acc: 90.100% (9010/10000 100/100 \n",
      "\n",
      "Epoch: 97\n",
      " [=====================================================================================>]  Step: 106ms | Tot: 1m159ms | Loss: 0.076 | Reg: 0.00000 | Acc: 97.338% (48669/50000 391/391  \n",
      " [=====================================================================================>]  Step: 71ms | Tot: 7s354ms | Loss: 0.435 | Acc: 88.030% (8803/10000 100/100 \n",
      "\n",
      "Epoch: 98\n",
      " [=====================================================================================>]  Step: 111ms | Tot: 1m86ms | Loss: 0.077 | Reg: 0.00000 | Acc: 97.320% (48660/50000 391/391 1 \n",
      " [=====================================================================================>]  Step: 69ms | Tot: 7s445ms | Loss: 0.344 | Acc: 89.990% (8999/10000 100/100 \n",
      "\n",
      "Epoch: 99\n",
      " [=====================================================================================>]  Step: 113ms | Tot: 1m309ms | Loss: 0.071 | Reg: 0.00000 | Acc: 97.604% (48802/50000 391/391  \n",
      " [=====================================================================================>]  Step: 71ms | Tot: 7s396ms | Loss: 0.369 | Acc: 89.340% (8934/10000 100/100 \n",
      "\n",
      "Epoch: 100\n",
      " [=====================================================================================>]  Step: 112ms | Tot: 1m495ms | Loss: 0.079 | Reg: 0.00000 | Acc: 97.296% (48648/50000 391/391  \n",
      " [=====================================================================================>]  Step: 71ms | Tot: 7s465ms | Loss: 0.378 | Acc: 89.820% (8982/10000 100/100 \n",
      "\n",
      "Epoch: 101\n",
      " [=====================================================================================>]  Step: 111ms | Tot: 1m881ms | Loss: 0.038 | Reg: 0.00000 | Acc: 98.812% (49406/50000 391/391  233/391 \n",
      " [=====================================================================================>]  Step: 71ms | Tot: 7s389ms | Loss: 0.283 | Acc: 92.040% (9204/10000 100/100 \n",
      "Saving..\n",
      "\n",
      "Epoch: 102\n",
      " [=====================================================================================>]  Step: 108ms | Tot: 1m572ms | Loss: 0.024 | Reg: 0.00000 | Acc: 99.286% (49643/50000 391/391  \n",
      " [=====================================================================================>]  Step: 76ms | Tot: 7s479ms | Loss: 0.269 | Acc: 92.460% (9246/10000 100/100 \n",
      "Saving..\n",
      "\n",
      "Epoch: 103\n",
      " [=====================================================================================>]  Step: 112ms | Tot: 1m726ms | Loss: 0.020 | Reg: 0.00000 | Acc: 99.390% (49695/50000 391/391  \n",
      " [=====================================================================================>]  Step: 76ms | Tot: 7s320ms | Loss: 0.273 | Acc: 92.300% (9230/10000 100/100 \n",
      "\n",
      "Epoch: 104\n",
      " [=====================================================================================>]  Step: 112ms | Tot: 1m733ms | Loss: 0.017 | Reg: 0.00000 | Acc: 99.520% (49760/50000 391/391  \n",
      " [=====================================================================================>]  Step: 86ms | Tot: 7s395ms | Loss: 0.269 | Acc: 92.610% (9261/10000 100/100 \n",
      "Saving..\n",
      "\n",
      "Epoch: 105\n",
      " [=====================================================================================>]  Step: 110ms | Tot: 1m689ms | Loss: 0.015 | Reg: 0.00000 | Acc: 99.580% (49790/50000 391/391  \n",
      " [=====================================================================================>]  Step: 73ms | Tot: 7s377ms | Loss: 0.270 | Acc: 92.610% (9261/10000 100/100 \n",
      "\n",
      "Epoch: 106\n",
      " [=====================================================================================>]  Step: 111ms | Tot: 1m596ms | Loss: 0.014 | Reg: 0.00000 | Acc: 99.604% (49802/50000 391/391  \n",
      " [=====================================================================================>]  Step: 73ms | Tot: 7s334ms | Loss: 0.270 | Acc: 92.680% (9268/10000 100/100 \n",
      "Saving..\n",
      "\n",
      "Epoch: 107\n",
      " [=====================================================================================>]  Step: 112ms | Tot: 1m596ms | Loss: 0.012 | Reg: 0.00000 | Acc: 99.678% (49839/50000 391/391  \n",
      " [=====================================================================================>]  Step: 70ms | Tot: 7s308ms | Loss: 0.267 | Acc: 92.760% (9276/10000 100/100 \n",
      "Saving..\n",
      "\n",
      "Epoch: 108\n",
      " [=====================================================================================>]  Step: 122ms | Tot: 1m581ms | Loss: 0.012 | Reg: 0.00000 | Acc: 99.734% (49867/50000 391/391  91 \n",
      " [=====================================================================================>]  Step: 73ms | Tot: 7s319ms | Loss: 0.266 | Acc: 92.880% (9288/10000 100/100 \n",
      "Saving..\n",
      "\n",
      "Epoch: 109\n",
      " [=====================================================================================>]  Step: 112ms | Tot: 1m107ms | Loss: 0.011 | Reg: 0.00000 | Acc: 99.740% (49870/50000 391/391  \n",
      " [=====================================================================================>]  Step: 78ms | Tot: 7s219ms | Loss: 0.265 | Acc: 92.860% (9286/10000 100/100 \n",
      "\n",
      "Epoch: 110\n",
      " [=====================================================================================>]  Step: 110ms | Tot: 1m181ms | Loss: 0.010 | Reg: 0.00000 | Acc: 99.770% (49885/50000 391/391  \n",
      " [=====================================================================================>]  Step: 75ms | Tot: 7s424ms | Loss: 0.269 | Acc: 92.910% (9291/10000 100/100 \n",
      "Saving..\n",
      "\n",
      "Epoch: 111\n",
      " [=====================================================================================>]  Step: 110ms | Tot: 1m119ms | Loss: 0.009 | Reg: 0.00000 | Acc: 99.770% (49885/50000 391/391  \n"
     ]
    },
    {
     "name": "stdout",
     "output_type": "stream",
     "text": [
      " [=====================================================================================>]  Step: 73ms | Tot: 7s426ms | Loss: 0.270 | Acc: 92.980% (9298/10000 100/100 \n",
      "Saving..\n",
      "\n",
      "Epoch: 112\n",
      " [=====================================================================================>]  Step: 111ms | Tot: 1m93ms | Loss: 0.009 | Reg: 0.00000 | Acc: 99.762% (49881/50000 391/391 1 \n",
      " [=====================================================================================>]  Step: 73ms | Tot: 7s415ms | Loss: 0.268 | Acc: 92.830% (9283/10000 100/100 \n",
      "\n",
      "Epoch: 113\n",
      " [=====================================================================================>]  Step: 128ms | Tot: 1m505ms | Loss: 0.009 | Reg: 0.00000 | Acc: 99.782% (49891/50000 391/391  91 \n",
      " [=====================================================================================>]  Step: 73ms | Tot: 7s459ms | Loss: 0.270 | Acc: 92.980% (9298/10000 100/100 \n",
      "\n",
      "Epoch: 114\n",
      " [=====================================================================================>]  Step: 109ms | Tot: 1m761ms | Loss: 0.008 | Reg: 0.00000 | Acc: 99.804% (49902/50000 391/391  \n",
      " [=====================================================================================>]  Step: 73ms | Tot: 7s483ms | Loss: 0.271 | Acc: 92.830% (9283/10000 100/100 \n",
      "\n",
      "Epoch: 115\n",
      " [=====================================================================================>]  Step: 114ms | Tot: 1m956ms | Loss: 0.008 | Reg: 0.00000 | Acc: 99.782% (49891/50000 391/391  \n",
      " [=====================================================================================>]  Step: 89ms | Tot: 7s538ms | Loss: 0.269 | Acc: 92.970% (9297/10000 100/100 \n",
      "\n",
      "Epoch: 116\n",
      " [=====================================================================================>]  Step: 110ms | Tot: 1m749ms | Loss: 0.008 | Reg: 0.00000 | Acc: 99.798% (49899/50000 391/391  \n",
      " [=====================================================================================>]  Step: 76ms | Tot: 7s453ms | Loss: 0.271 | Acc: 93.080% (9308/10000 100/100 \n",
      "Saving..\n",
      "\n",
      "Epoch: 117\n",
      " [=====================================================================================>]  Step: 115ms | Tot: 1m681ms | Loss: 0.007 | Reg: 0.00000 | Acc: 99.810% (49905/50000 391/391  \n",
      " [=====================================================================================>]  Step: 72ms | Tot: 7s464ms | Loss: 0.272 | Acc: 93.050% (9305/10000 100/100 \n",
      "\n",
      "Epoch: 118\n",
      " [=====================================================================================>]  Step: 113ms | Tot: 1m942ms | Loss: 0.007 | Reg: 0.00000 | Acc: 99.872% (49936/50000 391/391  \n",
      " [=====================================================================================>]  Step: 71ms | Tot: 7s521ms | Loss: 0.272 | Acc: 93.090% (9309/10000 100/100 \n",
      "Saving..\n",
      "\n",
      "Epoch: 119\n",
      " [=====================================================================================>]  Step: 106ms | Tot: 1m1s | Loss: 0.007 | Reg: 0.00000 | Acc: 99.862% (49931/50000 391/391 91  \n",
      " [=====================================================================================>]  Step: 72ms | Tot: 7s591ms | Loss: 0.271 | Acc: 92.930% (9293/10000 100/100 \n",
      "\n",
      "Epoch: 120\n",
      " [=====================================================================================>]  Step: 108ms | Tot: 1m1s | Loss: 0.007 | Reg: 0.00000 | Acc: 99.858% (49929/50000 391/391 91  \n",
      " [=====================================================================================>]  Step: 74ms | Tot: 7s592ms | Loss: 0.271 | Acc: 92.910% (9291/10000 100/100 \n",
      "\n",
      "Epoch: 121\n",
      " [=====================================================================================>]  Step: 112ms | Tot: 1m1s | Loss: 0.007 | Reg: 0.00000 | Acc: 99.842% (49921/50000 391/391 91  \n",
      " [=====================================================================================>]  Step: 75ms | Tot: 7s536ms | Loss: 0.269 | Acc: 93.120% (9312/10000 100/100 \n",
      "Saving..\n",
      "\n",
      "Epoch: 122\n",
      " [=====================================================================================>]  Step: 111ms | Tot: 1m950ms | Loss: 0.006 | Reg: 0.00000 | Acc: 99.874% (49937/50000 391/391  \n",
      " [=====================================================================================>]  Step: 76ms | Tot: 7s662ms | Loss: 0.269 | Acc: 93.150% (9315/10000 100/100 \n",
      "Saving..\n",
      "\n",
      "Epoch: 123\n",
      " [=====================================================================================>]  Step: 111ms | Tot: 1m1s | Loss: 0.006 | Reg: 0.00000 | Acc: 99.856% (49928/50000 391/391 91  \n",
      " [=====================================================================================>]  Step: 73ms | Tot: 7s658ms | Loss: 0.272 | Acc: 93.160% (9316/10000 100/100 \n",
      "Saving..\n",
      "\n",
      "Epoch: 124\n",
      " [=====================================================================================>]  Step: 110ms | Tot: 1m1s | Loss: 0.006 | Reg: 0.00000 | Acc: 99.900% (49950/50000 391/391 91  \n",
      " [=====================================================================================>]  Step: 74ms | Tot: 7s518ms | Loss: 0.272 | Acc: 93.210% (9321/10000 100/100 \n",
      "Saving..\n",
      "\n",
      "Epoch: 125\n",
      " [=====================================================================================>]  Step: 108ms | Tot: 1m1s | Loss: 0.006 | Reg: 0.00000 | Acc: 99.900% (49950/50000 391/391 91  \n",
      " [=====================================================================================>]  Step: 84ms | Tot: 7s521ms | Loss: 0.269 | Acc: 93.090% (9309/10000 100/100 \n",
      "\n",
      "Epoch: 126\n",
      " [=====================================================================================>]  Step: 113ms | Tot: 1m1s | Loss: 0.006 | Reg: 0.00000 | Acc: 99.888% (49944/50000 391/391 91  \n",
      " [=====================================================================================>]  Step: 78ms | Tot: 7s582ms | Loss: 0.270 | Acc: 93.270% (9327/10000 100/100 \n",
      "Saving..\n",
      "\n",
      "Epoch: 127\n",
      " [=====================================================================================>]  Step: 108ms | Tot: 1m1s | Loss: 0.006 | Reg: 0.00000 | Acc: 99.860% (49930/50000 391/391 91  \n",
      " [=====================================================================================>]  Step: 83ms | Tot: 7s642ms | Loss: 0.271 | Acc: 93.110% (9311/10000 100/100 \n",
      "\n",
      "Epoch: 128\n",
      " [=====================================================================================>]  Step: 109ms | Tot: 1m1s | Loss: 0.006 | Reg: 0.00000 | Acc: 99.878% (49939/50000 391/391 91  \n",
      " [=====================================================================================>]  Step: 84ms | Tot: 7s483ms | Loss: 0.275 | Acc: 93.010% (9301/10000 100/100 \n",
      "\n",
      "Epoch: 129\n",
      " [=====================================================================================>]  Step: 110ms | Tot: 1m1s | Loss: 0.005 | Reg: 0.00000 | Acc: 99.896% (49948/50000 391/391 91  .........................]  Step: 196ms | Tot: 21s279ms | Loss: 0.006 | Reg: 0.00000 | Acc: 99.897% (17390/17408 136/391 \n",
      " [=====================================================================================>]  Step: 76ms | Tot: 7s478ms | Loss: 0.270 | Acc: 93.110% (9311/10000 100/100 \n",
      "\n",
      "Epoch: 130\n",
      " [=====================================================================================>]  Step: 110ms | Tot: 1m1s | Loss: 0.005 | Reg: 0.00000 | Acc: 99.912% (49956/50000 391/391 91  \n",
      " [=====================================================================================>]  Step: 73ms | Tot: 7s521ms | Loss: 0.269 | Acc: 93.270% (9327/10000 100/100 \n",
      "\n",
      "Epoch: 131\n",
      " [=====================================================================================>]  Step: 109ms | Tot: 1m1s | Loss: 0.005 | Reg: 0.00000 | Acc: 99.908% (49954/50000 391/391 91  \n",
      " [=====================================================================================>]  Step: 77ms | Tot: 7s467ms | Loss: 0.267 | Acc: 93.120% (9312/10000 100/100 \n",
      "\n",
      "Epoch: 132\n",
      " [=====================================================================================>]  Step: 113ms | Tot: 1m1s | Loss: 0.005 | Reg: 0.00000 | Acc: 99.882% (49941/50000 391/391 91  \n",
      " [=====================================================================================>]  Step: 76ms | Tot: 7s609ms | Loss: 0.271 | Acc: 93.200% (9320/10000 100/100 \n",
      "\n",
      "Epoch: 133\n"
     ]
    },
    {
     "name": "stdout",
     "output_type": "stream",
     "text": [
      " [=====================================================================================>]  Step: 123ms | Tot: 1m1s | Loss: 0.005 | Reg: 0.00000 | Acc: 99.890% (49945/50000 391/391 91  \n",
      " [=====================================================================================>]  Step: 76ms | Tot: 7s464ms | Loss: 0.274 | Acc: 93.120% (9312/10000 100/100 \n",
      "\n",
      "Epoch: 134\n",
      " [=====================================================================================>]  Step: 112ms | Tot: 1m925ms | Loss: 0.005 | Reg: 0.00000 | Acc: 99.902% (49951/50000 391/391  \n",
      " [=====================================================================================>]  Step: 76ms | Tot: 7s398ms | Loss: 0.272 | Acc: 93.230% (9323/10000 100/100 \n",
      "\n",
      "Epoch: 135\n",
      " [=====================================================================================>]  Step: 111ms | Tot: 1m723ms | Loss: 0.005 | Reg: 0.00000 | Acc: 99.890% (49945/50000 391/391  \n",
      " [=====================================================================================>]  Step: 71ms | Tot: 7s429ms | Loss: 0.276 | Acc: 93.180% (9318/10000 100/100 \n",
      "\n",
      "Epoch: 136\n",
      " [=====================================================================================>]  Step: 118ms | Tot: 1m265ms | Loss: 0.004 | Reg: 0.00000 | Acc: 99.926% (49963/50000 391/391  \n",
      " [=====================================================================================>]  Step: 75ms | Tot: 7s484ms | Loss: 0.274 | Acc: 92.990% (9299/10000 100/100 \n",
      "\n",
      "Epoch: 137\n",
      " [=====================================================================================>]  Step: 109ms | Tot: 1m446ms | Loss: 0.004 | Reg: 0.00000 | Acc: 99.922% (49961/50000 391/391  \n",
      " [=====================================================================================>]  Step: 73ms | Tot: 7s358ms | Loss: 0.273 | Acc: 93.160% (9316/10000 100/100 \n",
      "\n",
      "Epoch: 138\n",
      " [=====================================================================================>]  Step: 125ms | Tot: 1m555ms | Loss: 0.004 | Reg: 0.00000 | Acc: 99.924% (49962/50000 391/391  \n",
      " [=====================================================================================>]  Step: 73ms | Tot: 7s465ms | Loss: 0.276 | Acc: 93.210% (9321/10000 100/100 \n",
      "\n",
      "Epoch: 139\n",
      " [=====================================================================================>]  Step: 110ms | Tot: 1m429ms | Loss: 0.004 | Reg: 0.00000 | Acc: 99.930% (49965/50000 391/391  =================>...................................................]  Step: 200ms | Tot: 24s561ms | Loss: 0.005 | Reg: 0.00000 | Acc: 99.917% (20463/20480 160/391 \n",
      " [=====================================================================================>]  Step: 72ms | Tot: 7s364ms | Loss: 0.271 | Acc: 93.300% (9330/10000 100/100 \n",
      "Saving..\n",
      "\n",
      "Epoch: 140\n",
      " [=====================================================================================>]  Step: 110ms | Tot: 1m287ms | Loss: 0.004 | Reg: 0.00000 | Acc: 99.928% (49964/50000 391/391  \n",
      " [=====================================================================================>]  Step: 73ms | Tot: 7s443ms | Loss: 0.274 | Acc: 93.150% (9315/10000 100/100 \n",
      "\n",
      "Epoch: 141\n",
      " [=====================================================================================>]  Step: 112ms | Tot: 1m369ms | Loss: 0.004 | Reg: 0.00000 | Acc: 99.936% (49968/50000 391/391  \n",
      " [=====================================================================================>]  Step: 72ms | Tot: 7s374ms | Loss: 0.275 | Acc: 93.220% (9322/10000 100/100 \n",
      "\n",
      "Epoch: 142\n",
      " [=====================================================================================>]  Step: 107ms | Tot: 59s948ms | Loss: 0.004 | Reg: 0.00000 | Acc: 99.922% (49961/50000 391/391 \n",
      " [=====================================================================================>]  Step: 92ms | Tot: 7s356ms | Loss: 0.272 | Acc: 93.180% (9318/10000 100/100 \n",
      "\n",
      "Epoch: 143\n",
      " [=====================================================================================>]  Step: 106ms | Tot: 1m525ms | Loss: 0.004 | Reg: 0.00000 | Acc: 99.950% (49975/50000 391/391  \n",
      " [=====================================================================================>]  Step: 72ms | Tot: 7s460ms | Loss: 0.272 | Acc: 93.060% (9306/10000 100/100 \n",
      "\n",
      "Epoch: 144\n",
      " [=====================================================================================>]  Step: 107ms | Tot: 1m516ms | Loss: 0.004 | Reg: 0.00000 | Acc: 99.908% (49954/50000 391/391  =====================================>............]  Step: 200ms | Tot: 51s543ms | Loss: 0.004 | Reg: 0.00000 | Acc: 99.916% (42588/42624 333/391 \n",
      " [=====================================================================================>]  Step: 75ms | Tot: 7s398ms | Loss: 0.274 | Acc: 93.280% (9328/10000 100/100 \n",
      "\n",
      "Epoch: 145\n",
      " [=====================================================================================>]  Step: 107ms | Tot: 1m806ms | Loss: 0.004 | Reg: 0.00000 | Acc: 99.922% (49961/50000 391/391  \n",
      " [=====================================================================================>]  Step: 87ms | Tot: 7s448ms | Loss: 0.274 | Acc: 93.050% (9305/10000 100/100 \n",
      "\n",
      "Epoch: 146\n",
      " [=====================================================================================>]  Step: 109ms | Tot: 1m759ms | Loss: 0.004 | Reg: 0.00000 | Acc: 99.942% (49971/50000 391/391  \n",
      " [=====================================================================================>]  Step: 76ms | Tot: 7s386ms | Loss: 0.273 | Acc: 93.320% (9332/10000 100/100 \n",
      "Saving..\n",
      "\n",
      "Epoch: 147\n",
      " [=====================================================================================>]  Step: 110ms | Tot: 1m699ms | Loss: 0.004 | Reg: 0.00000 | Acc: 99.936% (49968/50000 391/391  \n",
      " [=====================================================================================>]  Step: 74ms | Tot: 7s498ms | Loss: 0.271 | Acc: 93.350% (9335/10000 100/100 ======================>.............................................................]  Step: 66ms | Tot: 2s58ms | Loss: 0.289 | Acc: 92.897% (2694/2900 29/100 \n",
      "Saving..\n",
      "\n",
      "Epoch: 148\n",
      " [=====================================================================================>]  Step: 111ms | Tot: 1m948ms | Loss: 0.004 | Reg: 0.00000 | Acc: 99.938% (49969/50000 391/391  \n",
      " [=====================================================================================>]  Step: 71ms | Tot: 7s615ms | Loss: 0.274 | Acc: 93.330% (9333/10000 100/100 \n",
      "\n",
      "Epoch: 149\n",
      " [=====================================================================================>]  Step: 128ms | Tot: 1m730ms | Loss: 0.004 | Reg: 0.00000 | Acc: 99.920% (49960/50000 391/391  \n",
      " [=====================================================================================>]  Step: 72ms | Tot: 7s586ms | Loss: 0.273 | Acc: 93.290% (9329/10000 100/100 \n",
      "\n",
      "Epoch: 150\n",
      " [=====================================================================================>]  Step: 110ms | Tot: 1m773ms | Loss: 0.004 | Reg: 0.00000 | Acc: 99.942% (49971/50000 391/391  \n",
      " [=====================================================================================>]  Step: 85ms | Tot: 7s555ms | Loss: 0.270 | Acc: 93.360% (9336/10000 100/100 \n",
      "Saving..\n",
      "\n",
      "Epoch: 151\n",
      " [=====================================================================================>]  Step: 111ms | Tot: 1m728ms | Loss: 0.004 | Reg: 0.00000 | Acc: 99.924% (49962/50000 391/391  \n",
      " [=====================================================================================>]  Step: 82ms | Tot: 7s428ms | Loss: 0.270 | Acc: 93.390% (9339/10000 100/100 \n",
      "Saving..\n",
      "\n",
      "Epoch: 152\n",
      " [=====================================================================================>]  Step: 108ms | Tot: 1m727ms | Loss: 0.004 | Reg: 0.00000 | Acc: 99.954% (49977/50000 391/391  \n",
      " [=====================================================================================>]  Step: 73ms | Tot: 7s485ms | Loss: 0.271 | Acc: 93.270% (9327/10000 100/100 \n",
      "\n",
      "Epoch: 153\n",
      " [=====================================================================================>]  Step: 109ms | Tot: 1m489ms | Loss: 0.004 | Reg: 0.00000 | Acc: 99.936% (49968/50000 391/391  \n",
      " [=====================================================================================>]  Step: 71ms | Tot: 7s422ms | Loss: 0.268 | Acc: 93.280% (9328/10000 100/100 \n",
      "\n",
      "Epoch: 154\n"
     ]
    },
    {
     "name": "stdout",
     "output_type": "stream",
     "text": [
      " [=====================================================================================>]  Step: 112ms | Tot: 1m450ms | Loss: 0.004 | Reg: 0.00000 | Acc: 99.928% (49964/50000 391/391  \n",
      " [=====================================================================================>]  Step: 68ms | Tot: 7s278ms | Loss: 0.271 | Acc: 93.260% (9326/10000 100/100 \n",
      "\n",
      "Epoch: 155\n",
      " [=====================================================================================>]  Step: 106ms | Tot: 1m242ms | Loss: 0.003 | Reg: 0.00000 | Acc: 99.950% (49975/50000 391/391  \n",
      " [=====================================================================================>]  Step: 70ms | Tot: 7s337ms | Loss: 0.271 | Acc: 93.320% (9332/10000 100/100 \n",
      "\n",
      "Epoch: 156\n",
      " [=====================================================================================>]  Step: 109ms | Tot: 1m347ms | Loss: 0.004 | Reg: 0.00000 | Acc: 99.932% (49966/50000 391/391  \n",
      " [=====================================================================================>]  Step: 69ms | Tot: 7s324ms | Loss: 0.270 | Acc: 93.310% (9331/10000 100/100 \n",
      "\n",
      "Epoch: 157\n",
      " [=====================================================================================>]  Step: 108ms | Tot: 1m374ms | Loss: 0.004 | Reg: 0.00000 | Acc: 99.936% (49968/50000 391/391  \n",
      " [=====================================================================================>]  Step: 72ms | Tot: 7s381ms | Loss: 0.273 | Acc: 93.240% (9324/10000 100/100 \n",
      "\n",
      "Epoch: 158\n",
      " [=====================================================================================>]  Step: 113ms | Tot: 1m469ms | Loss: 0.004 | Reg: 0.00000 | Acc: 99.934% (49967/50000 391/391  \n",
      " [=====================================================================================>]  Step: 71ms | Tot: 7s424ms | Loss: 0.269 | Acc: 93.270% (9327/10000 100/100 \n",
      "\n",
      "Epoch: 159\n",
      " [=====================================================================================>]  Step: 111ms | Tot: 1m395ms | Loss: 0.003 | Reg: 0.00000 | Acc: 99.956% (49978/50000 391/391  \n",
      " [=====================================================================================>]  Step: 72ms | Tot: 7s372ms | Loss: 0.268 | Acc: 93.190% (9319/10000 100/100 \n",
      "\n",
      "Epoch: 160\n",
      " [=====================================================================================>]  Step: 113ms | Tot: 1m555ms | Loss: 0.003 | Reg: 0.00000 | Acc: 99.954% (49977/50000 391/391  \n",
      " [=====================================================================================>]  Step: 70ms | Tot: 7s394ms | Loss: 0.274 | Acc: 93.330% (9333/10000 100/100 \n",
      "\n",
      "Epoch: 161\n",
      " [=====================================================================================>]  Step: 114ms | Tot: 1m616ms | Loss: 0.003 | Reg: 0.00000 | Acc: 99.942% (49971/50000 391/391  \n",
      " [=====================================================================================>]  Step: 73ms | Tot: 7s449ms | Loss: 0.269 | Acc: 93.260% (9326/10000 100/100 \n",
      "\n",
      "Epoch: 162\n",
      " [=====================================================================================>]  Step: 108ms | Tot: 1m253ms | Loss: 0.003 | Reg: 0.00000 | Acc: 99.946% (49973/50000 391/391  \n",
      " [=====================================================================================>]  Step: 73ms | Tot: 7s493ms | Loss: 0.270 | Acc: 93.330% (9333/10000 100/100 \n",
      "\n",
      "Epoch: 163\n",
      " [=====================================================================================>]  Step: 106ms | Tot: 1m586ms | Loss: 0.003 | Reg: 0.00000 | Acc: 99.950% (49975/50000 391/391  \n",
      " [=====================================================================================>]  Step: 77ms | Tot: 7s300ms | Loss: 0.274 | Acc: 93.310% (9331/10000 100/100 \n",
      "\n",
      "Epoch: 164\n",
      " [=====================================================================================>]  Step: 121ms | Tot: 1m327ms | Loss: 0.004 | Reg: 0.00000 | Acc: 99.938% (49969/50000 391/391  \n",
      " [=====================================================================================>]  Step: 72ms | Tot: 7s400ms | Loss: 0.270 | Acc: 93.380% (9338/10000 100/100 \n",
      "\n",
      "Epoch: 165\n",
      " [=====================================================================================>]  Step: 112ms | Tot: 1m622ms | Loss: 0.003 | Reg: 0.00000 | Acc: 99.950% (49975/50000 391/391  \n",
      " [=====================================================================================>]  Step: 72ms | Tot: 7s461ms | Loss: 0.271 | Acc: 93.260% (9326/10000 100/100 \n",
      "\n",
      "Epoch: 166\n",
      " [=====================================================================================>]  Step: 107ms | Tot: 1m785ms | Loss: 0.004 | Reg: 0.00000 | Acc: 99.930% (49965/50000 391/391  \n",
      " [=====================================================================================>]  Step: 70ms | Tot: 7s494ms | Loss: 0.271 | Acc: 93.240% (9324/10000 100/100 \n",
      "\n",
      "Epoch: 167\n",
      " [=====================================================================================>]  Step: 113ms | Tot: 1m897ms | Loss: 0.003 | Reg: 0.00000 | Acc: 99.956% (49978/50000 391/391  \n",
      " [=====================================================================================>]  Step: 73ms | Tot: 7s534ms | Loss: 0.271 | Acc: 93.280% (9328/10000 100/100 \n",
      "\n",
      "Epoch: 168\n",
      " [=====================================================================================>]  Step: 128ms | Tot: 1m984ms | Loss: 0.003 | Reg: 0.00000 | Acc: 99.952% (49976/50000 391/391  \n",
      " [=====================================================================================>]  Step: 75ms | Tot: 7s563ms | Loss: 0.271 | Acc: 93.250% (9325/10000 100/100 \n",
      "\n",
      "Epoch: 169\n",
      " [=====================================================================================>]  Step: 108ms | Tot: 1m907ms | Loss: 0.004 | Reg: 0.00000 | Acc: 99.928% (49964/50000 391/391  \n",
      " [=====================================================================================>]  Step: 72ms | Tot: 7s453ms | Loss: 0.270 | Acc: 93.240% (9324/10000 100/100 \n",
      "\n",
      "Epoch: 170\n",
      " [=====================================================================================>]  Step: 108ms | Tot: 1m1s | Loss: 0.003 | Reg: 0.00000 | Acc: 99.946% (49973/50000 391/391 91  \n",
      " [=====================================================================================>]  Step: 72ms | Tot: 7s554ms | Loss: 0.272 | Acc: 93.260% (9326/10000 100/100 \n",
      "\n",
      "Epoch: 171\n",
      " [=====================================================================================>]  Step: 109ms | Tot: 1m1s | Loss: 0.003 | Reg: 0.00000 | Acc: 99.954% (49977/50000 391/391 91  \n",
      " [=====================================================================================>]  Step: 71ms | Tot: 7s495ms | Loss: 0.269 | Acc: 93.140% (9314/10000 100/100 \n",
      "\n",
      "Epoch: 172\n",
      " [=====================================================================================>]  Step: 110ms | Tot: 1m1s | Loss: 0.003 | Reg: 0.00000 | Acc: 99.948% (49974/50000 391/391 91  \n",
      " [=====================================================================================>]  Step: 81ms | Tot: 7s680ms | Loss: 0.269 | Acc: 93.270% (9327/10000 100/100 \n",
      "\n",
      "Epoch: 173\n",
      " [=====================================================================================>]  Step: 112ms | Tot: 1m1s | Loss: 0.003 | Reg: 0.00000 | Acc: 99.950% (49975/50000 391/391 91  \n",
      " [=====================================================================================>]  Step: 77ms | Tot: 7s598ms | Loss: 0.270 | Acc: 93.280% (9328/10000 100/100 \n",
      "\n",
      "Epoch: 174\n",
      " [=====================================================================================>]  Step: 113ms | Tot: 1m954ms | Loss: 0.003 | Reg: 0.00000 | Acc: 99.940% (49970/50000 391/391  \n",
      " [=====================================================================================>]  Step: 73ms | Tot: 7s617ms | Loss: 0.271 | Acc: 93.340% (9334/10000 100/100 \n",
      "\n",
      "Epoch: 175\n",
      " [=====================================================================================>]  Step: 111ms | Tot: 1m1s | Loss: 0.003 | Reg: 0.00000 | Acc: 99.952% (49976/50000 391/391 91  \n",
      " [=====================================================================================>]  Step: 80ms | Tot: 7s573ms | Loss: 0.270 | Acc: 93.360% (9336/10000 100/100 \n",
      "\n",
      "Epoch: 176\n"
     ]
    },
    {
     "name": "stdout",
     "output_type": "stream",
     "text": [
      " [=====================================================================================>]  Step: 111ms | Tot: 1m1s | Loss: 0.003 | Reg: 0.00000 | Acc: 99.940% (49970/50000 391/391 91  \n",
      " [=====================================================================================>]  Step: 72ms | Tot: 7s536ms | Loss: 0.269 | Acc: 93.220% (9322/10000 100/100 \n",
      "\n",
      "Epoch: 177\n",
      " [=====================================================================================>]  Step: 142ms | Tot: 1m4s | Loss: 0.003 | Reg: 0.00000 | Acc: 99.928% (49964/50000 391/391 91  330/39 341/391 \n",
      " [=====================================================================================>]  Step: 84ms | Tot: 8s888ms | Loss: 0.267 | Acc: 93.250% (9325/10000 100/100 ======>........................................]  Step: 105ms | Tot: 4s794ms | Loss: 0.281 | Acc: 92.944% (5019/5400 54/100 \n",
      "\n",
      "Epoch: 178\n",
      " [=====================================================================================>]  Step: 136ms | Tot: 1m5s | Loss: 0.003 | Reg: 0.00000 | Acc: 99.970% (49985/50000 391/391 91  265/391 \n",
      " [=====================================================================================>]  Step: 94ms | Tot: 8s601ms | Loss: 0.269 | Acc: 93.440% (9344/10000 100/100 .......................]  Step: 94ms | Tot: 970ms | Loss: 0.305 | Acc: 93.167% (1118/1200 12/100 55/100 \n",
      "Saving..\n",
      "\n",
      "Epoch: 179\n",
      " [=====================================================================================>]  Step: 116ms | Tot: 1m5s | Loss: 0.003 | Reg: 0.00000 | Acc: 99.946% (49973/50000 391/391 91  148/391 \n",
      " [=====================================================================================>]  Step: 78ms | Tot: 8s668ms | Loss: 0.268 | Acc: 93.320% (9332/10000 100/100 46/100 76/100 \n",
      "\n",
      "Epoch: 180\n",
      " [=====================================================================================>]  Step: 116ms | Tot: 1m5s | Loss: 0.003 | Reg: 0.00000 | Acc: 99.942% (49971/50000 391/391 91  =======================>................................]  Step: 200ms | Tot: 40s641ms | Loss: 0.003 | Reg: 0.00000 | Acc: 99.945% (31087/31104 243/391 \n",
      " [=====================================================================================>]  Step: 100ms | Tot: 8s777ms | Loss: 0.268 | Acc: 93.380% (9338/10000 100/100 /100 =>..........................................................................]  Step: 101ms | Tot: 1s203ms | Loss: 0.294 | Acc: 93.214% (1305/1400 14/100 29/100 ==>..]  Step: 107ms | Tot: 8s594ms | Loss: 0.269 | Acc: 93.367% (9150/9800 98/100 \n",
      "\n",
      "Epoch: 181\n",
      " [=====================================================================================>]  Step: 117ms | Tot: 1m5s | Loss: 0.003 | Reg: 0.00000 | Acc: 99.938% (49969/50000 391/391 91  09/391 \n",
      " [=====================================================================================>]  Step: 78ms | Tot: 8s757ms | Loss: 0.268 | Acc: 93.390% (9339/10000 100/100 1/100 69/100 =============================>..........................]  Step: 101ms | Tot: 6s101ms | Loss: 0.273 | Acc: 93.200% (6524/7000 70/100 =======================>....]  Step: 103ms | Tot: 8s427ms | Loss: 0.270 | Acc: 93.344% (8961/9600 96/100 \n",
      "\n",
      "Epoch: 182\n",
      " [=====================================================================================>]  Step: 117ms | Tot: 1m4s | Loss: 0.003 | Reg: 0.00000 | Acc: 99.962% (49981/50000 391/391 91  ================>.................................................................]  Step: 198ms | Tot: 15s247ms | Loss: 0.003 | Reg: 0.00000 | Acc: 99.983% (11774/11776 92/39 154/391 \n",
      " [=====================================================================================>]  Step: 77ms | Tot: 8s314ms | Loss: 0.268 | Acc: 93.260% (9326/10000 100/100 48/100 \n",
      "\n",
      "Epoch: 183\n",
      " [=====================================================================================>]  Step: 116ms | Tot: 1m4s | Loss: 0.003 | Reg: 0.00000 | Acc: 99.968% (49984/50000 391/391 91  .....................................................]  Step: 195ms | Tot: 13s932ms | Loss: 0.003 | Reg: 0.00000 | Acc: 99.963% (10876/10880 85/391 378/391 \n",
      " [=====================================================================================>]  Step: 85ms | Tot: 8s439ms | Loss: 0.268 | Acc: 93.260% (9326/10000 100/100 ...............]  Step: 103ms | Tot: 5s511ms | Loss: 0.275 | Acc: 93.000% (6138/6600 66/100 \n",
      "\n",
      "Epoch: 184\n",
      " [=====================================================================================>]  Step: 133ms | Tot: 1m5s | Loss: 0.003 | Reg: 0.00000 | Acc: 99.966% (49983/50000 391/391 91  \n",
      " [=====================================================================================>]  Step: 99ms | Tot: 8s709ms | Loss: 0.269 | Acc: 93.460% (9346/10000 100/100 ...........................]  Step: 90ms | Tot: 201ms | Loss: 0.338 | Acc: 92.667% (278/300 3/100 ..]  Step: 100ms | Tot: 1s677ms | Loss: 0.287 | Acc: 92.900% (1858/2000 20/100 .....]  Step: 96ms | Tot: 1s774ms | Loss: 0.284 | Acc: 92.857% (1950/2100 21/100 ===================================================>...]  Step: 101ms | Tot: 8s439ms | Loss: 0.270 | Acc: 93.423% (9062/9700 97/100 \n",
      "Saving..\n",
      "\n",
      "Epoch: 185\n",
      " [=====================================================================================>]  Step: 107ms | Tot: 1m1s | Loss: 0.003 | Reg: 0.00000 | Acc: 99.940% (49970/50000 391/391 91  91 \n",
      " [=====================================================================================>]  Step: 70ms | Tot: 7s435ms | Loss: 0.267 | Acc: 93.290% (9329/10000 100/100 \n",
      "\n",
      "Epoch: 186\n",
      " [=====================================================================================>]  Step: 106ms | Tot: 1m209ms | Loss: 0.003 | Reg: 0.00000 | Acc: 99.954% (49977/50000 391/391  \n",
      " [=====================================================================================>]  Step: 73ms | Tot: 7s341ms | Loss: 0.268 | Acc: 93.390% (9339/10000 100/100 \n",
      "\n",
      "Epoch: 187\n",
      " [=====================================================================================>]  Step: 112ms | Tot: 1m247ms | Loss: 0.003 | Reg: 0.00000 | Acc: 99.964% (49982/50000 391/391  \n",
      " [=====================================================================================>]  Step: 77ms | Tot: 7s419ms | Loss: 0.268 | Acc: 93.400% (9340/10000 100/100 \n",
      "\n",
      "Epoch: 188\n",
      " [=====================================================================================>]  Step: 111ms | Tot: 1m687ms | Loss: 0.003 | Reg: 0.00000 | Acc: 99.962% (49981/50000 391/391  \n",
      " [=====================================================================================>]  Step: 77ms | Tot: 7s521ms | Loss: 0.270 | Acc: 93.390% (9339/10000 100/100 \n",
      "\n",
      "Epoch: 189\n",
      " [=====================================================================================>]  Step: 109ms | Tot: 1m563ms | Loss: 0.003 | Reg: 0.00000 | Acc: 99.954% (49977/50000 391/391  \n",
      " [=====================================================================================>]  Step: 70ms | Tot: 7s439ms | Loss: 0.269 | Acc: 93.270% (9327/10000 100/100 \n",
      "\n",
      "Epoch: 190\n",
      " [=====================================================================================>]  Step: 108ms | Tot: 1m300ms | Loss: 0.003 | Reg: 0.00000 | Acc: 99.972% (49986/50000 391/391  \n",
      " [=====================================================================================>]  Step: 70ms | Tot: 7s224ms | Loss: 0.269 | Acc: 93.210% (9321/10000 100/100 \n",
      "\n",
      "Epoch: 191\n",
      " [=====================================================================================>]  Step: 112ms | Tot: 1m814ms | Loss: 0.003 | Reg: 0.00000 | Acc: 99.950% (49975/50000 391/391  \n",
      " [=====================================================================================>]  Step: 73ms | Tot: 7s446ms | Loss: 0.270 | Acc: 93.400% (9340/10000 100/100 \n",
      "\n",
      "Epoch: 192\n",
      " [=====================================================================================>]  Step: 115ms | Tot: 1m868ms | Loss: 0.003 | Reg: 0.00000 | Acc: 99.948% (49974/50000 391/391  \n",
      " [=====================================================================================>]  Step: 74ms | Tot: 7s379ms | Loss: 0.271 | Acc: 93.370% (9337/10000 100/100 \n",
      "\n",
      "Epoch: 193\n",
      " [=====================================================================================>]  Step: 143ms | Tot: 1m936ms | Loss: 0.003 | Reg: 0.00000 | Acc: 99.960% (49980/50000 391/391  \n"
     ]
    },
    {
     "name": "stdout",
     "output_type": "stream",
     "text": [
      " [=====================================================================================>]  Step: 99ms | Tot: 8s631ms | Loss: 0.267 | Acc: 93.350% (9335/10000 100/100 ==============>......................................................]  Step: 96ms | Tot: 3s196ms | Loss: 0.282 | Acc: 92.947% (3532/3800 38/100 \n",
      "\n",
      "Epoch: 194\n",
      " [=====================================================================================>]  Step: 110ms | Tot: 1m5s | Loss: 0.003 | Reg: 0.00000 | Acc: 99.962% (49981/50000 391/391 91  ===============================>.......................]  Step: 195ms | Tot: 47s455ms | Loss: 0.003 | Reg: 0.00000 | Acc: 99.959% (36337/36352 284/391 \n",
      " [=====================================================================================>]  Step: 78ms | Tot: 8s707ms | Loss: 0.267 | Acc: 93.330% (9333/10000 100/100 ===========>.......................................]  Step: 96ms | Tot: 4s771ms | Loss: 0.279 | Acc: 92.982% (5114/5500 55/100 77/100 78/100 \n",
      "\n",
      "Epoch: 195\n",
      " [=====================================================================================>]  Step: 114ms | Tot: 1m5s | Loss: 0.003 | Reg: 0.00000 | Acc: 99.952% (49976/50000 391/391 91  4ms | Tot: 201ms | Loss: 0.003 | Reg: 0.00000 | Acc: 100.000% (256/256 2/391 354/391 \n",
      " [=====================================================================================>]  Step: 102ms | Tot: 8s776ms | Loss: 0.269 | Acc: 93.140% (9314/10000 100/100 100 67/100 \n",
      "\n",
      "Epoch: 196\n",
      " [=====================================================================================>]  Step: 115ms | Tot: 1m5s | Loss: 0.003 | Reg: 0.00000 | Acc: 99.956% (49978/50000 391/391 91  389/391 \n",
      " [=====================================================================================>]  Step: 76ms | Tot: 8s662ms | Loss: 0.270 | Acc: 93.380% (9338/10000 100/100 /100 \n",
      "\n",
      "Epoch: 197\n",
      " [=====================================================================================>]  Step: 136ms | Tot: 1m5s | Loss: 0.003 | Reg: 0.00000 | Acc: 99.954% (49977/50000 391/391 91  \n",
      " [=====================================================================================>]  Step: 102ms | Tot: 8s678ms | Loss: 0.266 | Acc: 93.380% (9338/10000 100/100 \n",
      "\n",
      "Epoch: 198\n",
      " [=====================================================================================>]  Step: 143ms | Tot: 1m5s | Loss: 0.003 | Reg: 0.00000 | Acc: 99.946% (49973/50000 391/391 91  \n",
      " [=====================================================================================>]  Step: 93ms | Tot: 8s579ms | Loss: 0.267 | Acc: 93.310% (9331/10000 100/100 ..]  Step: 99ms | Tot: 5s229ms | Loss: 0.280 | Acc: 93.000% (5766/6200 62/100 99/100 \n",
      "\n",
      "Epoch: 199\n",
      " [=====================================================================================>]  Step: 135ms | Tot: 1m5s | Loss: 0.003 | Reg: 0.00000 | Acc: 99.946% (49973/50000 391/391 91  243/391 \n",
      " [=====================================================================================>]  Step: 68ms | Tot: 8s760ms | Loss: 0.269 | Acc: 93.320% (9332/10000 100/100 ...........]  Step: 98ms | Tot: 376ms | Loss: 0.296 | Acc: 92.800% (464/500 5/100 10/100 \n"
     ]
    }
   ],
   "source": [
    "if not os.path.exists(logname):\n",
    "    with open(logname, 'w') as logfile:\n",
    "        logwriter = csv.writer(logfile, delimiter=',')\n",
    "        logwriter.writerow(['epoch', 'train loss', 'reg loss', 'train acc',\n",
    "                            'test loss', 'test acc'])\n",
    "\n",
    "\n",
    "        \n",
    "        \n",
    "mu = .32\n",
    "sig = .08\n",
    "for epoch in range(start_epoch, params[\"epoch\"]):\n",
    "    train_loss, reg_loss, train_acc = train_normal(epoch, filter_function=function.attention_mask_filter, fliter_payload=payload, advs_train=False, epsilon=(mu,sig))\n",
    "\n",
    "    # If you are using attention please add the filter to the test data too.\n",
    "    test_loss, test_acc = test(epoch, filter_function=function.attention_mask_filter, fliter_payload=payload)\n",
    "    adjust_learning_rate(optimizer, epoch)\n",
    "    with open(logname, 'a') as logfile:\n",
    "        logwriter = csv.writer(logfile, delimiter=',')\n",
    "        logwriter.writerow([epoch, train_loss, reg_loss, train_acc, test_loss,\n",
    "                            test_acc])"
   ]
  },
  {
   "cell_type": "code",
   "execution_count": null,
   "id": "stupid-exclusion",
   "metadata": {},
   "outputs": [
    {
     "name": "stdout",
     "output_type": "stream",
     "text": [
      "==> Building model..\n",
      "3\n",
      "Using CUDA..\n",
      "training EnvFilter-NoMix-NoAdvs model\n",
      "\n",
      "Epoch: 0\n",
      " [=====================================================================================>]  Step: 180ms | Tot: 1m24s | Loss: 1.801 | Reg: 0.00000 | Acc: 33.302% (16651/50000 391/391 1  .........................................]  Step: 202ms | Tot: 6s212ms | Loss: 2.245 | Reg: 0.00000 | Acc: 15.286% (587/3840 30/391 ==========================>...........................................................]  Step: 202ms | Tot: 26s470ms | Loss: 2.027 | Reg: 0.00000 | Acc: 24.047% (3786/15744 123/391 ==============>........................................................]  Step: 197ms | Tot: 28s692ms | Loss: 2.012 | Reg: 0.00000 | Acc: 24.718% (4208/17024 133/391 200/391 ==========================>..............................]  Step: 199ms | Tot: 54s933ms | Loss: 1.889 | Reg: 0.00000 | Acc: 29.666% (9683/32640 255/391 270/391 ............]  Step: 200ms | Tot: 59s424ms | Loss: 1.874 | Reg: 0.00000 | Acc: 30.211% (10673/35328 276/391 ==>...]  Step: 199ms | Tot: 1m21s | Loss: 1.809 | Reg: 0.00000 | Acc: 32.988% (15961/48384 378/391 389/391 \n",
      " [=====================================================================================>]  Step: 38ms | Tot: 3s717ms | Loss: 1.394 | Acc: 48.150% (4815/10000 100/100 ..............................................]  Step: 41ms | Tot: 365ms | Loss: 1.364 | Acc: 49.727% (547/1100 11/100 ..............................................]  Step: 43ms | Tot: 1s564ms | Loss: 1.391 | Acc: 48.744% (2096/4300 43/10 46/100 69/100 \n",
      "Saving..\n",
      "training EnvFilter-NoMix-NoAdvs model\n",
      "\n",
      "Epoch: 1\n",
      " [==============================================>.......................................]  Step: 207ms | Tot: 45s549ms | Loss: 1.518 | Reg: 0.00000 | Acc: 44.528% (12083/27136 212/391 ..........................................................................]  Step: 202ms | Tot: 2s148ms | Loss: 1.627 | Reg: 0.00000 | Acc: 41.619% (586/1408 11/391 >.................................................................................]  Step: 202ms | Tot: 4s665ms | Loss: 1.606 | Reg: 0.00000 | Acc: 41.508% (1222/2944 23/391 .....]  Step: 198ms | Tot: 20s198ms | Loss: 1.560 | Reg: 0.00000 | Acc: 42.961% (5224/12160 95/391 ...........................]  Step: 201ms | Tot: 21s698ms | Loss: 1.558 | Reg: 0.00000 | Acc: 42.923% (5604/13056 102/39 119/391 \r"
     ]
    }
   ],
   "source": [
    "to_learn = {\"name\": [\"EnvFilter-NoMix-NoAdvs\",\"Attention-LinearMix-2Sets-128-AdvsTrain-Eps(.32, .08)\", \n",
    "                     \"EnvFilter-LinearMix-2Sets-128-AdvsTrain-Eps(.32, .08)\"],\n",
    "            \"normal\": [True, False, False],\n",
    "            \"attention\": [False, True, False]\n",
    "           }\n",
    "\n",
    "for l_num in range(3):\n",
    "\n",
    "    params = {\n",
    "        \"lr\": .01,\n",
    "        \"resume\": False,\n",
    "        \"model\": \"ResNet18\",\n",
    "        \"name\": to_learn['name'][l_num],\n",
    "        \"seed\": 10,\n",
    "        \"batch_size\": 128,\n",
    "        \"decay\": 1e-4, \n",
    "        \"augment\": True,\n",
    "        \"epoch\": 200,\n",
    "    #     \"no_augment\": False,\n",
    "        \"alpha\": 1.,\n",
    "    }\n",
    "    \n",
    "    if to_learn['normal'][l_num]:\n",
    "        params['decay'] = 5e-4\n",
    "\n",
    "    # Model\n",
    "    if params[\"resume\"]:\n",
    "        # Load checkpoint.\n",
    "        print('==> Resuming from checkpoint..')\n",
    "        assert os.path.isdir('checkpoint'), 'Error: no checkpoint directory found!'\n",
    "        checkpoint = torch.load('./checkpoint/ckpt.t7' + params[\"name\"] + '_'\n",
    "                                + str(params[\"seed\"]), map_location='cpu')\n",
    "\n",
    "        net = checkpoint['net']\n",
    "        best_acc = checkpoint['acc']\n",
    "        start_epoch = checkpoint['epoch'] + 1\n",
    "        rng_state = checkpoint['rng_state']\n",
    "        torch.set_rng_state(rng_state)\n",
    "    else:\n",
    "        print('==> Building model..')\n",
    "        net = models.__dict__[params[\"model\"]]()\n",
    "\n",
    "    if not os.path.isdir('results'):\n",
    "        os.mkdir('results')\n",
    "    logname = ('results/log_' + net.__class__.__name__ + '_' + params[\"name\"] + '_'\n",
    "               + str(params[\"seed\"]) + '.csv')\n",
    "\n",
    "    if use_cuda:\n",
    "        net = torch.nn.DataParallel(net)\n",
    "        net.to('cuda:0')\n",
    "        print(torch.cuda.device_count())\n",
    "        cudnn.benchmark = True\n",
    "        print('Using CUDA..')\n",
    "\n",
    "    start_epoch = 0\n",
    "    best_acc = 0\n",
    "\n",
    "    criterion = nn.CrossEntropyLoss()\n",
    "    optimizer = optim.SGD(net.parameters(), lr=params[\"lr\"], momentum=0.9,\n",
    "                          weight_decay=params[\"decay\"])\n",
    "\n",
    "    # import importlib\n",
    "    # importlib.reload(MixingFunctions)\n",
    "    importlib.reload(function)\n",
    "    importlib.reload(attribution_methods)\n",
    "    importlib.reload(models)\n",
    "    importlib.reload(filter_env)\n",
    "\n",
    "    \n",
    "    if not os.path.exists(logname):\n",
    "        with open(logname, 'w') as logfile:\n",
    "            logwriter = csv.writer(logfile, delimiter=',')\n",
    "            logwriter.writerow(['epoch', 'train loss', 'reg loss', 'train acc',\n",
    "                                'test loss', 'test acc'])\n",
    "\n",
    "    mu = .32\n",
    "    sig = .08\n",
    "\n",
    "    for epoch in range(start_epoch, params[\"epoch\"]):\n",
    "        \n",
    "        print(f\"training {to_learn['name'][l_num]} model\")\n",
    "        \n",
    "        if to_learn['normal'][l_num]:\n",
    "            train_loss, reg_loss, train_acc = train_normal(epoch, filter_function=filter_env.augment_environment, fliter_payload=payload, advs_train=False, epsilon=(mu,sig))\n",
    "        elif l_num == 1:\n",
    "            train_loss, reg_loss, train_acc = train_mixup(epoch, filter_function=function.attention_mask_filter, fliter_payload=payload, mixup_func=MixingFunctions.mixup_data_nMixes, nMix=2, advs_train=True, epsilon=(mu,sig))\n",
    "        elif l_num == 2:\n",
    "            train_loss, reg_loss, train_acc = train_mixup(epoch, filter_function=filter_env.augment_environment, fliter_payload=payload, mixup_func=MixingFunctions.mixup_data_nMixes, nMix=2, advs_train=True, epsilon=(mu,sig))\n",
    "            \n",
    "        # If you are using attention please add the filter to the test data too.\n",
    "        \n",
    "        if to_learn['attention'][l_num]:\n",
    "            test_loss, test_acc = test(epoch, filter_function=function.attention_mask_filter, fliter_payload=payload)\n",
    "        else:\n",
    "            test_loss, test_acc = test(epoch)\n",
    "        adjust_learning_rate(optimizer, epoch)\n",
    "        with open(logname, 'a') as logfile:\n",
    "            logwriter = csv.writer(logfile, delimiter=',')\n",
    "            logwriter.writerow([epoch, train_loss, reg_loss, train_acc, test_loss,\n",
    "                                test_acc])"
   ]
  },
  {
   "cell_type": "markdown",
   "id": "flush-forth",
   "metadata": {},
   "source": [
    "# Robustness Evaluation"
   ]
  },
  {
   "cell_type": "code",
   "execution_count": null,
   "id": "attempted-plaintiff",
   "metadata": {},
   "outputs": [],
   "source": [
    "def eval_robust(net, epsilon=0):\n",
    "\n",
    "    net.to(f'cuda:{net.device_ids[0]}')\n",
    "    net.eval()\n",
    "    incorrect = 0\n",
    "    total = 0\n",
    "    \n",
    "    for batch_idx, (normal_inpts, targets) in tqdm(enumerate(testloader)):\n",
    "        if use_cuda:\n",
    "            normal_inpts, targets = normal_inpts.cuda(), targets.cuda()\n",
    "#             normal_inpts, targets = normal_inpts.to('cuda:1'), targets.to('cuda:1')\n",
    "#         normal_inpts, targets = Variable(normal_inpts, volatile=True), Variable(targets)\n",
    "        normal_inpts.requires_grad_(True)\n",
    "        \n",
    "        outputs = net(normal_inpts)\n",
    "        loss = criterion(outputs, targets)\n",
    "        \n",
    "        optimizer.zero_grad()\n",
    "        loss.backward()\n",
    "        \n",
    "        \n",
    "        with torch.no_grad():\n",
    "            advers_inp = normal_inpts + (epsilon * normal_inpts.grad.sign())\n",
    "            advers_out = net(advers_inp)\n",
    "#             print(advers_out.cpu().data.shape)\n",
    "            normal_out = net(normal_inpts)\n",
    "            _,advs_predicted = torch.max(advers_out.data, 1)\n",
    "            _,normal_predicted = torch.max(normal_out.data, 1)\n",
    "    \n",
    "\n",
    "#         _, advs_predicted = torch.max(advs_predicted.data, 1)\n",
    "        total += targets.size(0)\n",
    "        incorrect += targets.size(0) - advs_predicted.eq(targets.data).sum()\n",
    "    \n",
    "    print(f'incorrects are: {incorrect} \\ntotal is: {total} \\nTop-1 error is {100.*incorrect/total}')\n",
    "        \n",
    "    return 100.*incorrect/total\n",
    "#     acc = 100.*correct/total\n",
    "#     return (test_loss/batch_idx, 100.*correct/total)"
   ]
  },
  {
   "cell_type": "code",
   "execution_count": 468,
   "id": "worthy-blink",
   "metadata": {},
   "outputs": [
    {
     "name": "stderr",
     "output_type": "stream",
     "text": [
      "100it [00:09, 10.69it/s]"
     ]
    },
    {
     "name": "stdout",
     "output_type": "stream",
     "text": [
      "incorrects are: 511 \n",
      "total is: 10000 \n",
      "Top-1 error is 5.109999656677246\n"
     ]
    },
    {
     "name": "stderr",
     "output_type": "stream",
     "text": [
      "\n"
     ]
    },
    {
     "data": {
      "text/plain": [
       "tensor([94.8900])"
      ]
     },
     "execution_count": 468,
     "metadata": {},
     "output_type": "execute_result"
    }
   ],
   "source": [
    "to_acc_tensor([eval_robust(net, 0)])"
   ]
  },
  {
   "cell_type": "code",
   "execution_count": 116,
   "id": "crucial-guess",
   "metadata": {},
   "outputs": [
    {
     "data": {
      "text/plain": [
       "tensor(93.4600)"
      ]
     },
     "execution_count": 116,
     "metadata": {},
     "output_type": "execute_result"
    }
   ],
   "source": [
    "best_acc"
   ]
  },
  {
   "cell_type": "code",
   "execution_count": 76,
   "id": "regional-petroleum",
   "metadata": {
    "scrolled": false
   },
   "outputs": [],
   "source": [
    "def robust_eval_range(net, points=15, delta=.04):\n",
    "    eps_list = [i * delta for i in list(range(points))]\n",
    "    top_one_errs = []\n",
    "    for i in eps_list:\n",
    "        top_one_errs.append(eval_robust(net, i))\n",
    "    return top_one_errs, eps_list"
   ]
  },
  {
   "cell_type": "code",
   "execution_count": 133,
   "id": "excess-france",
   "metadata": {},
   "outputs": [],
   "source": [
    "def to_acc_tensor(arr):\n",
    "    return 100 - torch.cat([i.reshape(1) for i in arr]).cpu()"
   ]
  },
  {
   "cell_type": "code",
   "execution_count": 581,
   "id": "straight-december",
   "metadata": {
    "scrolled": true
   },
   "outputs": [
    {
     "name": "stderr",
     "output_type": "stream",
     "text": [
      "100it [00:09, 10.57it/s]"
     ]
    },
    {
     "name": "stdout",
     "output_type": "stream",
     "text": [
      "incorrects are: 1110 \n",
      "total is: 10000 \n",
      "Top-1 error is 11.09999942779541\n"
     ]
    },
    {
     "name": "stderr",
     "output_type": "stream",
     "text": [
      "\n",
      "100it [00:09, 10.90it/s]"
     ]
    },
    {
     "name": "stdout",
     "output_type": "stream",
     "text": [
      "incorrects are: 4263 \n",
      "total is: 10000 \n",
      "Top-1 error is 42.62999725341797\n"
     ]
    },
    {
     "name": "stderr",
     "output_type": "stream",
     "text": [
      "\n",
      "100it [00:09, 10.95it/s]"
     ]
    },
    {
     "name": "stdout",
     "output_type": "stream",
     "text": [
      "incorrects are: 3812 \n",
      "total is: 10000 \n",
      "Top-1 error is 38.119998931884766\n"
     ]
    },
    {
     "name": "stderr",
     "output_type": "stream",
     "text": [
      "\n",
      "100it [00:09, 10.83it/s]"
     ]
    },
    {
     "name": "stdout",
     "output_type": "stream",
     "text": [
      "incorrects are: 2296 \n",
      "total is: 10000 \n",
      "Top-1 error is 22.959999084472656\n"
     ]
    },
    {
     "name": "stderr",
     "output_type": "stream",
     "text": [
      "\n",
      "100it [00:09, 10.59it/s]"
     ]
    },
    {
     "name": "stdout",
     "output_type": "stream",
     "text": [
      "incorrects are: 1059 \n",
      "total is: 10000 \n",
      "Top-1 error is 10.59000015258789\n"
     ]
    },
    {
     "name": "stderr",
     "output_type": "stream",
     "text": [
      "\n",
      "100it [00:09, 10.89it/s]"
     ]
    },
    {
     "name": "stdout",
     "output_type": "stream",
     "text": [
      "incorrects are: 607 \n",
      "total is: 10000 \n",
      "Top-1 error is 6.069999694824219\n"
     ]
    },
    {
     "name": "stderr",
     "output_type": "stream",
     "text": [
      "\n",
      "100it [00:09, 10.90it/s]"
     ]
    },
    {
     "name": "stdout",
     "output_type": "stream",
     "text": [
      "incorrects are: 519 \n",
      "total is: 10000 \n",
      "Top-1 error is 5.190000057220459\n"
     ]
    },
    {
     "name": "stderr",
     "output_type": "stream",
     "text": [
      "\n",
      "100it [00:08, 11.30it/s]"
     ]
    },
    {
     "name": "stdout",
     "output_type": "stream",
     "text": [
      "incorrects are: 569 \n",
      "total is: 10000 \n",
      "Top-1 error is 5.690000057220459\n"
     ]
    },
    {
     "name": "stderr",
     "output_type": "stream",
     "text": [
      "\n",
      "100it [00:09, 10.81it/s]"
     ]
    },
    {
     "name": "stdout",
     "output_type": "stream",
     "text": [
      "incorrects are: 770 \n",
      "total is: 10000 \n",
      "Top-1 error is 7.699999809265137\n"
     ]
    },
    {
     "name": "stderr",
     "output_type": "stream",
     "text": [
      "\n",
      "100it [00:09, 10.55it/s]"
     ]
    },
    {
     "name": "stdout",
     "output_type": "stream",
     "text": [
      "incorrects are: 1088 \n",
      "total is: 10000 \n",
      "Top-1 error is 10.880000114440918\n"
     ]
    },
    {
     "name": "stderr",
     "output_type": "stream",
     "text": [
      "\n",
      "100it [00:09, 10.90it/s]"
     ]
    },
    {
     "name": "stdout",
     "output_type": "stream",
     "text": [
      "incorrects are: 1551 \n",
      "total is: 10000 \n",
      "Top-1 error is 15.50999927520752\n"
     ]
    },
    {
     "name": "stderr",
     "output_type": "stream",
     "text": [
      "\n",
      "100it [00:09, 10.82it/s]"
     ]
    },
    {
     "name": "stdout",
     "output_type": "stream",
     "text": [
      "incorrects are: 2162 \n",
      "total is: 10000 \n",
      "Top-1 error is 21.619998931884766\n"
     ]
    },
    {
     "name": "stderr",
     "output_type": "stream",
     "text": [
      "\n",
      "100it [00:09, 10.88it/s]"
     ]
    },
    {
     "name": "stdout",
     "output_type": "stream",
     "text": [
      "incorrects are: 2805 \n",
      "total is: 10000 \n",
      "Top-1 error is 28.049999237060547\n"
     ]
    },
    {
     "name": "stderr",
     "output_type": "stream",
     "text": [
      "\n",
      "100it [00:08, 11.20it/s]"
     ]
    },
    {
     "name": "stdout",
     "output_type": "stream",
     "text": [
      "incorrects are: 3545 \n",
      "total is: 10000 \n",
      "Top-1 error is 35.45000076293945\n"
     ]
    },
    {
     "name": "stderr",
     "output_type": "stream",
     "text": [
      "\n",
      "100it [00:09, 10.63it/s]"
     ]
    },
    {
     "name": "stdout",
     "output_type": "stream",
     "text": [
      "incorrects are: 4258 \n",
      "total is: 10000 \n",
      "Top-1 error is 42.57999801635742\n"
     ]
    },
    {
     "name": "stderr",
     "output_type": "stream",
     "text": [
      "\n"
     ]
    }
   ],
   "source": [
    "# err_norm_advs, eps_list = robust_eval_range(net_norm_adv)\n",
    "# err35, eps_list = robust_eval_range(net35)\n",
    "# err25, eps_list = robust_eval_range(net25)\n",
    "# err45, eps_list = robust_eval_range(net45)\n",
    "# err_mixup, eps_list = robust_eval_range(net)\n",
    "# err_erm_noadvs, eps_list = robust_eval_range(net_ERM_noadvs)\n",
    "# err_SampEps_32_08, eps_list = robust_eval_range(net_SampEps_32_10)\n",
    "# err05, eps_list = robust_eval_range(net)\n",
    "# err_SampEpsBeta_1_1, eps_list = robust_eval_range(net)\n",
    "# err_SampEps_32_08_linear_3samp, eps_list = robust_eval_range(net)\n",
    "# err_NoAdvs_linear_3samp, eps_list = robust_eval_range(net)\n",
    "# err_SampEps_32_08_Vertical_3samp, eps_list = robust_eval_range(net)\n",
    "# err_SampEps_32_08_Vertical_2samp, eps_list = robust_eval_range(net_VerticalMix_2Sets_SampEps_32_10)\n",
    "err_testing_samp, eps_list = robust_eval_range(net)"
   ]
  },
  {
   "cell_type": "code",
   "execution_count": 578,
   "id": "abstract-norway",
   "metadata": {},
   "outputs": [
    {
     "data": {
      "text/plain": [
       "<matplotlib.legend.Legend at 0x7f790b622eb0>"
      ]
     },
     "execution_count": 578,
     "metadata": {},
     "output_type": "execute_result"
    },
    {
     "data": {
      "image/png": "[encoded data removed]",
      "text/plain": [
       "<Figure size 960x800 with 1 Axes>"
      ]
     },
     "metadata": {
      "needs_background": "light"
     },
     "output_type": "display_data"
    }
   ],
   "source": [
    "from matplotlib.pyplot import figure\n",
    "\n",
    "figure(figsize=(12, 10), dpi=80)\n",
    "\n",
    "plt.xlabel('epsilon'); plt.ylabel('acc');\n",
    "\n",
    "plt.plot(eps_list, to_acc_tensor(err_testing_samp), c='darkgreen')\n",
    "# plt.plot(eps_list, to_acc_tensor(err_SampEps_32_08_Vertical_3samp), c='black')\n",
    "# plt.plot(eps_list, to_acc_tensor(err_SampEps_32_08_Vertical_2samp), c='gold')\n",
    "plt.plot(eps_list, to_acc_tensor(err_SampEps_32_08_linear_3samp), c='b')\n",
    "plt.plot(eps_list, to_acc_tensor(err_SampEps_32_08), c='gray')\n",
    "\n",
    "plt.legend(['Vertical Mixup 3Imgs Advs NormalSamp(.32, .08)','Vertical Mixup 2Imgs Advs NormalSamp(.32, .08)','Linear Mixup 3Imgs Advs NormalSamp(.32, .08)', 'Mixup Advs 2Imgs NormalSamp(.32, .08)',])"
   ]
  },
  {
   "cell_type": "code",
   "execution_count": 576,
   "id": "moved-tractor",
   "metadata": {
    "scrolled": false
   },
   "outputs": [
    {
     "data": {
      "image/png": "[encoded data removed]",
      "text/plain": [
       "<Figure size 960x800 with 1 Axes>"
      ]
     },
     "metadata": {
      "needs_background": "light"
     },
     "output_type": "display_data"
    }
   ],
   "source": [
    "from matplotlib.pyplot import figure\n",
    "\n",
    "figure(figsize=(12, 10), dpi=80)\n",
    "\n",
    "plt.xlabel('epsilon'); plt.ylabel('acc');\n",
    "\n",
    "\n",
    "# plt.plot(eps_list, to_acc_tensor(err_SampEps_32_08_Vertical_3samp), c='peru')\n",
    "# plt.plot(eps_list, to_acc_tensor(err_SampEps_32_08_Vertical_2samp), c='olive')\n",
    "# plt.plot(eps_list, to_acc_tensor(err_SampEps_32_08_linear_3samp), c='gold')\n",
    "plt.plot(eps_list, to_acc_tensor(err_SampEps_32_08), c='gray')\n",
    "plt.plot(eps_list, to_acc_tensor(err_SampEpsBeta_1_1), c='pink')\n",
    "plt.plot(eps_list, to_acc_tensor(err05))\n",
    "plt.plot(eps_list, to_acc_tensor(err25), c='purple')\n",
    "plt.plot(eps_list, to_acc_tensor(err35), c='r')\n",
    "plt.plot(eps_list, to_acc_tensor(err45), c='olive')\n",
    "plt.plot(eps_list, to_acc_tensor(err_mixup), c='b')\n",
    "plt.plot(eps_list, to_acc_tensor(err_erm_noadvs), c = 'darkgreen')\n",
    "plt.plot(eps_list, to_acc_tensor(err_norm_advs), c='black')\n",
    "plt.plot(eps_list, to_acc_tensor(err_NoAdvs_linear_3samp), c='steelblue')\n",
    "\n",
    "plt.legend(['Vertical Mixup 3Imgs Advs NormalSamp(.32, .08)','Vertical Mixup 2Imgs Advs NormalSamp(.32, .08)','Linear Mixup 3Imgs Advs NormalSamp(.32, .08)', 'Mixup Advs 2Imgs NormalSamp(.32, .08)', 'Mixup Advs BetaSamp(1., 1.)', 'Mixup Advs .05', 'Mixup Advs .25', 'Mixup Advs .35', 'Mixup Advs .45', 'Vanilla Mixup', 'Vanilla Training', 'Normal Advs Training', 'Normal LinearMixup 3Imgs']);\n"
   ]
  },
  {
   "cell_type": "code",
   "execution_count": 164,
   "id": "affiliated-campus",
   "metadata": {},
   "outputs": [],
   "source": [
    "def imshow(img):\n",
    "#     img = img / 2 + 0.5     # unnormalize\n",
    "    npimg = img.numpy()\n",
    "    plt.imshow(np.transpose(npimg, (1, 2, 0)))\n",
    "#     plt.imshow(npimg)\n",
    "    plt.show()"
   ]
  },
  {
   "cell_type": "code",
   "execution_count": 654,
   "id": "located-forum",
   "metadata": {
    "scrolled": true
   },
   "outputs": [
    {
     "data": {
      "text/plain": [
       "['/home/m25dehgh/testing_codes/NNs/Mixing-Augmentation/Adversarially-training-mixed',\n",
       " '/home/m25dehgh/anaconda3/envs/hugging/lib/python38.zip',\n",
       " '/home/m25dehgh/anaconda3/envs/hugging/lib/python3.8',\n",
       " '/home/m25dehgh/anaconda3/envs/hugging/lib/python3.8/lib-dynload',\n",
       " '',\n",
       " '/home/m25dehgh/anaconda3/envs/hugging/lib/python3.8/site-packages',\n",
       " '/home/m25dehgh/anaconda3/envs/hugging/lib/python3.8/site-packages/IPython/extensions',\n",
       " '/home/m25dehgh/.ipython']"
      ]
     },
     "execution_count": 654,
     "metadata": {},
     "output_type": "execute_result"
    }
   ],
   "source": [
    "while './Mixing-Augmentation/filters/attention' in sys.path:\n",
    "    sys.path.remove('./Mixing-Augmentation/filters/attention')\n",
    "    \n",
    "sys.path"
   ]
  },
  {
   "cell_type": "code",
   "execution_count": 21,
   "id": "valuable-house",
   "metadata": {},
   "outputs": [
    {
     "name": "stdout",
     "output_type": "stream",
     "text": [
      "/bin/bash: line 0: cd: ./Mixing-Augmentation.filters.attention.filter_code: No such file or directory\r\n"
     ]
    }
   ],
   "source": [
    "!cd $baseAddr"
   ]
  },
  {
   "cell_type": "code",
   "execution_count": 53,
   "id": "regulation-cotton",
   "metadata": {},
   "outputs": [
    {
     "name": "stdout",
     "output_type": "stream",
     "text": [
      "Model Complete\n",
      "torch.Size([128, 3, 32, 32])\n",
      "<class 'str'>\n"
     ]
    },
    {
     "data": {
      "text/plain": [
       "torch.Size([128, 3, 32, 32])"
      ]
     },
     "execution_count": 53,
     "metadata": {},
     "output_type": "execute_result"
    }
   ],
   "source": [
    "\n",
    "\n",
    "\n",
    "# loading model\n",
    "\n",
    "\n",
    "masked_imgs.shape"
   ]
  },
  {
   "cell_type": "code",
   "execution_count": null,
   "id": "banner-monster",
   "metadata": {},
   "outputs": [],
   "source": [
    "function = importlib.import_module(\"Mixing-Augmentation.filters.Environment\")\n",
    "\n",
    "masked_imgs = attention_mask_filter(torch.rand(10,3,32,32), payload={'model':CAM_cifar10,'mean':(0.4914, 0.4822, 0.4465),'std':(0.2023, 0.1994, 0.2010)})\n",
    "\n",
    "masked_imgs.shape"
   ]
  },
  {
   "cell_type": "code",
   "execution_count": 186,
   "id": "comparative-visitor",
   "metadata": {
    "collapsed": true
   },
   "outputs": [
    {
     "name": "stderr",
     "output_type": "stream",
     "text": [
      "Clipping input data to the valid range for imshow with RGB data ([0..1] for floats or [0..255] for integers).\n"
     ]
    },
    {
     "name": "stdout",
     "output_type": "stream",
     "text": [
      "true labels is 1 \n",
      " adversaliral predicted is tensor([6]) \n",
      " nomral is predictedtensor([1])\n"
     ]
    },
    {
     "data": {
      "image/png": "[encoded data removed]",
      "text/plain": [
       "<Figure size 432x288 with 1 Axes>"
      ]
     },
     "metadata": {
      "needs_background": "light"
     },
     "output_type": "display_data"
    },
    {
     "name": "stderr",
     "output_type": "stream",
     "text": [
      "Clipping input data to the valid range for imshow with RGB data ([0..1] for floats or [0..255] for integers).\n"
     ]
    },
    {
     "data": {
      "image/png": "[encoded data removed]",
      "text/plain": [
       "<Figure size 432x288 with 1 Axes>"
      ]
     },
     "metadata": {
      "needs_background": "light"
     },
     "output_type": "display_data"
    }
   ],
   "source": [
    "epsilon = .11\n",
    "i = random.randint(0,100)\n",
    "# i = 1\n",
    "\n",
    "\n",
    "normal_inpt = trainset[i][0].reshape(1,3,32,32).cuda()\n",
    "normal_inpt.requires_grad_(True)\n",
    "out = net(normal_inpt)\n",
    "\n",
    "target = torch.tensor([trainset[i][1]]).cuda()\n",
    "\n",
    "loss = criterion(out, target)\n",
    "\n",
    "optimizer.zero_grad()\n",
    "loss.backward()\n",
    "\n",
    "with torch.no_grad():\n",
    "    advers_inp = normal_inpt + (epsilon * normal_inpt.grad.sign())\n",
    "    advers_out = net(advers_inp)\n",
    "    normal_out = net(normal_inpt)\n",
    "    _,advs_predicted = torch.max(advers_out.cpu().data, 1)\n",
    "    _,normal_predicted = torch.max(normal_out.cpu().data, 1)\n",
    "    \n",
    "print(f'true labels is {target.item()} \\n adversaliral predicted is {advs_predicted} \\n nomral is predicted{normal_predicted}')\n",
    "\n",
    "imshow(normal_inpt.cpu().detach().squeeze())\n",
    "imshow(advers_inp.cpu().detach().squeeze())"
   ]
  },
  {
   "cell_type": "code",
   "execution_count": 264,
   "id": "inclusive-conspiracy",
   "metadata": {},
   "outputs": [
    {
     "data": {
      "text/plain": [
       "tensor(-2.4291)"
      ]
     },
     "execution_count": 264,
     "metadata": {},
     "output_type": "execute_result"
    }
   ],
   "source": [
    "# advers_out = net(advers_inp) #+ (epsilon * normal_inpt.grad.sign())\n",
    "# print(advers_out)\n",
    "mx = 100\n",
    "for j in range(1000):\n",
    "    i = random.randint(0,3000)\n",
    "    if torch.min(torch.min(trainset[i][0], -1)[0], -1)[0][0] < mx:\n",
    "        mx = torch.min(torch.min(trainset[i][0], -1)[0], -1)[0][0]\n",
    "mx"
   ]
  },
  {
   "cell_type": "code",
   "execution_count": null,
   "id": "sufficient-repository",
   "metadata": {},
   "outputs": [],
   "source": [
    "import pandas as pd\n",
    "\n",
    "df = pd.read_csv(\"~/testing_codes/NNs/results/log_ResNet_ERM-128-WithAug_10.csv\")\n",
    "df"
   ]
  },
  {
   "cell_type": "code",
   "execution_count": null,
   "id": "stuffed-mobile",
   "metadata": {},
   "outputs": [],
   "source": []
  }
 ],
 "metadata": {
  "kernelspec": {
   "display_name": "mixdef",
   "language": "python",
   "name": "mixdef"
  }
 },
 "nbformat": 4,
 "nbformat_minor": 5
}
