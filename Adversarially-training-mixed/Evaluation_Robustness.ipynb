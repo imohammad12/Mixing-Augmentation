{
 "cells": [
  {
   "cell_type": "code",
   "execution_count": 4,
   "id": "reserved-birmingham",
   "metadata": {
    "scrolled": true
   },
   "outputs": [],
   "source": [
    "#!/usr/bin/env python3 -u\n",
    "# Copyright (c) 2017-present, Facebook, Inc.\n",
    "# All rights reserved.\n",
    "#\n",
    "# This source code is licensed under the license found in the LICENSE file in\n",
    "# the root directory of this source tree.\n",
    "from __future__ import print_function\n",
    "\n",
    "import argparse\n",
    "import csv\n",
    "import os\n",
    "\n",
    "import numpy as np\n",
    "import torch\n",
    "from torch.autograd import Variable\n",
    "import torch.backends.cudnn as cudnn\n",
    "import torch.nn as nn\n",
    "import torch.optim as optim\n",
    "import torchvision.transforms as transforms\n",
    "import torchvision.datasets as datasets\n",
    "\n",
    "import models\n",
    "from utils import progress_bar\n",
    "import matplotlib.pyplot as plt\n",
    "import numpy as np\n",
    "import pandas as pd\n",
    "import random\n",
    "from tqdm import tqdm\n",
    "import MixingFunctions\n",
    "import sys\n",
    "import importlib  \n",
    "from matplotlib.pyplot import figure\n",
    "\n",
    "# %cd ../../\n",
    "\n",
    "function = importlib.import_module(\"Mixing-Augmentation.filters.attention.function\")\n",
    "attribution_methods = importlib.import_module(\"Mixing-Augmentation.filters.attention.filter_code.code.saliency.attribution_methods\")\n",
    "models_attention = importlib.import_module(\"Mixing-Augmentation.filters.attention.filter_code.code.models_attention\")\n",
    "filter_env = importlib.import_module(\"Mixing-Augmentation.filters.Environment.environment_apply\")\n",
    "\n",
    "importlib.reload(function)\n",
    "importlib.reload(attribution_methods)\n",
    "importlib.reload(models)\n",
    "importlib.reload(filter_env)\n",
    "# importlib.reload(MixingFunctions)\n",
    "\n",
    "\n",
    "params = {\n",
    "    \"lr\": .01,\n",
    "    \"resume\": False,\n",
    "    \"model\": \"ResNet18\",\n",
    "    \"name\": \"Attention-NoMix-NoAdvs\",\n",
    "    \"seed\": 10,\n",
    "    \"batch_size\": 128,\n",
    "    \"decay\": 5e-4, \n",
    "    \"augment\": True,\n",
    "    \"epoch\": 200,\n",
    "#     \"no_augment\": False,\n",
    "    \"alpha\": 1.,\n",
    "}\n",
    "\n",
    "%config Completer.use_jedi = False"
   ]
  },
  {
   "cell_type": "code",
   "execution_count": 14,
   "id": "extensive-rubber",
   "metadata": {},
   "outputs": [
    {
     "name": "stdout",
     "output_type": "stream",
     "text": [
      "/home/m25dehgh/testing_codes/NNs\r\n"
     ]
    }
   ],
   "source": [
    "!pwd"
   ]
  },
  {
   "cell_type": "code",
   "execution_count": 5,
   "id": "innocent-structure",
   "metadata": {},
   "outputs": [],
   "source": [
    "\n",
    "\n",
    "\n",
    "# checkpoint = torch.load('./checkpoint/ckpt.t7' + params[\"name\"] + '_'\n",
    "#                             + str(params[\"seed\"]), map_location='cpu')\n",
    "\n",
    "# net_VerticalMix_2Sets_SampEps_32_10 = checkpoint['net']\n",
    "# net_VerticalMix_2Sets_SampEps_32_10.cuda()"
   ]
  },
  {
   "cell_type": "code",
   "execution_count": 95,
   "id": "furnished-refrigerator",
   "metadata": {},
   "outputs": [
    {
     "name": "stdout",
     "output_type": "stream",
     "text": [
      "/home/m25dehgh/testing_codes/NNs\r\n"
     ]
    }
   ],
   "source": []
  },
  {
   "cell_type": "markdown",
   "id": "final-stroke",
   "metadata": {},
   "source": [
    "# Loading Data"
   ]
  },
  {
   "cell_type": "code",
   "execution_count": 28,
   "id": "junior-depression",
   "metadata": {},
   "outputs": [
    {
     "name": "stdout",
     "output_type": "stream",
     "text": [
      "==> Preparing data..\n"
     ]
    }
   ],
   "source": [
    "\n",
    "\n",
    "\n",
    "use_cuda = torch.cuda.is_available()\n",
    "\n",
    "best_acc = 0  # best test accuracy\n",
    "start_epoch = 0  # start from epoch 0 or last checkpoint epoch\n",
    "\n",
    "if params[\"seed\"] != 0:\n",
    "    torch.manual_seed(params[\"seed\"])\n",
    "\n",
    "# Data\n",
    "print('==> Preparing data..')\n",
    "if params[\"augment\"]:\n",
    "    transform_train = transforms.Compose([\n",
    "        transforms.RandomCrop(32, padding=4),\n",
    "        transforms.RandomHorizontalFlip(),\n",
    "        transforms.ToTensor(),\n",
    "        transforms.Normalize((0.4914, 0.4822, 0.4465),\n",
    "                             (0.2023, 0.1994, 0.2010)),\n",
    "    ])\n",
    "else:\n",
    "    print(\"no augmentation\")\n",
    "    transform_train = transforms.Compose([\n",
    "        transforms.ToTensor(),\n",
    "        transforms.Normalize((0.4914, 0.4822, 0.4465),\n",
    "                             (0.2023, 0.1994, 0.2010)),\n",
    "    ])\n",
    "\n",
    "\n",
    "transform_test = transforms.Compose([\n",
    "    transforms.ToTensor(),\n",
    "    transforms.Normalize((0.4914, 0.4822, 0.4465), (0.2023, 0.1994, 0.2010)),\n",
    "])\n",
    "\n",
    "trainset = datasets.CIFAR10(root='/home/m25dehgh/testing_codes/NNs/data', train=True, download=False,\n",
    "                            transform=transform_train)\n",
    "trainloader = torch.utils.data.DataLoader(trainset,\n",
    "                                          batch_size=params[\"batch_size\"],\n",
    "                                          shuffle=True, num_workers=8)\n",
    "\n",
    "testset = datasets.CIFAR10(root='/home/m25dehgh/testing_codes/NNs/data', train=False, download=False,\n",
    "                           transform=transform_test)\n",
    "testloader = torch.utils.data.DataLoader(testset, batch_size=100,\n",
    "                                         shuffle=False, num_workers=8)"
   ]
  },
  {
   "cell_type": "markdown",
   "id": "individual-fundamental",
   "metadata": {},
   "source": [
    "# Creating Loss Funciton "
   ]
  },
  {
   "cell_type": "code",
   "execution_count": 32,
   "id": "disabled-finish",
   "metadata": {},
   "outputs": [],
   "source": [
    "criterion = nn.CrossEntropyLoss()"
   ]
  },
  {
   "cell_type": "markdown",
   "id": "stopped-shareware",
   "metadata": {},
   "source": [
    "# Helping functions"
   ]
  },
  {
   "cell_type": "markdown",
   "id": "sapphire-spanish",
   "metadata": {},
   "source": [
    "# Training the model"
   ]
  },
  {
   "cell_type": "code",
   "execution_count": 11,
   "id": "stupid-exclusion",
   "metadata": {},
   "outputs": [],
   "source": [
    "model_names = [\n",
    "    'ckpt.t7Attention-LinearMix-2Sets-128-AdvsTrain-Eps(.32, .08)_10',\n",
    "    'ckpt.t7Attention-NoMix-NoAdvs_10',\n",
    "    'ckpt.t7ERM-128-WithAug_10', # vanilla trianed model\n",
    "    'ckpt.t7EnvFilter-LinearMix-2Sets-128-AdvsTrain-Eps(.32, .08)_10',\n",
    "    'ckpt.t7EnvFilter-NoMix-NoAdvs_10',\n",
    "    'ckpt.t7HorizontalMix-2Sets-128-AdvsTrain-Eps(.32, .08)_10',\n",
    "    'ckpt.t7HorizontalMix-2Sets-128-NoAdvs_10',\n",
    "    'ckpt.t7HorizontalMix-3Sets-128-AdvsTrain-Eps(.32, .08)_10',\n",
    "    'ckpt.t7HorizontalMix-3Sets-128-NoAdvs_10',\n",
    "    'ckpt.t7LinearMix-3Sets-128-AdvsTrain-Eps(.32, .08)_10',\n",
    "    'ckpt.t7LinearMix-3Sets-128-NoAdvs_10',\n",
    "    'ckpt.t7VerticalMix-2Sets-128-AdvsTrain-Eps(.32, .08)_10',\n",
    "    'ckpt.t7VerticalMix-2Sets-128-NoAdvs_10',\n",
    "    'ckpt.t7VerticalMix-3Sets-128-AdvsTrain-Eps(.32, .08)_10',\n",
    "    'ckpt.t7VerticalMix-3Sets-128-NoAdvs_10',\n",
    "    'ckpt.t7mixup-128-AdvsTrain-Eps(.32, .08)_10',\n",
    "    'ckpt.t7mixup-128-AdvsTrain-Eps0.05_10',\n",
    "    'ckpt.t7mixup-128-AdvsTrain-Eps0.25_10',\n",
    "    'ckpt.t7mixup-128-AdvsTrain-Eps0.35_10',\n",
    "    'ckpt.t7mixup-128-AdvsTrain-Eps0.45_10',\n",
    "    'ckpt.t7mixup-128-AdvsTrain-EpsBeta(1,1)_10',\n",
    "    'ckpt.t7mixup-128-NoAdvs_10', # vanilla linear mixing model\n",
    "    'ckpt.t7nomixup-128-NormalAdvsTrain0.35_10'] # vanilla defence goodflow 2014"
   ]
  },
  {
   "cell_type": "code",
   "execution_count": 17,
   "id": "italic-individual",
   "metadata": {},
   "outputs": [],
   "source": [
    "params = {\n",
    "    \"lr\": .01,\n",
    "    \"resume\": False,\n",
    "    \"model\": \"ResNet18\",\n",
    "    \"name\": \"Attention-NoMix-NoAdvs\",\n",
    "    \"seed\": 10,\n",
    "    \"batch_size\": 128,\n",
    "    \"decay\": 5e-4, \n",
    "    \"augment\": True,\n",
    "    \"epoch\": 200,\n",
    "#     \"no_augment\": False,\n",
    "    \"alpha\": 1.,\n",
    "}\n",
    "\n",
    "# errs = {}\n",
    "\n",
    "models = {}\n",
    "    \n",
    "\n",
    "for name in model_names:\n",
    "    \n",
    "\n",
    "    checkpoint = torch.load(\"./checkpoint/\" + name, map_location='cpu')\n",
    "\n",
    "    models[name] = checkpoint['net']"
   ]
  },
  {
   "cell_type": "code",
   "execution_count": 105,
   "id": "neither-brother",
   "metadata": {
    "scrolled": true
   },
   "outputs": [
    {
     "name": "stderr",
     "output_type": "stream",
     "text": [
      "100it [00:09, 10.01it/s]"
     ]
    },
    {
     "name": "stdout",
     "output_type": "stream",
     "text": [
      "incorrects are: 1359 \n",
      "total is: 10000 \n",
      "Top-1 error is 13.589999198913574\n"
     ]
    },
    {
     "name": "stderr",
     "output_type": "stream",
     "text": [
      "\n",
      "100it [00:09, 10.13it/s]"
     ]
    },
    {
     "name": "stdout",
     "output_type": "stream",
     "text": [
      "incorrects are: 2680 \n",
      "total is: 10000 \n",
      "Top-1 error is 26.799999237060547\n"
     ]
    },
    {
     "name": "stderr",
     "output_type": "stream",
     "text": [
      "\n",
      "100it [00:09, 10.12it/s]"
     ]
    },
    {
     "name": "stdout",
     "output_type": "stream",
     "text": [
      "incorrects are: 1091 \n",
      "total is: 10000 \n",
      "Top-1 error is 10.90999984741211\n"
     ]
    },
    {
     "name": "stderr",
     "output_type": "stream",
     "text": [
      "\n",
      "100it [00:09, 10.04it/s]"
     ]
    },
    {
     "name": "stdout",
     "output_type": "stream",
     "text": [
      "incorrects are: 1107 \n",
      "total is: 10000 \n",
      "Top-1 error is 11.069999694824219\n"
     ]
    },
    {
     "name": "stderr",
     "output_type": "stream",
     "text": [
      "\n",
      "100it [00:10,  9.97it/s]"
     ]
    },
    {
     "name": "stdout",
     "output_type": "stream",
     "text": [
      "incorrects are: 1361 \n",
      "total is: 10000 \n",
      "Top-1 error is 13.609999656677246\n"
     ]
    },
    {
     "name": "stderr",
     "output_type": "stream",
     "text": [
      "\n",
      "100it [00:09, 10.15it/s]"
     ]
    },
    {
     "name": "stdout",
     "output_type": "stream",
     "text": [
      "incorrects are: 1626 \n",
      "total is: 10000 \n",
      "Top-1 error is 16.260000228881836\n"
     ]
    },
    {
     "name": "stderr",
     "output_type": "stream",
     "text": [
      "\n",
      "100it [00:10,  9.96it/s]"
     ]
    },
    {
     "name": "stdout",
     "output_type": "stream",
     "text": [
      "incorrects are: 1844 \n",
      "total is: 10000 \n",
      "Top-1 error is 18.439998626708984\n"
     ]
    },
    {
     "name": "stderr",
     "output_type": "stream",
     "text": [
      "\n",
      "100it [00:09, 10.12it/s]\n"
     ]
    },
    {
     "name": "stdout",
     "output_type": "stream",
     "text": [
      "incorrects are: 2078 \n",
      "total is: 10000 \n",
      "Top-1 error is 20.779998779296875\n"
     ]
    },
    {
     "name": "stderr",
     "output_type": "stream",
     "text": [
      "100it [00:09, 10.23it/s]"
     ]
    },
    {
     "name": "stdout",
     "output_type": "stream",
     "text": [
      "incorrects are: 2359 \n",
      "total is: 10000 \n",
      "Top-1 error is 23.59000015258789\n"
     ]
    },
    {
     "name": "stderr",
     "output_type": "stream",
     "text": [
      "\n",
      "100it [00:10,  9.92it/s]"
     ]
    },
    {
     "name": "stdout",
     "output_type": "stream",
     "text": [
      "incorrects are: 2638 \n",
      "total is: 10000 \n",
      "Top-1 error is 26.3799991607666\n"
     ]
    },
    {
     "name": "stderr",
     "output_type": "stream",
     "text": [
      "\n",
      "100it [00:10,  9.97it/s]"
     ]
    },
    {
     "name": "stdout",
     "output_type": "stream",
     "text": [
      "incorrects are: 3002 \n",
      "total is: 10000 \n",
      "Top-1 error is 30.01999855041504\n"
     ]
    },
    {
     "name": "stderr",
     "output_type": "stream",
     "text": [
      "\n",
      "100it [00:09, 10.21it/s]"
     ]
    },
    {
     "name": "stdout",
     "output_type": "stream",
     "text": [
      "incorrects are: 3468 \n",
      "total is: 10000 \n",
      "Top-1 error is 34.68000030517578\n"
     ]
    },
    {
     "name": "stderr",
     "output_type": "stream",
     "text": [
      "\n",
      "100it [00:09, 10.17it/s]"
     ]
    },
    {
     "name": "stdout",
     "output_type": "stream",
     "text": [
      "incorrects are: 4101 \n",
      "total is: 10000 \n",
      "Top-1 error is 41.0099983215332\n"
     ]
    },
    {
     "name": "stderr",
     "output_type": "stream",
     "text": [
      "\n",
      "100it [00:10,  9.97it/s]"
     ]
    },
    {
     "name": "stdout",
     "output_type": "stream",
     "text": [
      "incorrects are: 4819 \n",
      "total is: 10000 \n",
      "Top-1 error is 48.189998626708984\n"
     ]
    },
    {
     "name": "stderr",
     "output_type": "stream",
     "text": [
      "\n",
      "100it [00:09, 10.01it/s]"
     ]
    },
    {
     "name": "stdout",
     "output_type": "stream",
     "text": [
      "incorrects are: 5538 \n",
      "total is: 10000 \n",
      "Top-1 error is 55.37999725341797\n"
     ]
    },
    {
     "name": "stderr",
     "output_type": "stream",
     "text": [
      "\n"
     ]
    }
   ],
   "source": [
    "name = \"ckpt.t7EnvFilter-LinearMix-2Sets-128-AdvsTrain-Eps(.32, .08)_10\"\n",
    "chp = torch.load(\"./checkpoint/\" + name, map_location='cpu')\n",
    "models[name] = chp['net']\n",
    "errs[name], eps_list = robust_eval_range(models[name])"
   ]
  },
  {
   "cell_type": "code",
   "execution_count": 109,
   "id": "connected-sampling",
   "metadata": {
    "scrolled": true
   },
   "outputs": [
    {
     "name": "stderr",
     "output_type": "stream",
     "text": [
      "100it [00:09, 10.68it/s]"
     ]
    },
    {
     "name": "stdout",
     "output_type": "stream",
     "text": [
      "incorrects are: 1114 \n",
      "total is: 10000 \n",
      "Top-1 error is 11.139999389648438\n",
      "ckpt.t7Attention-LinearMix-2Sets-128-AdvsTrain-Eps(.32, .08)_10  clean acc is: tensor([88.8600])\n"
     ]
    },
    {
     "name": "stderr",
     "output_type": "stream",
     "text": [
      "\n",
      "100it [00:09, 10.79it/s]"
     ]
    },
    {
     "name": "stdout",
     "output_type": "stream",
     "text": [
      "incorrects are: 3546 \n",
      "total is: 10000 \n",
      "Top-1 error is 35.459999084472656\n",
      "ckpt.t7Attention-LinearMix-2Sets-128-AdvsTrain-Eps(.32, .08)_10  on .25 advs noise acc is: tensor([64.5400])\n",
      "===================================================================\n"
     ]
    },
    {
     "name": "stderr",
     "output_type": "stream",
     "text": [
      "\n",
      "100it [00:09, 10.60it/s]"
     ]
    },
    {
     "name": "stdout",
     "output_type": "stream",
     "text": [
      "incorrects are: 620 \n",
      "total is: 10000 \n",
      "Top-1 error is 6.199999809265137\n",
      "ckpt.t7Attention-NoMix-NoAdvs_10  clean acc is: tensor([93.8000])\n"
     ]
    },
    {
     "name": "stderr",
     "output_type": "stream",
     "text": [
      "\n",
      "100it [00:09, 10.67it/s]"
     ]
    },
    {
     "name": "stdout",
     "output_type": "stream",
     "text": [
      "incorrects are: 8687 \n",
      "total is: 10000 \n",
      "Top-1 error is 86.8699951171875\n",
      "ckpt.t7Attention-NoMix-NoAdvs_10  on .25 advs noise acc is: tensor([13.1300])\n",
      "===================================================================\n"
     ]
    },
    {
     "name": "stderr",
     "output_type": "stream",
     "text": [
      "\n",
      "100it [00:09, 10.67it/s]"
     ]
    },
    {
     "name": "stdout",
     "output_type": "stream",
     "text": [
      "incorrects are: 1359 \n",
      "total is: 10000 \n",
      "Top-1 error is 13.589999198913574\n",
      "ckpt.t7EnvFilter-LinearMix-2Sets-128-AdvsTrain-Eps(.32, .08)_10  clean acc is: tensor([86.4100])\n"
     ]
    },
    {
     "name": "stderr",
     "output_type": "stream",
     "text": [
      "\n",
      "100it [00:09, 10.58it/s]"
     ]
    },
    {
     "name": "stdout",
     "output_type": "stream",
     "text": [
      "incorrects are: 1894 \n",
      "total is: 10000 \n",
      "Top-1 error is 18.939998626708984\n",
      "ckpt.t7EnvFilter-LinearMix-2Sets-128-AdvsTrain-Eps(.32, .08)_10  on .25 advs noise acc is: tensor([81.0600])\n",
      "===================================================================\n"
     ]
    },
    {
     "name": "stderr",
     "output_type": "stream",
     "text": [
      "\n",
      "100it [00:09, 10.56it/s]"
     ]
    },
    {
     "name": "stdout",
     "output_type": "stream",
     "text": [
      "incorrects are: 568 \n",
      "total is: 10000 \n",
      "Top-1 error is 5.679999828338623\n",
      "ckpt.t7EnvFilter-NoMix-NoAdvs_10  clean acc is: tensor([94.3200])\n"
     ]
    },
    {
     "name": "stderr",
     "output_type": "stream",
     "text": [
      "\n",
      "100it [00:09, 10.64it/s]\n"
     ]
    },
    {
     "name": "stdout",
     "output_type": "stream",
     "text": [
      "incorrects are: 8120 \n",
      "total is: 10000 \n",
      "Top-1 error is 81.19999694824219\n",
      "ckpt.t7EnvFilter-NoMix-NoAdvs_10  on .25 advs noise acc is: tensor([18.8000])\n",
      "===================================================================\n"
     ]
    },
    {
     "name": "stderr",
     "output_type": "stream",
     "text": [
      "100it [00:09, 10.70it/s]"
     ]
    },
    {
     "name": "stdout",
     "output_type": "stream",
     "text": [
      "incorrects are: 962 \n",
      "total is: 10000 \n",
      "Top-1 error is 9.619999885559082\n",
      "ckpt.t7mixup-128-AdvsTrain-Eps(.32, .08)_10  clean acc is: tensor([90.3800])\n"
     ]
    },
    {
     "name": "stderr",
     "output_type": "stream",
     "text": [
      "\n",
      "100it [00:09, 10.52it/s]"
     ]
    },
    {
     "name": "stdout",
     "output_type": "stream",
     "text": [
      "incorrects are: 290 \n",
      "total is: 10000 \n",
      "Top-1 error is 2.8999998569488525\n",
      "ckpt.t7mixup-128-AdvsTrain-Eps(.32, .08)_10  on .25 advs noise acc is: tensor([97.1000])\n",
      "===================================================================\n"
     ]
    },
    {
     "name": "stderr",
     "output_type": "stream",
     "text": [
      "\n",
      "100it [00:09, 10.52it/s]"
     ]
    },
    {
     "name": "stdout",
     "output_type": "stream",
     "text": [
      "incorrects are: 723 \n",
      "total is: 10000 \n",
      "Top-1 error is 7.230000019073486\n",
      "ckpt.t7nomixup-128-NormalAdvsTrain0.35_10  clean acc is: tensor([92.7700])\n"
     ]
    },
    {
     "name": "stderr",
     "output_type": "stream",
     "text": [
      "\n",
      "100it [00:09, 10.61it/s]"
     ]
    },
    {
     "name": "stdout",
     "output_type": "stream",
     "text": [
      "incorrects are: 6989 \n",
      "total is: 10000 \n",
      "Top-1 error is 69.88999938964844\n",
      "ckpt.t7nomixup-128-NormalAdvsTrain0.35_10  on .25 advs noise acc is: tensor([30.1100])\n",
      "===================================================================\n"
     ]
    },
    {
     "name": "stderr",
     "output_type": "stream",
     "text": [
      "\n"
     ]
    }
   ],
   "source": [
    "# del models['ckpt.t7EnvFilter-LinearMix-2Sets-128-AdvsTrain-Eps(.32, .08)_10']\n",
    "# to_acc_tensor([eval_robust(models['ckpt.t7ERM-128-WithAug_10'], 0)])\n",
    "for name in selected_errs:\n",
    "    print(name, \" clean acc is:\", to_acc_tensor([eval_robust(models[name], 0)]))\n",
    "    print(name, \" on .25 advs noise acc is:\", to_acc_tensor([eval_robust(models[name], 0.25)]))\n",
    "    print(\"===================================================================\")"
   ]
  },
  {
   "cell_type": "code",
   "execution_count": 113,
   "id": "instant-remedy",
   "metadata": {},
   "outputs": [
    {
     "data": {
      "text/plain": [
       "<matplotlib.legend.Legend at 0x7f9bdb9d0710>"
      ]
     },
     "execution_count": 113,
     "metadata": {},
     "output_type": "execute_result"
    },
    {
     "data": {
      "image/png": "[encoded data removed]",
      "text/plain": [
       "<Figure size 960x720 with 1 Axes>"
      ]
     },
     "metadata": {
      "needs_background": "light"
     },
     "output_type": "display_data"
    }
   ],
   "source": [
    "# selected_errs = [\n",
    "# #     'ckpt.t7mixup-128-NoAdvs_10',\n",
    "#     'ckpt.t7mixup-128-AdvsTrain-Eps(.32, .08)_10',\n",
    "# #     'ckpt.t7LinearMix-3Sets-128-NoAdvs_10',\n",
    "#     'ckpt.t7LinearMix-3Sets-128-AdvsTrain-Eps(.32, .08)_10',\n",
    "# #     'ckpt.t7HorizontalMix-2Sets-128-NoAdvs_10',\n",
    "#     'ckpt.t7HorizontalMix-2Sets-128-AdvsTrain-Eps(.32, .08)_10',\n",
    "# #     'ckpt.t7HorizontalMix-3Sets-128-NoAdvs_10',\n",
    "#     'ckpt.t7HorizontalMix-3Sets-128-AdvsTrain-Eps(.32, .08)_10',\n",
    "# #     'ckpt.t7VerticalMix-2Sets-128-NoAdvs_10',\n",
    "#     'ckpt.t7VerticalMix-2Sets-128-AdvsTrain-Eps(.32, .08)_10',\n",
    "# #     'ckpt.t7VerticalMix-3Sets-128-NoAdvs_10',\n",
    "#     'ckpt.t7VerticalMix-3Sets-128-AdvsTrain-Eps(.32, .08)_10',\n",
    "#     'ckpt.t7nomixup-128-NormalAdvsTrain0.35_10',\n",
    "#                 ]\n",
    "\n",
    "selected_errs = [\n",
    "    'ckpt.t7Attention-LinearMix-2Sets-128-AdvsTrain-Eps(.32, .08)_10',\n",
    "    'ckpt.t7Attention-NoMix-NoAdvs_10',\n",
    "    'ckpt.t7EnvFilter-LinearMix-2Sets-128-AdvsTrain-Eps(.32, .08)_10',\n",
    "    'ckpt.t7EnvFilter-NoMix-NoAdvs_10',\n",
    "    'ckpt.t7mixup-128-AdvsTrain-Eps(.32, .08)_10',\n",
    "    'ckpt.t7nomixup-128-NormalAdvsTrain0.35_10',\n",
    "#     'ckpt.t7mixup-128-NoAdvs_10',\n",
    "\n",
    "                ]\n",
    "\n",
    "\n",
    "\n",
    "figure(figsize=(8, 6), dpi=120)\n",
    "\n",
    "plt.xlabel('value of testing epsilon used for generating FGSM noise'); plt.ylabel('acc');\n",
    "\n",
    "legends = []\n",
    "for name in selected_errs:\n",
    "    if name == 'ckpt.t7mixup-128-AdvsTrain-Eps(.32, .08)_10':\n",
    "        plt.plot(eps_list, to_acc_tensor(errs[name]), c='black')\n",
    "    else: \n",
    "        plt.plot(eps_list, to_acc_tensor(errs[name]))\n",
    "    legends.append(name[7:])\n",
    "\n",
    "plt.title('Effect of FGSM Adversarial Noise added to CIFAR-10 Test Dataset on Various DAM Models')\n",
    "plt.legend(legends)\n",
    "# plt.legend([\"DAM (Training Eps: 0.35)\", \"Vanilla Adversarially Trained Baseline (Eps: 0.35)\", \"Linear Mixup\", \"Vanilla Classifier\"])\n",
    "legends = [\n",
    "    'Attention + Linear 2Mixed Images + DAM',\n",
    "    'Vanilla Attention - No Mixing - No Defence',\n",
    "    'Environmental Filter + Linear 2Mixed Images + DAM',\n",
    "    'Vanilla Environmental Filter - No Mixing - No Defence',\n",
    "    \"No Filter - Linear 2Mixed Images + DAM\",\n",
    "    \"Vanilla Adversarially Trained Baseline (Eps: 0.35)\",\n",
    "#     'No Filter Linear 2Mixed Images',\n",
    "                ]\n",
    "plt.legend(legends)"
   ]
  },
  {
   "cell_type": "markdown",
   "id": "flush-forth",
   "metadata": {},
   "source": [
    "# Robustness Evaluation"
   ]
  },
  {
   "cell_type": "code",
   "execution_count": 33,
   "id": "attempted-plaintiff",
   "metadata": {},
   "outputs": [],
   "source": [
    "def eval_robust(net, epsilon=0):\n",
    "\n",
    "    net.to(f'cuda:{net.device_ids[0]}')\n",
    "    net.eval()\n",
    "    incorrect = 0\n",
    "    total = 0\n",
    "    \n",
    "    for batch_idx, (normal_inpts, targets) in tqdm(enumerate(testloader)):\n",
    "        if use_cuda:\n",
    "            normal_inpts, targets = normal_inpts.cuda(), targets.cuda()\n",
    "        normal_inpts.requires_grad_(True)\n",
    "        \n",
    "        outputs = net(normal_inpts)\n",
    "        loss = criterion(outputs, targets)\n",
    "        \n",
    "        net.zero_grad()\n",
    "        loss.backward()\n",
    "        \n",
    "        \n",
    "        with torch.no_grad():\n",
    "            advers_inp = normal_inpts + (epsilon * normal_inpts.grad.sign())\n",
    "            advers_out = net(advers_inp)\n",
    "\n",
    "            normal_out = net(normal_inpts)\n",
    "            _,advs_predicted = torch.max(advers_out.data, 1)\n",
    "            _,normal_predicted = torch.max(normal_out.data, 1)\n",
    "    \n",
    "\n",
    "        total += targets.size(0)\n",
    "        incorrect += targets.size(0) - advs_predicted.eq(targets.data).sum()\n",
    "    \n",
    "    print(f'incorrects are: {incorrect} \\ntotal is: {total} \\nTop-1 error is {100.*incorrect/total}')\n",
    "        \n",
    "    return 100.*incorrect/total\n",
    "\n",
    "\n",
    "def robust_eval_range(net, points=15, delta=.04):\n",
    "    eps_list = [i * delta for i in list(range(points))]\n",
    "    top_one_errs = []\n",
    "    for i in eps_list:\n",
    "        top_one_errs.append(eval_robust(net, i))\n",
    "    return top_one_errs, eps_list\n",
    "\n",
    "def to_acc_tensor(arr):\n",
    "    return 100 - torch.cat([i.reshape(1) for i in arr]).cpu()"
   ]
  },
  {
   "cell_type": "code",
   "execution_count": 34,
   "id": "worthy-blink",
   "metadata": {},
   "outputs": [
    {
     "name": "stderr",
     "output_type": "stream",
     "text": [
      "100it [00:51,  1.94it/s]"
     ]
    },
    {
     "name": "stdout",
     "output_type": "stream",
     "text": [
      "incorrects are: 568 \n",
      "total is: 10000 \n",
      "Top-1 error is 5.679999828338623\n"
     ]
    },
    {
     "name": "stderr",
     "output_type": "stream",
     "text": [
      "\n"
     ]
    },
    {
     "data": {
      "text/plain": [
       "tensor([94.3200])"
      ]
     },
     "execution_count": 34,
     "metadata": {},
     "output_type": "execute_result"
    }
   ],
   "source": []
  },
  {
   "cell_type": "code",
   "execution_count": 40,
   "id": "crucial-guess",
   "metadata": {},
   "outputs": [
    {
     "name": "stderr",
     "output_type": "stream",
     "text": [
      "100it [00:11,  8.40it/s]"
     ]
    },
    {
     "name": "stdout",
     "output_type": "stream",
     "text": [
      "incorrects are: 1114 \n",
      "total is: 10000 \n",
      "Top-1 error is 11.139999389648438\n"
     ]
    },
    {
     "name": "stderr",
     "output_type": "stream",
     "text": [
      "\n",
      "100it [00:11,  8.74it/s]"
     ]
    },
    {
     "name": "stdout",
     "output_type": "stream",
     "text": [
      "incorrects are: 4844 \n",
      "total is: 10000 \n",
      "Top-1 error is 48.439998626708984\n"
     ]
    },
    {
     "name": "stderr",
     "output_type": "stream",
     "text": [
      "\n",
      "100it [00:11,  8.81it/s]"
     ]
    },
    {
     "name": "stdout",
     "output_type": "stream",
     "text": [
      "incorrects are: 3458 \n",
      "total is: 10000 \n",
      "Top-1 error is 34.57999801635742\n"
     ]
    },
    {
     "name": "stderr",
     "output_type": "stream",
     "text": [
      "\n",
      "100it [00:11,  8.90it/s]"
     ]
    },
    {
     "name": "stdout",
     "output_type": "stream",
     "text": [
      "incorrects are: 2493 \n",
      "total is: 10000 \n",
      "Top-1 error is 24.93000030517578\n"
     ]
    },
    {
     "name": "stderr",
     "output_type": "stream",
     "text": [
      "\n",
      "100it [00:11,  8.96it/s]"
     ]
    },
    {
     "name": "stdout",
     "output_type": "stream",
     "text": [
      "incorrects are: 2350 \n",
      "total is: 10000 \n",
      "Top-1 error is 23.5\n"
     ]
    },
    {
     "name": "stderr",
     "output_type": "stream",
     "text": [
      "\n",
      "100it [00:11,  9.09it/s]"
     ]
    },
    {
     "name": "stdout",
     "output_type": "stream",
     "text": [
      "incorrects are: 2732 \n",
      "total is: 10000 \n",
      "Top-1 error is 27.31999969482422\n"
     ]
    },
    {
     "name": "stderr",
     "output_type": "stream",
     "text": [
      "\n",
      "100it [00:11,  9.09it/s]"
     ]
    },
    {
     "name": "stdout",
     "output_type": "stream",
     "text": [
      "incorrects are: 3365 \n",
      "total is: 10000 \n",
      "Top-1 error is 33.64999771118164\n"
     ]
    },
    {
     "name": "stderr",
     "output_type": "stream",
     "text": [
      "\n",
      "100it [00:11,  8.95it/s]"
     ]
    },
    {
     "name": "stdout",
     "output_type": "stream",
     "text": [
      "incorrects are: 4311 \n",
      "total is: 10000 \n",
      "Top-1 error is 43.11000061035156\n"
     ]
    },
    {
     "name": "stderr",
     "output_type": "stream",
     "text": [
      "\n",
      "100it [00:11,  9.09it/s]"
     ]
    },
    {
     "name": "stdout",
     "output_type": "stream",
     "text": [
      "incorrects are: 5333 \n",
      "total is: 10000 \n",
      "Top-1 error is 53.32999801635742\n"
     ]
    },
    {
     "name": "stderr",
     "output_type": "stream",
     "text": [
      "\n",
      "100it [00:10,  9.10it/s]"
     ]
    },
    {
     "name": "stdout",
     "output_type": "stream",
     "text": [
      "incorrects are: 6338 \n",
      "total is: 10000 \n",
      "Top-1 error is 63.37999725341797\n"
     ]
    },
    {
     "name": "stderr",
     "output_type": "stream",
     "text": [
      "\n",
      "100it [00:11,  9.07it/s]"
     ]
    },
    {
     "name": "stdout",
     "output_type": "stream",
     "text": [
      "incorrects are: 7045 \n",
      "total is: 10000 \n",
      "Top-1 error is 70.44999694824219\n"
     ]
    },
    {
     "name": "stderr",
     "output_type": "stream",
     "text": [
      "\n",
      "100it [00:10,  9.23it/s]"
     ]
    },
    {
     "name": "stdout",
     "output_type": "stream",
     "text": [
      "incorrects are: 7631 \n",
      "total is: 10000 \n",
      "Top-1 error is 76.30999755859375\n"
     ]
    },
    {
     "name": "stderr",
     "output_type": "stream",
     "text": [
      "\n",
      "100it [00:11,  8.96it/s]"
     ]
    },
    {
     "name": "stdout",
     "output_type": "stream",
     "text": [
      "incorrects are: 8137 \n",
      "total is: 10000 \n",
      "Top-1 error is 81.3699951171875\n"
     ]
    },
    {
     "name": "stderr",
     "output_type": "stream",
     "text": [
      "\n",
      "100it [00:11,  8.94it/s]"
     ]
    },
    {
     "name": "stdout",
     "output_type": "stream",
     "text": [
      "incorrects are: 8508 \n",
      "total is: 10000 \n",
      "Top-1 error is 85.07999420166016\n"
     ]
    },
    {
     "name": "stderr",
     "output_type": "stream",
     "text": [
      "\n",
      "100it [00:11,  9.04it/s]"
     ]
    },
    {
     "name": "stdout",
     "output_type": "stream",
     "text": [
      "incorrects are: 8772 \n",
      "total is: 10000 \n",
      "Top-1 error is 87.72000122070312\n"
     ]
    },
    {
     "name": "stderr",
     "output_type": "stream",
     "text": [
      "\n",
      "100it [00:11,  9.03it/s]\n"
     ]
    },
    {
     "name": "stdout",
     "output_type": "stream",
     "text": [
      "incorrects are: 620 \n",
      "total is: 10000 \n",
      "Top-1 error is 6.199999809265137\n"
     ]
    },
    {
     "name": "stderr",
     "output_type": "stream",
     "text": [
      "100it [00:11,  8.88it/s]"
     ]
    },
    {
     "name": "stdout",
     "output_type": "stream",
     "text": [
      "incorrects are: 6640 \n",
      "total is: 10000 \n",
      "Top-1 error is 66.4000015258789\n"
     ]
    },
    {
     "name": "stderr",
     "output_type": "stream",
     "text": [
      "\n",
      "100it [00:11,  9.08it/s]"
     ]
    },
    {
     "name": "stdout",
     "output_type": "stream",
     "text": [
      "incorrects are: 7867 \n",
      "total is: 10000 \n",
      "Top-1 error is 78.66999816894531\n"
     ]
    },
    {
     "name": "stderr",
     "output_type": "stream",
     "text": [
      "\n",
      "100it [00:11,  8.96it/s]"
     ]
    },
    {
     "name": "stdout",
     "output_type": "stream",
     "text": [
      "incorrects are: 8199 \n",
      "total is: 10000 \n",
      "Top-1 error is 81.98999786376953\n"
     ]
    },
    {
     "name": "stderr",
     "output_type": "stream",
     "text": [
      "\n",
      "100it [00:11,  9.01it/s]"
     ]
    },
    {
     "name": "stdout",
     "output_type": "stream",
     "text": [
      "incorrects are: 8407 \n",
      "total is: 10000 \n",
      "Top-1 error is 84.06999969482422\n"
     ]
    },
    {
     "name": "stderr",
     "output_type": "stream",
     "text": [
      "\n",
      "100it [00:11,  8.93it/s]"
     ]
    },
    {
     "name": "stdout",
     "output_type": "stream",
     "text": [
      "incorrects are: 8546 \n",
      "total is: 10000 \n",
      "Top-1 error is 85.45999908447266\n"
     ]
    },
    {
     "name": "stderr",
     "output_type": "stream",
     "text": [
      "\n",
      "100it [00:10,  9.14it/s]"
     ]
    },
    {
     "name": "stdout",
     "output_type": "stream",
     "text": [
      "incorrects are: 8671 \n",
      "total is: 10000 \n",
      "Top-1 error is 86.70999908447266\n"
     ]
    },
    {
     "name": "stderr",
     "output_type": "stream",
     "text": [
      "\n",
      "100it [00:10,  9.11it/s]"
     ]
    },
    {
     "name": "stdout",
     "output_type": "stream",
     "text": [
      "incorrects are: 8741 \n",
      "total is: 10000 \n",
      "Top-1 error is 87.40999603271484\n"
     ]
    },
    {
     "name": "stderr",
     "output_type": "stream",
     "text": [
      "\n",
      "100it [00:10,  9.30it/s]"
     ]
    },
    {
     "name": "stdout",
     "output_type": "stream",
     "text": [
      "incorrects are: 8841 \n",
      "total is: 10000 \n",
      "Top-1 error is 88.40999603271484\n"
     ]
    },
    {
     "name": "stderr",
     "output_type": "stream",
     "text": [
      "\n",
      "100it [00:10,  9.15it/s]"
     ]
    },
    {
     "name": "stdout",
     "output_type": "stream",
     "text": [
      "incorrects are: 8869 \n",
      "total is: 10000 \n",
      "Top-1 error is 88.68999481201172\n"
     ]
    },
    {
     "name": "stderr",
     "output_type": "stream",
     "text": [
      "\n",
      "100it [00:10,  9.48it/s]"
     ]
    },
    {
     "name": "stdout",
     "output_type": "stream",
     "text": [
      "incorrects are: 8918 \n",
      "total is: 10000 \n",
      "Top-1 error is 89.18000030517578\n"
     ]
    },
    {
     "name": "stderr",
     "output_type": "stream",
     "text": [
      "\n",
      "100it [00:10,  9.18it/s]"
     ]
    },
    {
     "name": "stdout",
     "output_type": "stream",
     "text": [
      "incorrects are: 8957 \n",
      "total is: 10000 \n",
      "Top-1 error is 89.56999969482422\n"
     ]
    },
    {
     "name": "stderr",
     "output_type": "stream",
     "text": [
      "\n",
      "100it [00:10,  9.15it/s]"
     ]
    },
    {
     "name": "stdout",
     "output_type": "stream",
     "text": [
      "incorrects are: 8956 \n",
      "total is: 10000 \n",
      "Top-1 error is 89.55999755859375\n"
     ]
    },
    {
     "name": "stderr",
     "output_type": "stream",
     "text": [
      "\n",
      "100it [00:10,  9.17it/s]\n"
     ]
    },
    {
     "name": "stdout",
     "output_type": "stream",
     "text": [
      "incorrects are: 8951 \n",
      "total is: 10000 \n",
      "Top-1 error is 89.50999450683594\n"
     ]
    },
    {
     "name": "stderr",
     "output_type": "stream",
     "text": [
      "100it [00:10,  9.15it/s]"
     ]
    },
    {
     "name": "stdout",
     "output_type": "stream",
     "text": [
      "incorrects are: 8960 \n",
      "total is: 10000 \n",
      "Top-1 error is 89.5999984741211\n"
     ]
    },
    {
     "name": "stderr",
     "output_type": "stream",
     "text": [
      "\n",
      "100it [00:10,  9.20it/s]"
     ]
    },
    {
     "name": "stdout",
     "output_type": "stream",
     "text": [
      "incorrects are: 534 \n",
      "total is: 10000 \n",
      "Top-1 error is 5.339999675750732\n"
     ]
    },
    {
     "name": "stderr",
     "output_type": "stream",
     "text": [
      "\n",
      "100it [00:10,  9.28it/s]"
     ]
    },
    {
     "name": "stdout",
     "output_type": "stream",
     "text": [
      "incorrects are: 6255 \n",
      "total is: 10000 \n",
      "Top-1 error is 62.54999923706055\n"
     ]
    },
    {
     "name": "stderr",
     "output_type": "stream",
     "text": [
      "\n",
      "100it [00:10,  9.17it/s]"
     ]
    },
    {
     "name": "stdout",
     "output_type": "stream",
     "text": [
      "incorrects are: 7564 \n",
      "total is: 10000 \n",
      "Top-1 error is 75.63999938964844\n"
     ]
    },
    {
     "name": "stderr",
     "output_type": "stream",
     "text": [
      "\n",
      "100it [00:10,  9.13it/s]"
     ]
    },
    {
     "name": "stdout",
     "output_type": "stream",
     "text": [
      "incorrects are: 7951 \n",
      "total is: 10000 \n",
      "Top-1 error is 79.50999450683594\n"
     ]
    },
    {
     "name": "stderr",
     "output_type": "stream",
     "text": [
      "\n",
      "100it [00:11,  9.08it/s]"
     ]
    },
    {
     "name": "stdout",
     "output_type": "stream",
     "text": [
      "incorrects are: 8132 \n",
      "total is: 10000 \n",
      "Top-1 error is 81.31999969482422\n"
     ]
    },
    {
     "name": "stderr",
     "output_type": "stream",
     "text": [
      "\n",
      "100it [00:10,  9.15it/s]"
     ]
    },
    {
     "name": "stdout",
     "output_type": "stream",
     "text": [
      "incorrects are: 8291 \n",
      "total is: 10000 \n",
      "Top-1 error is 82.90999603271484\n"
     ]
    },
    {
     "name": "stderr",
     "output_type": "stream",
     "text": [
      "\n",
      "100it [00:11,  9.08it/s]"
     ]
    },
    {
     "name": "stdout",
     "output_type": "stream",
     "text": [
      "incorrects are: 8442 \n",
      "total is: 10000 \n",
      "Top-1 error is 84.41999816894531\n"
     ]
    },
    {
     "name": "stderr",
     "output_type": "stream",
     "text": [
      "\n",
      "100it [00:10,  9.12it/s]"
     ]
    },
    {
     "name": "stdout",
     "output_type": "stream",
     "text": [
      "incorrects are: 8581 \n",
      "total is: 10000 \n",
      "Top-1 error is 85.80999755859375\n"
     ]
    },
    {
     "name": "stderr",
     "output_type": "stream",
     "text": [
      "\n",
      "100it [00:10,  9.14it/s]"
     ]
    },
    {
     "name": "stdout",
     "output_type": "stream",
     "text": [
      "incorrects are: 8679 \n",
      "total is: 10000 \n",
      "Top-1 error is 86.79000091552734\n"
     ]
    },
    {
     "name": "stderr",
     "output_type": "stream",
     "text": [
      "\n",
      "100it [00:10,  9.67it/s]"
     ]
    },
    {
     "name": "stdout",
     "output_type": "stream",
     "text": [
      "incorrects are: 8743 \n",
      "total is: 10000 \n",
      "Top-1 error is 87.43000030517578\n"
     ]
    },
    {
     "name": "stderr",
     "output_type": "stream",
     "text": [
      "\n",
      "100it [00:11,  9.06it/s]"
     ]
    },
    {
     "name": "stdout",
     "output_type": "stream",
     "text": [
      "incorrects are: 8846 \n",
      "total is: 10000 \n",
      "Top-1 error is 88.45999908447266\n"
     ]
    },
    {
     "name": "stderr",
     "output_type": "stream",
     "text": [
      "\n",
      "100it [00:10,  9.19it/s]"
     ]
    },
    {
     "name": "stdout",
     "output_type": "stream",
     "text": [
      "incorrects are: 8902 \n",
      "total is: 10000 \n",
      "Top-1 error is 89.0199966430664\n"
     ]
    },
    {
     "name": "stderr",
     "output_type": "stream",
     "text": [
      "\n",
      "100it [00:11,  9.09it/s]"
     ]
    },
    {
     "name": "stdout",
     "output_type": "stream",
     "text": [
      "incorrects are: 8949 \n",
      "total is: 10000 \n",
      "Top-1 error is 89.48999786376953\n"
     ]
    },
    {
     "name": "stderr",
     "output_type": "stream",
     "text": [
      "\n",
      "100it [00:10,  9.13it/s]"
     ]
    },
    {
     "name": "stdout",
     "output_type": "stream",
     "text": [
      "incorrects are: 8984 \n",
      "total is: 10000 \n",
      "Top-1 error is 89.83999633789062\n"
     ]
    },
    {
     "name": "stderr",
     "output_type": "stream",
     "text": [
      "\n",
      "100it [00:11,  9.09it/s]"
     ]
    },
    {
     "name": "stdout",
     "output_type": "stream",
     "text": [
      "incorrects are: 9009 \n",
      "total is: 10000 \n",
      "Top-1 error is 90.08999633789062\n"
     ]
    },
    {
     "name": "stderr",
     "output_type": "stream",
     "text": [
      "\n",
      "100it [00:10,  9.17it/s]"
     ]
    },
    {
     "name": "stdout",
     "output_type": "stream",
     "text": [
      "incorrects are: 568 \n",
      "total is: 10000 \n",
      "Top-1 error is 5.679999828338623\n"
     ]
    },
    {
     "name": "stderr",
     "output_type": "stream",
     "text": [
      "\n",
      "100it [00:10,  9.17it/s]"
     ]
    },
    {
     "name": "stdout",
     "output_type": "stream",
     "text": [
      "incorrects are: 7126 \n",
      "total is: 10000 \n",
      "Top-1 error is 71.25999450683594\n"
     ]
    },
    {
     "name": "stderr",
     "output_type": "stream",
     "text": [
      "\n",
      "100it [00:10,  9.32it/s]"
     ]
    },
    {
     "name": "stdout",
     "output_type": "stream",
     "text": [
      "incorrects are: 8057 \n",
      "total is: 10000 \n",
      "Top-1 error is 80.56999969482422\n"
     ]
    },
    {
     "name": "stderr",
     "output_type": "stream",
     "text": [
      "\n",
      "100it [00:11,  9.09it/s]"
     ]
    },
    {
     "name": "stdout",
     "output_type": "stream",
     "text": [
      "incorrects are: 8197 \n",
      "total is: 10000 \n",
      "Top-1 error is 81.97000122070312\n"
     ]
    },
    {
     "name": "stderr",
     "output_type": "stream",
     "text": [
      "\n",
      "100it [00:10,  9.13it/s]"
     ]
    },
    {
     "name": "stdout",
     "output_type": "stream",
     "text": [
      "incorrects are: 8229 \n",
      "total is: 10000 \n",
      "Top-1 error is 82.29000091552734\n"
     ]
    },
    {
     "name": "stderr",
     "output_type": "stream",
     "text": [
      "\n",
      "100it [00:10,  9.20it/s]"
     ]
    },
    {
     "name": "stdout",
     "output_type": "stream",
     "text": [
      "incorrects are: 8142 \n",
      "total is: 10000 \n",
      "Top-1 error is 81.41999816894531\n"
     ]
    },
    {
     "name": "stderr",
     "output_type": "stream",
     "text": [
      "\n",
      "100it [00:10,  9.12it/s]"
     ]
    },
    {
     "name": "stdout",
     "output_type": "stream",
     "text": [
      "incorrects are: 8127 \n",
      "total is: 10000 \n",
      "Top-1 error is 81.2699966430664\n"
     ]
    },
    {
     "name": "stderr",
     "output_type": "stream",
     "text": [
      "\n",
      "100it [00:10,  9.13it/s]"
     ]
    },
    {
     "name": "stdout",
     "output_type": "stream",
     "text": [
      "incorrects are: 8125 \n",
      "total is: 10000 \n",
      "Top-1 error is 81.25\n"
     ]
    },
    {
     "name": "stderr",
     "output_type": "stream",
     "text": [
      "\n",
      "100it [00:10,  9.59it/s]"
     ]
    },
    {
     "name": "stdout",
     "output_type": "stream",
     "text": [
      "incorrects are: 8153 \n",
      "total is: 10000 \n",
      "Top-1 error is 81.52999877929688\n"
     ]
    },
    {
     "name": "stderr",
     "output_type": "stream",
     "text": [
      "\n",
      "100it [00:10,  9.23it/s]"
     ]
    },
    {
     "name": "stdout",
     "output_type": "stream",
     "text": [
      "incorrects are: 8194 \n",
      "total is: 10000 \n",
      "Top-1 error is 81.93999481201172\n"
     ]
    },
    {
     "name": "stderr",
     "output_type": "stream",
     "text": [
      "\n",
      "100it [00:10,  9.17it/s]"
     ]
    },
    {
     "name": "stdout",
     "output_type": "stream",
     "text": [
      "incorrects are: 8250 \n",
      "total is: 10000 \n",
      "Top-1 error is 82.5\n"
     ]
    },
    {
     "name": "stderr",
     "output_type": "stream",
     "text": [
      "\n",
      "100it [00:10,  9.22it/s]"
     ]
    },
    {
     "name": "stdout",
     "output_type": "stream",
     "text": [
      "incorrects are: 8290 \n",
      "total is: 10000 \n",
      "Top-1 error is 82.9000015258789\n"
     ]
    },
    {
     "name": "stderr",
     "output_type": "stream",
     "text": [
      "\n",
      "100it [00:10,  9.24it/s]"
     ]
    },
    {
     "name": "stdout",
     "output_type": "stream",
     "text": [
      "incorrects are: 8365 \n",
      "total is: 10000 \n",
      "Top-1 error is 83.6500015258789\n"
     ]
    },
    {
     "name": "stderr",
     "output_type": "stream",
     "text": [
      "\n",
      "100it [00:10,  9.13it/s]"
     ]
    },
    {
     "name": "stdout",
     "output_type": "stream",
     "text": [
      "incorrects are: 8405 \n",
      "total is: 10000 \n",
      "Top-1 error is 84.04999542236328\n"
     ]
    },
    {
     "name": "stderr",
     "output_type": "stream",
     "text": [
      "\n",
      "100it [00:10,  9.24it/s]\n"
     ]
    },
    {
     "name": "stdout",
     "output_type": "stream",
     "text": [
      "incorrects are: 8426 \n",
      "total is: 10000 \n",
      "Top-1 error is 84.25999450683594\n"
     ]
    },
    {
     "name": "stderr",
     "output_type": "stream",
     "text": [
      "100it [00:11,  9.08it/s]"
     ]
    },
    {
     "name": "stdout",
     "output_type": "stream",
     "text": [
      "incorrects are: 1169 \n",
      "total is: 10000 \n",
      "Top-1 error is 11.6899995803833\n"
     ]
    },
    {
     "name": "stderr",
     "output_type": "stream",
     "text": [
      "\n",
      "100it [00:11,  9.09it/s]"
     ]
    },
    {
     "name": "stdout",
     "output_type": "stream",
     "text": [
      "incorrects are: 1649 \n",
      "total is: 10000 \n",
      "Top-1 error is 16.489999771118164\n"
     ]
    },
    {
     "name": "stderr",
     "output_type": "stream",
     "text": [
      "\n",
      "100it [00:10,  9.18it/s]"
     ]
    },
    {
     "name": "stdout",
     "output_type": "stream",
     "text": [
      "incorrects are: 509 \n",
      "total is: 10000 \n",
      "Top-1 error is 5.089999675750732\n"
     ]
    },
    {
     "name": "stderr",
     "output_type": "stream",
     "text": [
      "\n",
      "100it [00:10,  9.19it/s]"
     ]
    },
    {
     "name": "stdout",
     "output_type": "stream",
     "text": [
      "incorrects are: 714 \n",
      "total is: 10000 \n",
      "Top-1 error is 7.139999866485596\n"
     ]
    },
    {
     "name": "stderr",
     "output_type": "stream",
     "text": [
      "\n",
      "100it [00:11,  9.07it/s]"
     ]
    },
    {
     "name": "stdout",
     "output_type": "stream",
     "text": [
      "incorrects are: 1117 \n",
      "total is: 10000 \n",
      "Top-1 error is 11.170000076293945\n"
     ]
    },
    {
     "name": "stderr",
     "output_type": "stream",
     "text": [
      "\n",
      "100it [00:10,  9.20it/s]"
     ]
    },
    {
     "name": "stdout",
     "output_type": "stream",
     "text": [
      "incorrects are: 1897 \n",
      "total is: 10000 \n",
      "Top-1 error is 18.969999313354492\n"
     ]
    },
    {
     "name": "stderr",
     "output_type": "stream",
     "text": [
      "\n",
      "100it [00:10,  9.17it/s]"
     ]
    },
    {
     "name": "stdout",
     "output_type": "stream",
     "text": [
      "incorrects are: 3007 \n",
      "total is: 10000 \n",
      "Top-1 error is 30.06999969482422\n"
     ]
    },
    {
     "name": "stderr",
     "output_type": "stream",
     "text": [
      "\n",
      "100it [00:10,  9.56it/s]"
     ]
    },
    {
     "name": "stdout",
     "output_type": "stream",
     "text": [
      "incorrects are: 4143 \n",
      "total is: 10000 \n",
      "Top-1 error is 41.43000030517578\n"
     ]
    },
    {
     "name": "stderr",
     "output_type": "stream",
     "text": [
      "\n",
      "100it [00:10,  9.17it/s]"
     ]
    },
    {
     "name": "stdout",
     "output_type": "stream",
     "text": [
      "incorrects are: 5211 \n",
      "total is: 10000 \n",
      "Top-1 error is 52.1099967956543\n"
     ]
    },
    {
     "name": "stderr",
     "output_type": "stream",
     "text": [
      "\n",
      "100it [00:10,  9.10it/s]"
     ]
    },
    {
     "name": "stdout",
     "output_type": "stream",
     "text": [
      "incorrects are: 6164 \n",
      "total is: 10000 \n",
      "Top-1 error is 61.63999938964844\n"
     ]
    },
    {
     "name": "stderr",
     "output_type": "stream",
     "text": [
      "\n",
      "100it [00:10,  9.27it/s]"
     ]
    },
    {
     "name": "stdout",
     "output_type": "stream",
     "text": [
      "incorrects are: 6992 \n",
      "total is: 10000 \n",
      "Top-1 error is 69.91999816894531\n"
     ]
    },
    {
     "name": "stderr",
     "output_type": "stream",
     "text": [
      "\n",
      "100it [00:11,  8.96it/s]"
     ]
    },
    {
     "name": "stdout",
     "output_type": "stream",
     "text": [
      "incorrects are: 7817 \n",
      "total is: 10000 \n",
      "Top-1 error is 78.16999816894531\n"
     ]
    },
    {
     "name": "stderr",
     "output_type": "stream",
     "text": [
      "\n",
      "100it [00:10,  9.17it/s]"
     ]
    },
    {
     "name": "stdout",
     "output_type": "stream",
     "text": [
      "incorrects are: 8396 \n",
      "total is: 10000 \n",
      "Top-1 error is 83.95999908447266\n"
     ]
    },
    {
     "name": "stderr",
     "output_type": "stream",
     "text": [
      "\n",
      "100it [00:10,  9.14it/s]"
     ]
    },
    {
     "name": "stdout",
     "output_type": "stream",
     "text": [
      "incorrects are: 8660 \n",
      "total is: 10000 \n",
      "Top-1 error is 86.5999984741211\n"
     ]
    },
    {
     "name": "stderr",
     "output_type": "stream",
     "text": [
      "\n",
      "100it [00:10,  9.20it/s]"
     ]
    },
    {
     "name": "stdout",
     "output_type": "stream",
     "text": [
      "incorrects are: 8750 \n",
      "total is: 10000 \n",
      "Top-1 error is 87.5\n"
     ]
    },
    {
     "name": "stderr",
     "output_type": "stream",
     "text": [
      "\n",
      "100it [00:10,  9.14it/s]"
     ]
    },
    {
     "name": "stdout",
     "output_type": "stream",
     "text": [
      "incorrects are: 547 \n",
      "total is: 10000 \n",
      "Top-1 error is 5.46999979019165\n"
     ]
    },
    {
     "name": "stderr",
     "output_type": "stream",
     "text": [
      "\n",
      "100it [00:10,  9.13it/s]"
     ]
    },
    {
     "name": "stdout",
     "output_type": "stream",
     "text": [
      "incorrects are: 3433 \n",
      "total is: 10000 \n",
      "Top-1 error is 34.32999801635742\n"
     ]
    },
    {
     "name": "stderr",
     "output_type": "stream",
     "text": [
      "\n",
      "100it [00:10,  9.17it/s]"
     ]
    },
    {
     "name": "stdout",
     "output_type": "stream",
     "text": [
      "incorrects are: 4203 \n",
      "total is: 10000 \n",
      "Top-1 error is 42.029998779296875\n"
     ]
    },
    {
     "name": "stderr",
     "output_type": "stream",
     "text": [
      "\n",
      "100it [00:10,  9.10it/s]"
     ]
    },
    {
     "name": "stdout",
     "output_type": "stream",
     "text": [
      "incorrects are: 5041 \n",
      "total is: 10000 \n",
      "Top-1 error is 50.40999984741211\n"
     ]
    },
    {
     "name": "stderr",
     "output_type": "stream",
     "text": [
      "\n",
      "100it [00:10,  9.16it/s]"
     ]
    },
    {
     "name": "stdout",
     "output_type": "stream",
     "text": [
      "incorrects are: 5883 \n",
      "total is: 10000 \n",
      "Top-1 error is 58.82999801635742\n"
     ]
    },
    {
     "name": "stderr",
     "output_type": "stream",
     "text": [
      "\n",
      "100it [00:10,  9.18it/s]"
     ]
    },
    {
     "name": "stdout",
     "output_type": "stream",
     "text": [
      "incorrects are: 6665 \n",
      "total is: 10000 \n",
      "Top-1 error is 66.6500015258789\n"
     ]
    },
    {
     "name": "stderr",
     "output_type": "stream",
     "text": [
      "\n",
      "100it [00:10,  9.43it/s]"
     ]
    },
    {
     "name": "stdout",
     "output_type": "stream",
     "text": [
      "incorrects are: 7265 \n",
      "total is: 10000 \n",
      "Top-1 error is 72.6500015258789\n"
     ]
    },
    {
     "name": "stderr",
     "output_type": "stream",
     "text": [
      "\n",
      "100it [00:10,  9.24it/s]"
     ]
    },
    {
     "name": "stdout",
     "output_type": "stream",
     "text": [
      "incorrects are: 7715 \n",
      "total is: 10000 \n",
      "Top-1 error is 77.1500015258789\n"
     ]
    },
    {
     "name": "stderr",
     "output_type": "stream",
     "text": [
      "\n",
      "100it [00:10,  9.15it/s]"
     ]
    },
    {
     "name": "stdout",
     "output_type": "stream",
     "text": [
      "incorrects are: 8063 \n",
      "total is: 10000 \n",
      "Top-1 error is 80.62999725341797\n"
     ]
    },
    {
     "name": "stderr",
     "output_type": "stream",
     "text": [
      "\n",
      "100it [00:10,  9.28it/s]"
     ]
    },
    {
     "name": "stdout",
     "output_type": "stream",
     "text": [
      "incorrects are: 8276 \n",
      "total is: 10000 \n",
      "Top-1 error is 82.75999450683594\n"
     ]
    },
    {
     "name": "stderr",
     "output_type": "stream",
     "text": [
      "\n",
      "100it [00:10,  9.12it/s]"
     ]
    },
    {
     "name": "stdout",
     "output_type": "stream",
     "text": [
      "incorrects are: 8450 \n",
      "total is: 10000 \n",
      "Top-1 error is 84.5\n"
     ]
    },
    {
     "name": "stderr",
     "output_type": "stream",
     "text": [
      "\n",
      "100it [00:10,  9.33it/s]"
     ]
    },
    {
     "name": "stdout",
     "output_type": "stream",
     "text": [
      "incorrects are: 8547 \n",
      "total is: 10000 \n",
      "Top-1 error is 85.47000122070312\n"
     ]
    },
    {
     "name": "stderr",
     "output_type": "stream",
     "text": [
      "\n",
      "100it [00:10,  9.28it/s]"
     ]
    },
    {
     "name": "stdout",
     "output_type": "stream",
     "text": [
      "incorrects are: 8620 \n",
      "total is: 10000 \n",
      "Top-1 error is 86.19999694824219\n"
     ]
    },
    {
     "name": "stderr",
     "output_type": "stream",
     "text": [
      "\n",
      "100it [00:10,  9.24it/s]"
     ]
    },
    {
     "name": "stdout",
     "output_type": "stream",
     "text": [
      "incorrects are: 8667 \n",
      "total is: 10000 \n",
      "Top-1 error is 86.66999816894531\n"
     ]
    },
    {
     "name": "stderr",
     "output_type": "stream",
     "text": [
      "\n",
      "100it [00:10,  9.24it/s]"
     ]
    },
    {
     "name": "stdout",
     "output_type": "stream",
     "text": [
      "incorrects are: 8692 \n",
      "total is: 10000 \n",
      "Top-1 error is 86.91999816894531\n"
     ]
    },
    {
     "name": "stderr",
     "output_type": "stream",
     "text": [
      "\n",
      "100it [00:10,  9.22it/s]"
     ]
    },
    {
     "name": "stdout",
     "output_type": "stream",
     "text": [
      "incorrects are: 1375 \n",
      "total is: 10000 \n",
      "Top-1 error is 13.75\n"
     ]
    },
    {
     "name": "stderr",
     "output_type": "stream",
     "text": [
      "\n",
      "100it [00:10,  9.15it/s]"
     ]
    },
    {
     "name": "stdout",
     "output_type": "stream",
     "text": [
      "incorrects are: 2917 \n",
      "total is: 10000 \n",
      "Top-1 error is 29.170000076293945\n"
     ]
    },
    {
     "name": "stderr",
     "output_type": "stream",
     "text": [
      "\n",
      "100it [00:10,  9.10it/s]"
     ]
    },
    {
     "name": "stdout",
     "output_type": "stream",
     "text": [
      "incorrects are: 794 \n",
      "total is: 10000 \n",
      "Top-1 error is 7.939999580383301\n"
     ]
    },
    {
     "name": "stderr",
     "output_type": "stream",
     "text": [
      "\n",
      "100it [00:11,  9.02it/s]"
     ]
    },
    {
     "name": "stdout",
     "output_type": "stream",
     "text": [
      "incorrects are: 1173 \n",
      "total is: 10000 \n",
      "Top-1 error is 11.729999542236328\n"
     ]
    },
    {
     "name": "stderr",
     "output_type": "stream",
     "text": [
      "\n",
      "100it [00:10,  9.20it/s]"
     ]
    },
    {
     "name": "stdout",
     "output_type": "stream",
     "text": [
      "incorrects are: 2099 \n",
      "total is: 10000 \n",
      "Top-1 error is 20.989999771118164\n"
     ]
    },
    {
     "name": "stderr",
     "output_type": "stream",
     "text": [
      "\n",
      "100it [00:10,  9.33it/s]"
     ]
    },
    {
     "name": "stdout",
     "output_type": "stream",
     "text": [
      "incorrects are: 3500 \n",
      "total is: 10000 \n",
      "Top-1 error is 35.0\n"
     ]
    },
    {
     "name": "stderr",
     "output_type": "stream",
     "text": [
      "\n",
      "100it [00:10,  9.41it/s]"
     ]
    },
    {
     "name": "stdout",
     "output_type": "stream",
     "text": [
      "incorrects are: 5400 \n",
      "total is: 10000 \n",
      "Top-1 error is 54.0\n"
     ]
    },
    {
     "name": "stderr",
     "output_type": "stream",
     "text": [
      "\n",
      "100it [00:10,  9.13it/s]"
     ]
    },
    {
     "name": "stdout",
     "output_type": "stream",
     "text": [
      "incorrects are: 6914 \n",
      "total is: 10000 \n",
      "Top-1 error is 69.13999938964844\n"
     ]
    },
    {
     "name": "stderr",
     "output_type": "stream",
     "text": [
      "\n",
      "100it [00:11,  9.09it/s]"
     ]
    },
    {
     "name": "stdout",
     "output_type": "stream",
     "text": [
      "incorrects are: 7754 \n",
      "total is: 10000 \n",
      "Top-1 error is 77.54000091552734\n"
     ]
    },
    {
     "name": "stderr",
     "output_type": "stream",
     "text": [
      "\n",
      "100it [00:11,  8.88it/s]"
     ]
    },
    {
     "name": "stdout",
     "output_type": "stream",
     "text": [
      "incorrects are: 8162 \n",
      "total is: 10000 \n",
      "Top-1 error is 81.6199951171875\n"
     ]
    },
    {
     "name": "stderr",
     "output_type": "stream",
     "text": [
      "\n",
      "100it [00:11,  8.95it/s]"
     ]
    },
    {
     "name": "stdout",
     "output_type": "stream",
     "text": [
      "incorrects are: 8322 \n",
      "total is: 10000 \n",
      "Top-1 error is 83.22000122070312\n"
     ]
    },
    {
     "name": "stderr",
     "output_type": "stream",
     "text": [
      "\n",
      "100it [00:11,  8.97it/s]"
     ]
    },
    {
     "name": "stdout",
     "output_type": "stream",
     "text": [
      "incorrects are: 8335 \n",
      "total is: 10000 \n",
      "Top-1 error is 83.3499984741211\n"
     ]
    },
    {
     "name": "stderr",
     "output_type": "stream",
     "text": [
      "\n",
      "100it [00:11,  8.99it/s]"
     ]
    },
    {
     "name": "stdout",
     "output_type": "stream",
     "text": [
      "incorrects are: 8250 \n",
      "total is: 10000 \n",
      "Top-1 error is 82.5\n"
     ]
    },
    {
     "name": "stderr",
     "output_type": "stream",
     "text": [
      "\n",
      "100it [00:11,  8.90it/s]"
     ]
    },
    {
     "name": "stdout",
     "output_type": "stream",
     "text": [
      "incorrects are: 8104 \n",
      "total is: 10000 \n",
      "Top-1 error is 81.04000091552734\n"
     ]
    },
    {
     "name": "stderr",
     "output_type": "stream",
     "text": [
      "\n",
      "100it [00:11,  8.93it/s]"
     ]
    },
    {
     "name": "stdout",
     "output_type": "stream",
     "text": [
      "incorrects are: 8132 \n",
      "total is: 10000 \n",
      "Top-1 error is 81.31999969482422\n"
     ]
    },
    {
     "name": "stderr",
     "output_type": "stream",
     "text": [
      "\n",
      "100it [00:11,  8.94it/s]"
     ]
    },
    {
     "name": "stdout",
     "output_type": "stream",
     "text": [
      "incorrects are: 583 \n",
      "total is: 10000 \n",
      "Top-1 error is 5.829999923706055\n"
     ]
    },
    {
     "name": "stderr",
     "output_type": "stream",
     "text": [
      "\n",
      "100it [00:11,  9.05it/s]"
     ]
    },
    {
     "name": "stdout",
     "output_type": "stream",
     "text": [
      "incorrects are: 3718 \n",
      "total is: 10000 \n",
      "Top-1 error is 37.18000030517578\n"
     ]
    },
    {
     "name": "stderr",
     "output_type": "stream",
     "text": [
      "\n",
      "100it [00:11,  9.08it/s]"
     ]
    },
    {
     "name": "stdout",
     "output_type": "stream",
     "text": [
      "incorrects are: 4409 \n",
      "total is: 10000 \n",
      "Top-1 error is 44.09000015258789\n"
     ]
    },
    {
     "name": "stderr",
     "output_type": "stream",
     "text": [
      "\n",
      "100it [00:11,  8.96it/s]"
     ]
    },
    {
     "name": "stdout",
     "output_type": "stream",
     "text": [
      "incorrects are: 5179 \n",
      "total is: 10000 \n",
      "Top-1 error is 51.78999710083008\n"
     ]
    },
    {
     "name": "stderr",
     "output_type": "stream",
     "text": [
      "\n",
      "100it [00:11,  9.03it/s]"
     ]
    },
    {
     "name": "stdout",
     "output_type": "stream",
     "text": [
      "incorrects are: 6050 \n",
      "total is: 10000 \n",
      "Top-1 error is 60.5\n"
     ]
    },
    {
     "name": "stderr",
     "output_type": "stream",
     "text": [
      "\n",
      "100it [00:10,  9.19it/s]"
     ]
    },
    {
     "name": "stdout",
     "output_type": "stream",
     "text": [
      "incorrects are: 6807 \n",
      "total is: 10000 \n",
      "Top-1 error is 68.06999969482422\n"
     ]
    },
    {
     "name": "stderr",
     "output_type": "stream",
     "text": [
      "\n",
      "100it [00:11,  8.90it/s]"
     ]
    },
    {
     "name": "stdout",
     "output_type": "stream",
     "text": [
      "incorrects are: 7385 \n",
      "total is: 10000 \n",
      "Top-1 error is 73.8499984741211\n"
     ]
    },
    {
     "name": "stderr",
     "output_type": "stream",
     "text": [
      "\n",
      "100it [00:11,  8.88it/s]"
     ]
    },
    {
     "name": "stdout",
     "output_type": "stream",
     "text": [
      "incorrects are: 7771 \n",
      "total is: 10000 \n",
      "Top-1 error is 77.70999908447266\n"
     ]
    },
    {
     "name": "stderr",
     "output_type": "stream",
     "text": [
      "\n",
      "100it [00:11,  8.89it/s]"
     ]
    },
    {
     "name": "stdout",
     "output_type": "stream",
     "text": [
      "incorrects are: 8019 \n",
      "total is: 10000 \n",
      "Top-1 error is 80.18999481201172\n"
     ]
    },
    {
     "name": "stderr",
     "output_type": "stream",
     "text": [
      "\n",
      "100it [00:11,  8.96it/s]"
     ]
    },
    {
     "name": "stdout",
     "output_type": "stream",
     "text": [
      "incorrects are: 8166 \n",
      "total is: 10000 \n",
      "Top-1 error is 81.65999603271484\n"
     ]
    },
    {
     "name": "stderr",
     "output_type": "stream",
     "text": [
      "\n",
      "100it [00:11,  8.85it/s]\n"
     ]
    },
    {
     "name": "stdout",
     "output_type": "stream",
     "text": [
      "incorrects are: 8275 \n",
      "total is: 10000 \n",
      "Top-1 error is 82.75\n"
     ]
    },
    {
     "name": "stderr",
     "output_type": "stream",
     "text": [
      "100it [00:11,  8.90it/s]"
     ]
    },
    {
     "name": "stdout",
     "output_type": "stream",
     "text": [
      "incorrects are: 8336 \n",
      "total is: 10000 \n",
      "Top-1 error is 83.36000061035156\n"
     ]
    },
    {
     "name": "stderr",
     "output_type": "stream",
     "text": [
      "\n",
      "100it [00:11,  8.86it/s]"
     ]
    },
    {
     "name": "stdout",
     "output_type": "stream",
     "text": [
      "incorrects are: 8423 \n",
      "total is: 10000 \n",
      "Top-1 error is 84.22999572753906\n"
     ]
    },
    {
     "name": "stderr",
     "output_type": "stream",
     "text": [
      "\n",
      "100it [00:11,  8.91it/s]"
     ]
    },
    {
     "name": "stdout",
     "output_type": "stream",
     "text": [
      "incorrects are: 8487 \n",
      "total is: 10000 \n",
      "Top-1 error is 84.8699951171875\n"
     ]
    },
    {
     "name": "stderr",
     "output_type": "stream",
     "text": [
      "\n",
      "100it [00:11,  8.93it/s]"
     ]
    },
    {
     "name": "stdout",
     "output_type": "stream",
     "text": [
      "incorrects are: 8563 \n",
      "total is: 10000 \n",
      "Top-1 error is 85.62999725341797\n"
     ]
    },
    {
     "name": "stderr",
     "output_type": "stream",
     "text": [
      "\n",
      "100it [00:11,  8.86it/s]"
     ]
    },
    {
     "name": "stdout",
     "output_type": "stream",
     "text": [
      "incorrects are: 963 \n",
      "total is: 10000 \n",
      "Top-1 error is 9.630000114440918\n"
     ]
    },
    {
     "name": "stderr",
     "output_type": "stream",
     "text": [
      "\n",
      "100it [00:11,  8.95it/s]\n"
     ]
    },
    {
     "name": "stdout",
     "output_type": "stream",
     "text": [
      "incorrects are: 3387 \n",
      "total is: 10000 \n",
      "Top-1 error is 33.869998931884766\n"
     ]
    },
    {
     "name": "stderr",
     "output_type": "stream",
     "text": [
      "100it [00:11,  9.01it/s]"
     ]
    },
    {
     "name": "stdout",
     "output_type": "stream",
     "text": [
      "incorrects are: 1376 \n",
      "total is: 10000 \n",
      "Top-1 error is 13.75999927520752\n"
     ]
    },
    {
     "name": "stderr",
     "output_type": "stream",
     "text": [
      "\n",
      "100it [00:10,  9.13it/s]"
     ]
    },
    {
     "name": "stdout",
     "output_type": "stream",
     "text": [
      "incorrects are: 710 \n",
      "total is: 10000 \n",
      "Top-1 error is 7.099999904632568\n"
     ]
    },
    {
     "name": "stderr",
     "output_type": "stream",
     "text": [
      "\n",
      "100it [00:10,  9.32it/s]"
     ]
    },
    {
     "name": "stdout",
     "output_type": "stream",
     "text": [
      "incorrects are: 612 \n",
      "total is: 10000 \n",
      "Top-1 error is 6.119999885559082\n"
     ]
    },
    {
     "name": "stderr",
     "output_type": "stream",
     "text": [
      "\n",
      "100it [00:11,  9.02it/s]"
     ]
    },
    {
     "name": "stdout",
     "output_type": "stream",
     "text": [
      "incorrects are: 712 \n",
      "total is: 10000 \n",
      "Top-1 error is 7.119999885559082\n"
     ]
    },
    {
     "name": "stderr",
     "output_type": "stream",
     "text": [
      "\n",
      "100it [00:11,  8.98it/s]"
     ]
    },
    {
     "name": "stdout",
     "output_type": "stream",
     "text": [
      "incorrects are: 956 \n",
      "total is: 10000 \n",
      "Top-1 error is 9.559999465942383\n"
     ]
    },
    {
     "name": "stderr",
     "output_type": "stream",
     "text": [
      "\n",
      "100it [00:11,  8.96it/s]"
     ]
    },
    {
     "name": "stdout",
     "output_type": "stream",
     "text": [
      "incorrects are: 1344 \n",
      "total is: 10000 \n",
      "Top-1 error is 13.4399995803833\n"
     ]
    },
    {
     "name": "stderr",
     "output_type": "stream",
     "text": [
      "\n",
      "100it [00:11,  8.90it/s]"
     ]
    },
    {
     "name": "stdout",
     "output_type": "stream",
     "text": [
      "incorrects are: 1847 \n",
      "total is: 10000 \n",
      "Top-1 error is 18.469999313354492\n"
     ]
    },
    {
     "name": "stderr",
     "output_type": "stream",
     "text": [
      "\n",
      "100it [00:11,  8.92it/s]"
     ]
    },
    {
     "name": "stdout",
     "output_type": "stream",
     "text": [
      "incorrects are: 2484 \n",
      "total is: 10000 \n",
      "Top-1 error is 24.84000015258789\n"
     ]
    },
    {
     "name": "stderr",
     "output_type": "stream",
     "text": [
      "\n",
      "100it [00:11,  8.89it/s]"
     ]
    },
    {
     "name": "stdout",
     "output_type": "stream",
     "text": [
      "incorrects are: 3145 \n",
      "total is: 10000 \n",
      "Top-1 error is 31.44999885559082\n"
     ]
    },
    {
     "name": "stderr",
     "output_type": "stream",
     "text": [
      "\n",
      "100it [00:11,  8.85it/s]"
     ]
    },
    {
     "name": "stdout",
     "output_type": "stream",
     "text": [
      "incorrects are: 3804 \n",
      "total is: 10000 \n",
      "Top-1 error is 38.040000915527344\n"
     ]
    },
    {
     "name": "stderr",
     "output_type": "stream",
     "text": [
      "\n",
      "100it [00:11,  8.72it/s]"
     ]
    },
    {
     "name": "stdout",
     "output_type": "stream",
     "text": [
      "incorrects are: 4417 \n",
      "total is: 10000 \n",
      "Top-1 error is 44.16999816894531\n"
     ]
    },
    {
     "name": "stderr",
     "output_type": "stream",
     "text": [
      "\n",
      "100it [00:11,  8.87it/s]"
     ]
    },
    {
     "name": "stdout",
     "output_type": "stream",
     "text": [
      "incorrects are: 5004 \n",
      "total is: 10000 \n",
      "Top-1 error is 50.03999710083008\n"
     ]
    },
    {
     "name": "stderr",
     "output_type": "stream",
     "text": [
      "\n",
      "100it [00:11,  8.85it/s]"
     ]
    },
    {
     "name": "stdout",
     "output_type": "stream",
     "text": [
      "incorrects are: 5519 \n",
      "total is: 10000 \n",
      "Top-1 error is 55.189998626708984\n"
     ]
    },
    {
     "name": "stderr",
     "output_type": "stream",
     "text": [
      "\n",
      "100it [00:11,  8.92it/s]"
     ]
    },
    {
     "name": "stdout",
     "output_type": "stream",
     "text": [
      "incorrects are: 540 \n",
      "total is: 10000 \n",
      "Top-1 error is 5.400000095367432\n"
     ]
    },
    {
     "name": "stderr",
     "output_type": "stream",
     "text": [
      "\n",
      "100it [00:11,  8.90it/s]"
     ]
    },
    {
     "name": "stdout",
     "output_type": "stream",
     "text": [
      "incorrects are: 4634 \n",
      "total is: 10000 \n",
      "Top-1 error is 46.34000015258789\n"
     ]
    },
    {
     "name": "stderr",
     "output_type": "stream",
     "text": [
      "\n",
      "100it [00:11,  8.92it/s]"
     ]
    },
    {
     "name": "stdout",
     "output_type": "stream",
     "text": [
      "incorrects are: 5308 \n",
      "total is: 10000 \n",
      "Top-1 error is 53.07999801635742\n"
     ]
    },
    {
     "name": "stderr",
     "output_type": "stream",
     "text": [
      "\n",
      "100it [00:10,  9.29it/s]\n"
     ]
    },
    {
     "name": "stdout",
     "output_type": "stream",
     "text": [
      "incorrects are: 5627 \n",
      "total is: 10000 \n",
      "Top-1 error is 56.27000045776367\n"
     ]
    },
    {
     "name": "stderr",
     "output_type": "stream",
     "text": [
      "100it [00:11,  8.80it/s]"
     ]
    },
    {
     "name": "stdout",
     "output_type": "stream",
     "text": [
      "incorrects are: 5970 \n",
      "total is: 10000 \n",
      "Top-1 error is 59.69999694824219\n"
     ]
    },
    {
     "name": "stderr",
     "output_type": "stream",
     "text": [
      "\n",
      "100it [00:11,  8.88it/s]"
     ]
    },
    {
     "name": "stdout",
     "output_type": "stream",
     "text": [
      "incorrects are: 6361 \n",
      "total is: 10000 \n",
      "Top-1 error is 63.6099967956543\n"
     ]
    },
    {
     "name": "stderr",
     "output_type": "stream",
     "text": [
      "\n",
      "100it [00:11,  8.92it/s]"
     ]
    },
    {
     "name": "stdout",
     "output_type": "stream",
     "text": [
      "incorrects are: 6749 \n",
      "total is: 10000 \n",
      "Top-1 error is 67.48999786376953\n"
     ]
    },
    {
     "name": "stderr",
     "output_type": "stream",
     "text": [
      "\n",
      "100it [00:11,  8.82it/s]\n"
     ]
    },
    {
     "name": "stdout",
     "output_type": "stream",
     "text": [
      "incorrects are: 7092 \n",
      "total is: 10000 \n",
      "Top-1 error is 70.91999816894531\n"
     ]
    },
    {
     "name": "stderr",
     "output_type": "stream",
     "text": [
      "100it [00:11,  8.85it/s]"
     ]
    },
    {
     "name": "stdout",
     "output_type": "stream",
     "text": [
      "incorrects are: 7413 \n",
      "total is: 10000 \n",
      "Top-1 error is 74.12999725341797\n"
     ]
    },
    {
     "name": "stderr",
     "output_type": "stream",
     "text": [
      "\n",
      "100it [00:11,  8.90it/s]"
     ]
    },
    {
     "name": "stdout",
     "output_type": "stream",
     "text": [
      "incorrects are: 7689 \n",
      "total is: 10000 \n",
      "Top-1 error is 76.88999938964844\n"
     ]
    },
    {
     "name": "stderr",
     "output_type": "stream",
     "text": [
      "\n",
      "100it [00:11,  8.92it/s]"
     ]
    },
    {
     "name": "stdout",
     "output_type": "stream",
     "text": [
      "incorrects are: 7946 \n",
      "total is: 10000 \n",
      "Top-1 error is 79.45999908447266\n"
     ]
    },
    {
     "name": "stderr",
     "output_type": "stream",
     "text": [
      "\n",
      "100it [00:11,  8.73it/s]"
     ]
    },
    {
     "name": "stdout",
     "output_type": "stream",
     "text": [
      "incorrects are: 8142 \n",
      "total is: 10000 \n",
      "Top-1 error is 81.41999816894531\n"
     ]
    },
    {
     "name": "stderr",
     "output_type": "stream",
     "text": [
      "\n",
      "100it [00:11,  8.79it/s]"
     ]
    },
    {
     "name": "stdout",
     "output_type": "stream",
     "text": [
      "incorrects are: 8308 \n",
      "total is: 10000 \n",
      "Top-1 error is 83.07999420166016\n"
     ]
    },
    {
     "name": "stderr",
     "output_type": "stream",
     "text": [
      "\n",
      "100it [00:11,  8.87it/s]"
     ]
    },
    {
     "name": "stdout",
     "output_type": "stream",
     "text": [
      "incorrects are: 8448 \n",
      "total is: 10000 \n",
      "Top-1 error is 84.47999572753906\n"
     ]
    },
    {
     "name": "stderr",
     "output_type": "stream",
     "text": [
      "\n",
      "100it [00:11,  8.98it/s]"
     ]
    },
    {
     "name": "stdout",
     "output_type": "stream",
     "text": [
      "incorrects are: 8540 \n",
      "total is: 10000 \n",
      "Top-1 error is 85.4000015258789\n"
     ]
    },
    {
     "name": "stderr",
     "output_type": "stream",
     "text": [
      "\n",
      "100it [00:11,  8.88it/s]"
     ]
    },
    {
     "name": "stdout",
     "output_type": "stream",
     "text": [
      "incorrects are: 1306 \n",
      "total is: 10000 \n",
      "Top-1 error is 13.059999465942383\n"
     ]
    },
    {
     "name": "stderr",
     "output_type": "stream",
     "text": [
      "\n",
      "100it [00:10,  9.13it/s]"
     ]
    },
    {
     "name": "stdout",
     "output_type": "stream",
     "text": [
      "incorrects are: 5005 \n",
      "total is: 10000 \n",
      "Top-1 error is 50.04999923706055\n"
     ]
    },
    {
     "name": "stderr",
     "output_type": "stream",
     "text": [
      "\n",
      "100it [00:10,  9.37it/s]"
     ]
    },
    {
     "name": "stdout",
     "output_type": "stream",
     "text": [
      "incorrects are: 1074 \n",
      "total is: 10000 \n",
      "Top-1 error is 10.739999771118164\n"
     ]
    },
    {
     "name": "stderr",
     "output_type": "stream",
     "text": [
      "\n",
      "100it [00:11,  9.08it/s]"
     ]
    },
    {
     "name": "stdout",
     "output_type": "stream",
     "text": [
      "incorrects are: 637 \n",
      "total is: 10000 \n",
      "Top-1 error is 6.369999885559082\n"
     ]
    },
    {
     "name": "stderr",
     "output_type": "stream",
     "text": [
      "\n",
      "100it [00:11,  9.00it/s]"
     ]
    },
    {
     "name": "stdout",
     "output_type": "stream",
     "text": [
      "incorrects are: 1051 \n",
      "total is: 10000 \n",
      "Top-1 error is 10.50999927520752\n"
     ]
    },
    {
     "name": "stderr",
     "output_type": "stream",
     "text": [
      "\n",
      "100it [00:11,  9.05it/s]"
     ]
    },
    {
     "name": "stdout",
     "output_type": "stream",
     "text": [
      "incorrects are: 1940 \n",
      "total is: 10000 \n",
      "Top-1 error is 19.399999618530273\n"
     ]
    },
    {
     "name": "stderr",
     "output_type": "stream",
     "text": [
      "\n",
      "100it [00:11,  9.09it/s]"
     ]
    },
    {
     "name": "stdout",
     "output_type": "stream",
     "text": [
      "incorrects are: 3249 \n",
      "total is: 10000 \n",
      "Top-1 error is 32.48999786376953\n"
     ]
    },
    {
     "name": "stderr",
     "output_type": "stream",
     "text": [
      "\n",
      "100it [00:10,  9.12it/s]"
     ]
    },
    {
     "name": "stdout",
     "output_type": "stream",
     "text": [
      "incorrects are: 4657 \n",
      "total is: 10000 \n",
      "Top-1 error is 46.56999969482422\n"
     ]
    },
    {
     "name": "stderr",
     "output_type": "stream",
     "text": [
      "\n",
      "100it [00:11,  9.05it/s]"
     ]
    },
    {
     "name": "stdout",
     "output_type": "stream",
     "text": [
      "incorrects are: 6006 \n",
      "total is: 10000 \n",
      "Top-1 error is 60.05999755859375\n"
     ]
    },
    {
     "name": "stderr",
     "output_type": "stream",
     "text": [
      "\n",
      "100it [00:11,  9.03it/s]"
     ]
    },
    {
     "name": "stdout",
     "output_type": "stream",
     "text": [
      "incorrects are: 7053 \n",
      "total is: 10000 \n",
      "Top-1 error is 70.52999877929688\n"
     ]
    },
    {
     "name": "stderr",
     "output_type": "stream",
     "text": [
      "\n",
      "100it [00:11,  9.07it/s]"
     ]
    },
    {
     "name": "stdout",
     "output_type": "stream",
     "text": [
      "incorrects are: 7713 \n",
      "total is: 10000 \n",
      "Top-1 error is 77.12999725341797\n"
     ]
    },
    {
     "name": "stderr",
     "output_type": "stream",
     "text": [
      "\n",
      "100it [00:11,  9.07it/s]"
     ]
    },
    {
     "name": "stdout",
     "output_type": "stream",
     "text": [
      "incorrects are: 8161 \n",
      "total is: 10000 \n",
      "Top-1 error is 81.61000061035156\n"
     ]
    },
    {
     "name": "stderr",
     "output_type": "stream",
     "text": [
      "\n",
      "100it [00:11,  9.06it/s]"
     ]
    },
    {
     "name": "stdout",
     "output_type": "stream",
     "text": [
      "incorrects are: 8452 \n",
      "total is: 10000 \n",
      "Top-1 error is 84.5199966430664\n"
     ]
    },
    {
     "name": "stderr",
     "output_type": "stream",
     "text": [
      "\n",
      "100it [00:10,  9.12it/s]"
     ]
    },
    {
     "name": "stdout",
     "output_type": "stream",
     "text": [
      "incorrects are: 8609 \n",
      "total is: 10000 \n",
      "Top-1 error is 86.08999633789062\n"
     ]
    },
    {
     "name": "stderr",
     "output_type": "stream",
     "text": [
      "\n",
      "100it [00:11,  8.99it/s]"
     ]
    },
    {
     "name": "stdout",
     "output_type": "stream",
     "text": [
      "incorrects are: 8719 \n",
      "total is: 10000 \n",
      "Top-1 error is 87.18999481201172\n"
     ]
    },
    {
     "name": "stderr",
     "output_type": "stream",
     "text": [
      "\n",
      "100it [00:10,  9.17it/s]"
     ]
    },
    {
     "name": "stdout",
     "output_type": "stream",
     "text": [
      "incorrects are: 476 \n",
      "total is: 10000 \n",
      "Top-1 error is 4.759999752044678\n"
     ]
    },
    {
     "name": "stderr",
     "output_type": "stream",
     "text": [
      "\n",
      "100it [00:10,  9.48it/s]"
     ]
    },
    {
     "name": "stdout",
     "output_type": "stream",
     "text": [
      "incorrects are: 3404 \n",
      "total is: 10000 \n",
      "Top-1 error is 34.040000915527344\n"
     ]
    },
    {
     "name": "stderr",
     "output_type": "stream",
     "text": [
      "\n",
      "100it [00:11,  9.01it/s]\n"
     ]
    },
    {
     "name": "stdout",
     "output_type": "stream",
     "text": [
      "incorrects are: 4142 \n",
      "total is: 10000 \n",
      "Top-1 error is 41.41999816894531\n"
     ]
    },
    {
     "name": "stderr",
     "output_type": "stream",
     "text": [
      "100it [00:11,  9.08it/s]"
     ]
    },
    {
     "name": "stdout",
     "output_type": "stream",
     "text": [
      "incorrects are: 4945 \n",
      "total is: 10000 \n",
      "Top-1 error is 49.44999694824219\n"
     ]
    },
    {
     "name": "stderr",
     "output_type": "stream",
     "text": [
      "\n",
      "100it [00:11,  9.06it/s]"
     ]
    },
    {
     "name": "stdout",
     "output_type": "stream",
     "text": [
      "incorrects are: 5757 \n",
      "total is: 10000 \n",
      "Top-1 error is 57.56999969482422\n"
     ]
    },
    {
     "name": "stderr",
     "output_type": "stream",
     "text": [
      "\n",
      "100it [00:10,  9.20it/s]"
     ]
    },
    {
     "name": "stdout",
     "output_type": "stream",
     "text": [
      "incorrects are: 6442 \n",
      "total is: 10000 \n",
      "Top-1 error is 64.41999816894531\n"
     ]
    },
    {
     "name": "stderr",
     "output_type": "stream",
     "text": [
      "\n",
      "100it [00:10,  9.15it/s]"
     ]
    },
    {
     "name": "stdout",
     "output_type": "stream",
     "text": [
      "incorrects are: 7089 \n",
      "total is: 10000 \n",
      "Top-1 error is 70.88999938964844\n"
     ]
    },
    {
     "name": "stderr",
     "output_type": "stream",
     "text": [
      "\n",
      "100it [00:11,  8.96it/s]"
     ]
    },
    {
     "name": "stdout",
     "output_type": "stream",
     "text": [
      "incorrects are: 7608 \n",
      "total is: 10000 \n",
      "Top-1 error is 76.08000183105469\n"
     ]
    },
    {
     "name": "stderr",
     "output_type": "stream",
     "text": [
      "\n",
      "100it [00:11,  9.05it/s]"
     ]
    },
    {
     "name": "stdout",
     "output_type": "stream",
     "text": [
      "incorrects are: 8008 \n",
      "total is: 10000 \n",
      "Top-1 error is 80.07999420166016\n"
     ]
    },
    {
     "name": "stderr",
     "output_type": "stream",
     "text": [
      "\n",
      "100it [00:11,  9.04it/s]"
     ]
    },
    {
     "name": "stdout",
     "output_type": "stream",
     "text": [
      "incorrects are: 8314 \n",
      "total is: 10000 \n",
      "Top-1 error is 83.13999938964844\n"
     ]
    },
    {
     "name": "stderr",
     "output_type": "stream",
     "text": [
      "\n",
      "100it [00:10,  9.17it/s]"
     ]
    },
    {
     "name": "stdout",
     "output_type": "stream",
     "text": [
      "incorrects are: 8519 \n",
      "total is: 10000 \n",
      "Top-1 error is 85.18999481201172\n"
     ]
    },
    {
     "name": "stderr",
     "output_type": "stream",
     "text": [
      "\n",
      "100it [00:11,  9.03it/s]"
     ]
    },
    {
     "name": "stdout",
     "output_type": "stream",
     "text": [
      "incorrects are: 8657 \n",
      "total is: 10000 \n",
      "Top-1 error is 86.56999969482422\n"
     ]
    },
    {
     "name": "stderr",
     "output_type": "stream",
     "text": [
      "\n",
      "100it [00:10,  9.11it/s]"
     ]
    },
    {
     "name": "stdout",
     "output_type": "stream",
     "text": [
      "incorrects are: 8725 \n",
      "total is: 10000 \n",
      "Top-1 error is 87.25\n"
     ]
    },
    {
     "name": "stderr",
     "output_type": "stream",
     "text": [
      "\n",
      "100it [00:10,  9.14it/s]"
     ]
    },
    {
     "name": "stdout",
     "output_type": "stream",
     "text": [
      "incorrects are: 8786 \n",
      "total is: 10000 \n",
      "Top-1 error is 87.86000061035156\n"
     ]
    },
    {
     "name": "stderr",
     "output_type": "stream",
     "text": [
      "\n",
      "100it [00:11,  9.06it/s]"
     ]
    },
    {
     "name": "stdout",
     "output_type": "stream",
     "text": [
      "incorrects are: 8833 \n",
      "total is: 10000 \n",
      "Top-1 error is 88.32999420166016\n"
     ]
    },
    {
     "name": "stderr",
     "output_type": "stream",
     "text": [
      "\n",
      "100it [00:10,  9.43it/s]\n"
     ]
    },
    {
     "name": "stdout",
     "output_type": "stream",
     "text": [
      "incorrects are: 1487 \n",
      "total is: 10000 \n",
      "Top-1 error is 14.869999885559082\n"
     ]
    },
    {
     "name": "stderr",
     "output_type": "stream",
     "text": [
      "100it [00:11,  8.99it/s]"
     ]
    },
    {
     "name": "stdout",
     "output_type": "stream",
     "text": [
      "incorrects are: 5856 \n",
      "total is: 10000 \n",
      "Top-1 error is 58.55999755859375\n"
     ]
    },
    {
     "name": "stderr",
     "output_type": "stream",
     "text": [
      "\n",
      "100it [00:11,  9.07it/s]"
     ]
    },
    {
     "name": "stdout",
     "output_type": "stream",
     "text": [
      "incorrects are: 1220 \n",
      "total is: 10000 \n",
      "Top-1 error is 12.199999809265137\n"
     ]
    },
    {
     "name": "stderr",
     "output_type": "stream",
     "text": [
      "\n",
      "100it [00:10,  9.18it/s]"
     ]
    },
    {
     "name": "stdout",
     "output_type": "stream",
     "text": [
      "incorrects are: 891 \n",
      "total is: 10000 \n",
      "Top-1 error is 8.90999984741211\n"
     ]
    },
    {
     "name": "stderr",
     "output_type": "stream",
     "text": [
      "\n",
      "100it [00:11,  9.00it/s]"
     ]
    },
    {
     "name": "stdout",
     "output_type": "stream",
     "text": [
      "incorrects are: 1674 \n",
      "total is: 10000 \n",
      "Top-1 error is 16.739999771118164\n"
     ]
    },
    {
     "name": "stderr",
     "output_type": "stream",
     "text": [
      "\n",
      "100it [00:10,  9.09it/s]"
     ]
    },
    {
     "name": "stdout",
     "output_type": "stream",
     "text": [
      "incorrects are: 2566 \n",
      "total is: 10000 \n",
      "Top-1 error is 25.65999984741211\n"
     ]
    },
    {
     "name": "stderr",
     "output_type": "stream",
     "text": [
      "\n",
      "100it [00:11,  8.99it/s]"
     ]
    },
    {
     "name": "stdout",
     "output_type": "stream",
     "text": [
      "incorrects are: 3857 \n",
      "total is: 10000 \n",
      "Top-1 error is 38.56999969482422\n"
     ]
    },
    {
     "name": "stderr",
     "output_type": "stream",
     "text": [
      "\n",
      "100it [00:10,  9.09it/s]"
     ]
    },
    {
     "name": "stdout",
     "output_type": "stream",
     "text": [
      "incorrects are: 5330 \n",
      "total is: 10000 \n",
      "Top-1 error is 53.29999923706055\n"
     ]
    },
    {
     "name": "stderr",
     "output_type": "stream",
     "text": [
      "\n",
      "100it [00:11,  9.07it/s]"
     ]
    },
    {
     "name": "stdout",
     "output_type": "stream",
     "text": [
      "incorrects are: 6738 \n",
      "total is: 10000 \n",
      "Top-1 error is 67.37999725341797\n"
     ]
    },
    {
     "name": "stderr",
     "output_type": "stream",
     "text": [
      "\n",
      "100it [00:10,  9.13it/s]"
     ]
    },
    {
     "name": "stdout",
     "output_type": "stream",
     "text": [
      "incorrects are: 7788 \n",
      "total is: 10000 \n",
      "Top-1 error is 77.87999725341797\n"
     ]
    },
    {
     "name": "stderr",
     "output_type": "stream",
     "text": [
      "\n",
      "100it [00:11,  8.96it/s]"
     ]
    },
    {
     "name": "stdout",
     "output_type": "stream",
     "text": [
      "incorrects are: 8335 \n",
      "total is: 10000 \n",
      "Top-1 error is 83.3499984741211\n"
     ]
    },
    {
     "name": "stderr",
     "output_type": "stream",
     "text": [
      "\n",
      "100it [00:11,  8.90it/s]"
     ]
    },
    {
     "name": "stdout",
     "output_type": "stream",
     "text": [
      "incorrects are: 8562 \n",
      "total is: 10000 \n",
      "Top-1 error is 85.6199951171875\n"
     ]
    },
    {
     "name": "stderr",
     "output_type": "stream",
     "text": [
      "\n",
      "100it [00:10,  9.12it/s]"
     ]
    },
    {
     "name": "stdout",
     "output_type": "stream",
     "text": [
      "incorrects are: 8701 \n",
      "total is: 10000 \n",
      "Top-1 error is 87.00999450683594\n"
     ]
    },
    {
     "name": "stderr",
     "output_type": "stream",
     "text": [
      "\n",
      "100it [00:10,  9.09it/s]"
     ]
    },
    {
     "name": "stdout",
     "output_type": "stream",
     "text": [
      "incorrects are: 8749 \n",
      "total is: 10000 \n",
      "Top-1 error is 87.48999786376953\n"
     ]
    },
    {
     "name": "stderr",
     "output_type": "stream",
     "text": [
      "\n",
      "100it [00:10,  9.44it/s]"
     ]
    },
    {
     "name": "stdout",
     "output_type": "stream",
     "text": [
      "incorrects are: 8770 \n",
      "total is: 10000 \n",
      "Top-1 error is 87.69999694824219\n"
     ]
    },
    {
     "name": "stderr",
     "output_type": "stream",
     "text": [
      "\n",
      "100it [00:11,  9.02it/s]"
     ]
    },
    {
     "name": "stdout",
     "output_type": "stream",
     "text": [
      "incorrects are: 498 \n",
      "total is: 10000 \n",
      "Top-1 error is 4.980000019073486\n"
     ]
    },
    {
     "name": "stderr",
     "output_type": "stream",
     "text": [
      "\n",
      "100it [00:10,  9.12it/s]"
     ]
    },
    {
     "name": "stdout",
     "output_type": "stream",
     "text": [
      "incorrects are: 3647 \n",
      "total is: 10000 \n",
      "Top-1 error is 36.46999740600586\n"
     ]
    },
    {
     "name": "stderr",
     "output_type": "stream",
     "text": [
      "\n",
      "100it [00:11,  9.01it/s]"
     ]
    },
    {
     "name": "stdout",
     "output_type": "stream",
     "text": [
      "incorrects are: 4336 \n",
      "total is: 10000 \n",
      "Top-1 error is 43.36000061035156\n"
     ]
    },
    {
     "name": "stderr",
     "output_type": "stream",
     "text": [
      "\n",
      "100it [00:11,  9.07it/s]"
     ]
    },
    {
     "name": "stdout",
     "output_type": "stream",
     "text": [
      "incorrects are: 5145 \n",
      "total is: 10000 \n",
      "Top-1 error is 51.44999694824219\n"
     ]
    },
    {
     "name": "stderr",
     "output_type": "stream",
     "text": [
      "\n",
      "100it [00:11,  9.01it/s]"
     ]
    },
    {
     "name": "stdout",
     "output_type": "stream",
     "text": [
      "incorrects are: 6053 \n",
      "total is: 10000 \n",
      "Top-1 error is 60.529998779296875\n"
     ]
    },
    {
     "name": "stderr",
     "output_type": "stream",
     "text": [
      "\n",
      "100it [00:11,  9.07it/s]"
     ]
    },
    {
     "name": "stdout",
     "output_type": "stream",
     "text": [
      "incorrects are: 6771 \n",
      "total is: 10000 \n",
      "Top-1 error is 67.70999908447266\n"
     ]
    },
    {
     "name": "stderr",
     "output_type": "stream",
     "text": [
      "\n",
      "100it [00:11,  9.09it/s]"
     ]
    },
    {
     "name": "stdout",
     "output_type": "stream",
     "text": [
      "incorrects are: 7402 \n",
      "total is: 10000 \n",
      "Top-1 error is 74.0199966430664\n"
     ]
    },
    {
     "name": "stderr",
     "output_type": "stream",
     "text": [
      "\n",
      "100it [00:11,  9.09it/s]"
     ]
    },
    {
     "name": "stdout",
     "output_type": "stream",
     "text": [
      "incorrects are: 7876 \n",
      "total is: 10000 \n",
      "Top-1 error is 78.75999450683594\n"
     ]
    },
    {
     "name": "stderr",
     "output_type": "stream",
     "text": [
      "\n",
      "100it [00:11,  9.07it/s]"
     ]
    },
    {
     "name": "stdout",
     "output_type": "stream",
     "text": [
      "incorrects are: 8187 \n",
      "total is: 10000 \n",
      "Top-1 error is 81.8699951171875\n"
     ]
    },
    {
     "name": "stderr",
     "output_type": "stream",
     "text": [
      "\n",
      "100it [00:10,  9.10it/s]\n"
     ]
    },
    {
     "name": "stdout",
     "output_type": "stream",
     "text": [
      "incorrects are: 8430 \n",
      "total is: 10000 \n",
      "Top-1 error is 84.29999542236328\n"
     ]
    },
    {
     "name": "stderr",
     "output_type": "stream",
     "text": [
      "100it [00:11,  9.05it/s]"
     ]
    },
    {
     "name": "stdout",
     "output_type": "stream",
     "text": [
      "incorrects are: 8589 \n",
      "total is: 10000 \n",
      "Top-1 error is 85.88999938964844\n"
     ]
    },
    {
     "name": "stderr",
     "output_type": "stream",
     "text": [
      "\n",
      "100it [00:10,  9.13it/s]\n"
     ]
    },
    {
     "name": "stdout",
     "output_type": "stream",
     "text": [
      "incorrects are: 8701 \n",
      "total is: 10000 \n",
      "Top-1 error is 87.00999450683594\n"
     ]
    },
    {
     "name": "stderr",
     "output_type": "stream",
     "text": [
      "100it [00:11,  9.03it/s]"
     ]
    },
    {
     "name": "stdout",
     "output_type": "stream",
     "text": [
      "incorrects are: 8797 \n",
      "total is: 10000 \n",
      "Top-1 error is 87.97000122070312\n"
     ]
    },
    {
     "name": "stderr",
     "output_type": "stream",
     "text": [
      "\n",
      "100it [00:10,  9.29it/s]"
     ]
    },
    {
     "name": "stdout",
     "output_type": "stream",
     "text": [
      "incorrects are: 8834 \n",
      "total is: 10000 \n",
      "Top-1 error is 88.33999633789062\n"
     ]
    },
    {
     "name": "stderr",
     "output_type": "stream",
     "text": [
      "\n",
      "100it [00:10,  9.13it/s]"
     ]
    },
    {
     "name": "stdout",
     "output_type": "stream",
     "text": [
      "incorrects are: 8875 \n",
      "total is: 10000 \n",
      "Top-1 error is 88.75\n"
     ]
    },
    {
     "name": "stderr",
     "output_type": "stream",
     "text": [
      "\n",
      "100it [00:10,  9.18it/s]"
     ]
    },
    {
     "name": "stdout",
     "output_type": "stream",
     "text": [
      "incorrects are: 962 \n",
      "total is: 10000 \n",
      "Top-1 error is 9.619999885559082\n"
     ]
    },
    {
     "name": "stderr",
     "output_type": "stream",
     "text": [
      "\n",
      "100it [00:10,  9.13it/s]"
     ]
    },
    {
     "name": "stdout",
     "output_type": "stream",
     "text": [
      "incorrects are: 3857 \n",
      "total is: 10000 \n",
      "Top-1 error is 38.56999969482422\n"
     ]
    },
    {
     "name": "stderr",
     "output_type": "stream",
     "text": [
      "\n",
      "100it [00:10,  9.23it/s]"
     ]
    },
    {
     "name": "stdout",
     "output_type": "stream",
     "text": [
      "incorrects are: 2907 \n",
      "total is: 10000 \n",
      "Top-1 error is 29.06999969482422\n"
     ]
    },
    {
     "name": "stderr",
     "output_type": "stream",
     "text": [
      "\n",
      "100it [00:11,  9.07it/s]"
     ]
    },
    {
     "name": "stdout",
     "output_type": "stream",
     "text": [
      "incorrects are: 1197 \n",
      "total is: 10000 \n",
      "Top-1 error is 11.969999313354492\n"
     ]
    },
    {
     "name": "stderr",
     "output_type": "stream",
     "text": [
      "\n",
      "100it [00:10,  9.31it/s]"
     ]
    },
    {
     "name": "stdout",
     "output_type": "stream",
     "text": [
      "incorrects are: 403 \n",
      "total is: 10000 \n",
      "Top-1 error is 4.029999732971191\n"
     ]
    },
    {
     "name": "stderr",
     "output_type": "stream",
     "text": [
      "\n",
      "100it [00:10,  9.14it/s]"
     ]
    },
    {
     "name": "stdout",
     "output_type": "stream",
     "text": [
      "incorrects are: 251 \n",
      "total is: 10000 \n",
      "Top-1 error is 2.509999990463257\n"
     ]
    },
    {
     "name": "stderr",
     "output_type": "stream",
     "text": [
      "\n",
      "100it [00:10,  9.12it/s]"
     ]
    },
    {
     "name": "stdout",
     "output_type": "stream",
     "text": [
      "incorrects are: 270 \n",
      "total is: 10000 \n",
      "Top-1 error is 2.700000047683716\n"
     ]
    },
    {
     "name": "stderr",
     "output_type": "stream",
     "text": [
      "\n",
      "100it [00:11,  9.05it/s]"
     ]
    },
    {
     "name": "stdout",
     "output_type": "stream",
     "text": [
      "incorrects are: 383 \n",
      "total is: 10000 \n",
      "Top-1 error is 3.8299999237060547\n"
     ]
    },
    {
     "name": "stderr",
     "output_type": "stream",
     "text": [
      "\n",
      "100it [00:10,  9.13it/s]"
     ]
    },
    {
     "name": "stdout",
     "output_type": "stream",
     "text": [
      "incorrects are: 615 \n",
      "total is: 10000 \n",
      "Top-1 error is 6.149999618530273\n"
     ]
    },
    {
     "name": "stderr",
     "output_type": "stream",
     "text": [
      "\n",
      "100it [00:10,  9.23it/s]"
     ]
    },
    {
     "name": "stdout",
     "output_type": "stream",
     "text": [
      "incorrects are: 1052 \n",
      "total is: 10000 \n",
      "Top-1 error is 10.519999504089355\n"
     ]
    },
    {
     "name": "stderr",
     "output_type": "stream",
     "text": [
      "\n",
      "100it [00:10,  9.12it/s]"
     ]
    },
    {
     "name": "stdout",
     "output_type": "stream",
     "text": [
      "incorrects are: 1776 \n",
      "total is: 10000 \n",
      "Top-1 error is 17.760000228881836\n"
     ]
    },
    {
     "name": "stderr",
     "output_type": "stream",
     "text": [
      "\n",
      "100it [00:10,  9.14it/s]"
     ]
    },
    {
     "name": "stdout",
     "output_type": "stream",
     "text": [
      "incorrects are: 2648 \n",
      "total is: 10000 \n",
      "Top-1 error is 26.479999542236328\n"
     ]
    },
    {
     "name": "stderr",
     "output_type": "stream",
     "text": [
      "\n",
      "100it [00:10,  9.29it/s]"
     ]
    },
    {
     "name": "stdout",
     "output_type": "stream",
     "text": [
      "incorrects are: 3681 \n",
      "total is: 10000 \n",
      "Top-1 error is 36.80999755859375\n"
     ]
    },
    {
     "name": "stderr",
     "output_type": "stream",
     "text": [
      "\n",
      "100it [00:10,  9.42it/s]"
     ]
    },
    {
     "name": "stdout",
     "output_type": "stream",
     "text": [
      "incorrects are: 4657 \n",
      "total is: 10000 \n",
      "Top-1 error is 46.56999969482422\n"
     ]
    },
    {
     "name": "stderr",
     "output_type": "stream",
     "text": [
      "\n",
      "100it [00:10,  9.17it/s]\n"
     ]
    },
    {
     "name": "stdout",
     "output_type": "stream",
     "text": [
      "incorrects are: 5500 \n",
      "total is: 10000 \n",
      "Top-1 error is 55.0\n"
     ]
    },
    {
     "name": "stderr",
     "output_type": "stream",
     "text": [
      "100it [00:11,  9.09it/s]"
     ]
    },
    {
     "name": "stdout",
     "output_type": "stream",
     "text": [
      "incorrects are: 747 \n",
      "total is: 10000 \n",
      "Top-1 error is 7.46999979019165\n"
     ]
    },
    {
     "name": "stderr",
     "output_type": "stream",
     "text": [
      "\n",
      "100it [00:10,  9.18it/s]"
     ]
    },
    {
     "name": "stdout",
     "output_type": "stream",
     "text": [
      "incorrects are: 2171 \n",
      "total is: 10000 \n",
      "Top-1 error is 21.709999084472656\n"
     ]
    },
    {
     "name": "stderr",
     "output_type": "stream",
     "text": [
      "\n",
      "100it [00:10,  9.14it/s]"
     ]
    },
    {
     "name": "stdout",
     "output_type": "stream",
     "text": [
      "incorrects are: 3492 \n",
      "total is: 10000 \n",
      "Top-1 error is 34.91999816894531\n"
     ]
    },
    {
     "name": "stderr",
     "output_type": "stream",
     "text": [
      "\n",
      "100it [00:10,  9.19it/s]"
     ]
    },
    {
     "name": "stdout",
     "output_type": "stream",
     "text": [
      "incorrects are: 4342 \n",
      "total is: 10000 \n",
      "Top-1 error is 43.41999816894531\n"
     ]
    },
    {
     "name": "stderr",
     "output_type": "stream",
     "text": [
      "\n",
      "100it [00:10,  9.20it/s]"
     ]
    },
    {
     "name": "stdout",
     "output_type": "stream",
     "text": [
      "incorrects are: 4858 \n",
      "total is: 10000 \n",
      "Top-1 error is 48.57999801635742\n"
     ]
    },
    {
     "name": "stderr",
     "output_type": "stream",
     "text": [
      "\n",
      "100it [00:10,  9.22it/s]"
     ]
    },
    {
     "name": "stdout",
     "output_type": "stream",
     "text": [
      "incorrects are: 5200 \n",
      "total is: 10000 \n",
      "Top-1 error is 52.0\n"
     ]
    },
    {
     "name": "stderr",
     "output_type": "stream",
     "text": [
      "\n",
      "100it [00:11,  9.06it/s]"
     ]
    },
    {
     "name": "stdout",
     "output_type": "stream",
     "text": [
      "incorrects are: 5430 \n",
      "total is: 10000 \n",
      "Top-1 error is 54.29999923706055\n"
     ]
    },
    {
     "name": "stderr",
     "output_type": "stream",
     "text": [
      "\n",
      "100it [00:10,  9.16it/s]"
     ]
    },
    {
     "name": "stdout",
     "output_type": "stream",
     "text": [
      "incorrects are: 5602 \n",
      "total is: 10000 \n",
      "Top-1 error is 56.02000045776367\n"
     ]
    },
    {
     "name": "stderr",
     "output_type": "stream",
     "text": [
      "\n",
      "100it [00:10,  9.21it/s]"
     ]
    },
    {
     "name": "stdout",
     "output_type": "stream",
     "text": [
      "incorrects are: 5731 \n",
      "total is: 10000 \n",
      "Top-1 error is 57.30999755859375\n"
     ]
    },
    {
     "name": "stderr",
     "output_type": "stream",
     "text": [
      "\n",
      "100it [00:10,  9.14it/s]"
     ]
    },
    {
     "name": "stdout",
     "output_type": "stream",
     "text": [
      "incorrects are: 5824 \n",
      "total is: 10000 \n",
      "Top-1 error is 58.23999786376953\n"
     ]
    },
    {
     "name": "stderr",
     "output_type": "stream",
     "text": [
      "\n",
      "100it [00:11,  9.07it/s]"
     ]
    },
    {
     "name": "stdout",
     "output_type": "stream",
     "text": [
      "incorrects are: 5914 \n",
      "total is: 10000 \n",
      "Top-1 error is 59.13999938964844\n"
     ]
    },
    {
     "name": "stderr",
     "output_type": "stream",
     "text": [
      "\n",
      "100it [00:10,  9.19it/s]"
     ]
    },
    {
     "name": "stdout",
     "output_type": "stream",
     "text": [
      "incorrects are: 6005 \n",
      "total is: 10000 \n",
      "Top-1 error is 60.04999923706055\n"
     ]
    },
    {
     "name": "stderr",
     "output_type": "stream",
     "text": [
      "\n",
      "100it [00:10,  9.42it/s]"
     ]
    },
    {
     "name": "stdout",
     "output_type": "stream",
     "text": [
      "incorrects are: 6083 \n",
      "total is: 10000 \n",
      "Top-1 error is 60.82999801635742\n"
     ]
    },
    {
     "name": "stderr",
     "output_type": "stream",
     "text": [
      "\n",
      "100it [00:11,  9.03it/s]"
     ]
    },
    {
     "name": "stdout",
     "output_type": "stream",
     "text": [
      "incorrects are: 6159 \n",
      "total is: 10000 \n",
      "Top-1 error is 61.59000015258789\n"
     ]
    },
    {
     "name": "stderr",
     "output_type": "stream",
     "text": [
      "\n",
      "100it [00:11,  9.03it/s]"
     ]
    },
    {
     "name": "stdout",
     "output_type": "stream",
     "text": [
      "incorrects are: 6253 \n",
      "total is: 10000 \n",
      "Top-1 error is 62.529998779296875\n"
     ]
    },
    {
     "name": "stderr",
     "output_type": "stream",
     "text": [
      "\n",
      "100it [00:10,  9.22it/s]"
     ]
    },
    {
     "name": "stdout",
     "output_type": "stream",
     "text": [
      "incorrects are: 1059 \n",
      "total is: 10000 \n",
      "Top-1 error is 10.59000015258789\n"
     ]
    },
    {
     "name": "stderr",
     "output_type": "stream",
     "text": [
      "\n",
      "100it [00:10,  9.12it/s]"
     ]
    },
    {
     "name": "stdout",
     "output_type": "stream",
     "text": [
      "incorrects are: 4458 \n",
      "total is: 10000 \n",
      "Top-1 error is 44.57999801635742\n"
     ]
    },
    {
     "name": "stderr",
     "output_type": "stream",
     "text": [
      "\n",
      "100it [00:10,  9.14it/s]"
     ]
    },
    {
     "name": "stdout",
     "output_type": "stream",
     "text": [
      "incorrects are: 1943 \n",
      "total is: 10000 \n",
      "Top-1 error is 19.43000030517578\n"
     ]
    },
    {
     "name": "stderr",
     "output_type": "stream",
     "text": [
      "\n",
      "100it [00:11,  9.09it/s]"
     ]
    },
    {
     "name": "stdout",
     "output_type": "stream",
     "text": [
      "incorrects are: 629 \n",
      "total is: 10000 \n",
      "Top-1 error is 6.289999961853027\n"
     ]
    },
    {
     "name": "stderr",
     "output_type": "stream",
     "text": [
      "\n",
      "100it [00:11,  9.02it/s]"
     ]
    },
    {
     "name": "stdout",
     "output_type": "stream",
     "text": [
      "incorrects are: 435 \n",
      "total is: 10000 \n",
      "Top-1 error is 4.349999904632568\n"
     ]
    },
    {
     "name": "stderr",
     "output_type": "stream",
     "text": [
      "\n",
      "100it [00:10,  9.22it/s]"
     ]
    },
    {
     "name": "stdout",
     "output_type": "stream",
     "text": [
      "incorrects are: 628 \n",
      "total is: 10000 \n",
      "Top-1 error is 6.279999732971191\n"
     ]
    },
    {
     "name": "stderr",
     "output_type": "stream",
     "text": [
      "\n",
      "100it [00:10,  9.23it/s]"
     ]
    },
    {
     "name": "stdout",
     "output_type": "stream",
     "text": [
      "incorrects are: 1037 \n",
      "total is: 10000 \n",
      "Top-1 error is 10.369999885559082\n"
     ]
    },
    {
     "name": "stderr",
     "output_type": "stream",
     "text": [
      "\n",
      "100it [00:10,  9.15it/s]"
     ]
    },
    {
     "name": "stdout",
     "output_type": "stream",
     "text": [
      "incorrects are: 1656 \n",
      "total is: 10000 \n",
      "Top-1 error is 16.559999465942383\n"
     ]
    },
    {
     "name": "stderr",
     "output_type": "stream",
     "text": [
      "\n",
      "100it [00:11,  9.08it/s]"
     ]
    },
    {
     "name": "stdout",
     "output_type": "stream",
     "text": [
      "incorrects are: 2380 \n",
      "total is: 10000 \n",
      "Top-1 error is 23.799999237060547\n"
     ]
    },
    {
     "name": "stderr",
     "output_type": "stream",
     "text": [
      "\n",
      "100it [00:10,  9.10it/s]"
     ]
    },
    {
     "name": "stdout",
     "output_type": "stream",
     "text": [
      "incorrects are: 3132 \n",
      "total is: 10000 \n",
      "Top-1 error is 31.31999969482422\n"
     ]
    },
    {
     "name": "stderr",
     "output_type": "stream",
     "text": [
      "\n",
      "100it [00:11,  9.00it/s]"
     ]
    },
    {
     "name": "stdout",
     "output_type": "stream",
     "text": [
      "incorrects are: 3927 \n",
      "total is: 10000 \n",
      "Top-1 error is 39.27000045776367\n"
     ]
    },
    {
     "name": "stderr",
     "output_type": "stream",
     "text": [
      "\n",
      "100it [00:10,  9.29it/s]"
     ]
    },
    {
     "name": "stdout",
     "output_type": "stream",
     "text": [
      "incorrects are: 4633 \n",
      "total is: 10000 \n",
      "Top-1 error is 46.32999801635742\n"
     ]
    },
    {
     "name": "stderr",
     "output_type": "stream",
     "text": [
      "\n",
      "100it [00:10,  9.17it/s]"
     ]
    },
    {
     "name": "stdout",
     "output_type": "stream",
     "text": [
      "incorrects are: 5305 \n",
      "total is: 10000 \n",
      "Top-1 error is 53.04999923706055\n"
     ]
    },
    {
     "name": "stderr",
     "output_type": "stream",
     "text": [
      "\n",
      "100it [00:10,  9.19it/s]"
     ]
    },
    {
     "name": "stdout",
     "output_type": "stream",
     "text": [
      "incorrects are: 5883 \n",
      "total is: 10000 \n",
      "Top-1 error is 58.82999801635742\n"
     ]
    },
    {
     "name": "stderr",
     "output_type": "stream",
     "text": [
      "\n",
      "100it [00:10,  9.15it/s]"
     ]
    },
    {
     "name": "stdout",
     "output_type": "stream",
     "text": [
      "incorrects are: 6378 \n",
      "total is: 10000 \n",
      "Top-1 error is 63.779998779296875\n"
     ]
    },
    {
     "name": "stderr",
     "output_type": "stream",
     "text": [
      "\n",
      "100it [00:10,  9.19it/s]"
     ]
    },
    {
     "name": "stdout",
     "output_type": "stream",
     "text": [
      "incorrects are: 1147 \n",
      "total is: 10000 \n",
      "Top-1 error is 11.469999313354492\n"
     ]
    },
    {
     "name": "stderr",
     "output_type": "stream",
     "text": [
      "\n",
      "100it [00:11,  9.06it/s]"
     ]
    },
    {
     "name": "stdout",
     "output_type": "stream",
     "text": [
      "incorrects are: 4518 \n",
      "total is: 10000 \n",
      "Top-1 error is 45.18000030517578\n"
     ]
    },
    {
     "name": "stderr",
     "output_type": "stream",
     "text": [
      "\n",
      "100it [00:10,  9.18it/s]"
     ]
    },
    {
     "name": "stdout",
     "output_type": "stream",
     "text": [
      "incorrects are: 4399 \n",
      "total is: 10000 \n",
      "Top-1 error is 43.98999786376953\n"
     ]
    },
    {
     "name": "stderr",
     "output_type": "stream",
     "text": [
      "\n",
      "100it [00:10,  9.13it/s]"
     ]
    },
    {
     "name": "stdout",
     "output_type": "stream",
     "text": [
      "incorrects are: 2806 \n",
      "total is: 10000 \n",
      "Top-1 error is 28.059999465942383\n"
     ]
    },
    {
     "name": "stderr",
     "output_type": "stream",
     "text": [
      "\n",
      "100it [00:10,  9.16it/s]"
     ]
    },
    {
     "name": "stdout",
     "output_type": "stream",
     "text": [
      "incorrects are: 1258 \n",
      "total is: 10000 \n",
      "Top-1 error is 12.579999923706055\n"
     ]
    },
    {
     "name": "stderr",
     "output_type": "stream",
     "text": [
      "\n",
      "100it [00:10,  9.13it/s]"
     ]
    },
    {
     "name": "stdout",
     "output_type": "stream",
     "text": [
      "incorrects are: 738 \n",
      "total is: 10000 \n",
      "Top-1 error is 7.37999963760376\n"
     ]
    },
    {
     "name": "stderr",
     "output_type": "stream",
     "text": [
      "\n",
      "100it [00:10,  9.10it/s]"
     ]
    },
    {
     "name": "stdout",
     "output_type": "stream",
     "text": [
      "incorrects are: 681 \n",
      "total is: 10000 \n",
      "Top-1 error is 6.809999942779541\n"
     ]
    },
    {
     "name": "stderr",
     "output_type": "stream",
     "text": [
      "\n",
      "100it [00:11,  9.07it/s]"
     ]
    },
    {
     "name": "stdout",
     "output_type": "stream",
     "text": [
      "incorrects are: 943 \n",
      "total is: 10000 \n",
      "Top-1 error is 9.429999351501465\n"
     ]
    },
    {
     "name": "stderr",
     "output_type": "stream",
     "text": [
      "\n",
      "100it [00:10,  9.19it/s]"
     ]
    },
    {
     "name": "stdout",
     "output_type": "stream",
     "text": [
      "incorrects are: 1369 \n",
      "total is: 10000 \n",
      "Top-1 error is 13.6899995803833\n"
     ]
    },
    {
     "name": "stderr",
     "output_type": "stream",
     "text": [
      "\n",
      "100it [00:11,  9.02it/s]"
     ]
    },
    {
     "name": "stdout",
     "output_type": "stream",
     "text": [
      "incorrects are: 1996 \n",
      "total is: 10000 \n",
      "Top-1 error is 19.959999084472656\n"
     ]
    },
    {
     "name": "stderr",
     "output_type": "stream",
     "text": [
      "\n",
      "100it [00:10,  9.51it/s]"
     ]
    },
    {
     "name": "stdout",
     "output_type": "stream",
     "text": [
      "incorrects are: 2685 \n",
      "total is: 10000 \n",
      "Top-1 error is 26.849998474121094\n"
     ]
    },
    {
     "name": "stderr",
     "output_type": "stream",
     "text": [
      "\n",
      "100it [00:10,  9.20it/s]"
     ]
    },
    {
     "name": "stdout",
     "output_type": "stream",
     "text": [
      "incorrects are: 3389 \n",
      "total is: 10000 \n",
      "Top-1 error is 33.88999938964844\n"
     ]
    },
    {
     "name": "stderr",
     "output_type": "stream",
     "text": [
      "\n",
      "100it [00:10,  9.11it/s]"
     ]
    },
    {
     "name": "stdout",
     "output_type": "stream",
     "text": [
      "incorrects are: 4116 \n",
      "total is: 10000 \n",
      "Top-1 error is 41.15999984741211\n"
     ]
    },
    {
     "name": "stderr",
     "output_type": "stream",
     "text": [
      "\n",
      "100it [00:10,  9.10it/s]\n"
     ]
    },
    {
     "name": "stdout",
     "output_type": "stream",
     "text": [
      "incorrects are: 4893 \n",
      "total is: 10000 \n",
      "Top-1 error is 48.93000030517578\n"
     ]
    },
    {
     "name": "stderr",
     "output_type": "stream",
     "text": [
      "100it [00:10,  9.12it/s]"
     ]
    },
    {
     "name": "stdout",
     "output_type": "stream",
     "text": [
      "incorrects are: 5578 \n",
      "total is: 10000 \n",
      "Top-1 error is 55.779998779296875\n"
     ]
    },
    {
     "name": "stderr",
     "output_type": "stream",
     "text": [
      "\n",
      "100it [00:10,  9.18it/s]"
     ]
    },
    {
     "name": "stdout",
     "output_type": "stream",
     "text": [
      "incorrects are: 1568 \n",
      "total is: 10000 \n",
      "Top-1 error is 15.679999351501465\n"
     ]
    },
    {
     "name": "stderr",
     "output_type": "stream",
     "text": [
      "\n",
      "100it [00:11,  8.99it/s]"
     ]
    },
    {
     "name": "stdout",
     "output_type": "stream",
     "text": [
      "incorrects are: 5500 \n",
      "total is: 10000 \n",
      "Top-1 error is 55.0\n"
     ]
    },
    {
     "name": "stderr",
     "output_type": "stream",
     "text": [
      "\n",
      "100it [00:10,  9.11it/s]"
     ]
    },
    {
     "name": "stdout",
     "output_type": "stream",
     "text": [
      "incorrects are: 5711 \n",
      "total is: 10000 \n",
      "Top-1 error is 57.1099967956543\n"
     ]
    },
    {
     "name": "stderr",
     "output_type": "stream",
     "text": [
      "\n",
      "100it [00:10,  9.19it/s]"
     ]
    },
    {
     "name": "stdout",
     "output_type": "stream",
     "text": [
      "incorrects are: 4827 \n",
      "total is: 10000 \n",
      "Top-1 error is 48.27000045776367\n"
     ]
    },
    {
     "name": "stderr",
     "output_type": "stream",
     "text": [
      "\n",
      "100it [00:11,  9.08it/s]"
     ]
    },
    {
     "name": "stdout",
     "output_type": "stream",
     "text": [
      "incorrects are: 2633 \n",
      "total is: 10000 \n",
      "Top-1 error is 26.329999923706055\n"
     ]
    },
    {
     "name": "stderr",
     "output_type": "stream",
     "text": [
      "\n",
      "100it [00:10,  9.20it/s]"
     ]
    },
    {
     "name": "stdout",
     "output_type": "stream",
     "text": [
      "incorrects are: 959 \n",
      "total is: 10000 \n",
      "Top-1 error is 9.59000015258789\n"
     ]
    },
    {
     "name": "stderr",
     "output_type": "stream",
     "text": [
      "\n",
      "100it [00:10,  9.11it/s]"
     ]
    },
    {
     "name": "stdout",
     "output_type": "stream",
     "text": [
      "incorrects are: 499 \n",
      "total is: 10000 \n",
      "Top-1 error is 4.989999771118164\n"
     ]
    },
    {
     "name": "stderr",
     "output_type": "stream",
     "text": [
      "\n",
      "100it [00:10,  9.15it/s]"
     ]
    },
    {
     "name": "stdout",
     "output_type": "stream",
     "text": [
      "incorrects are: 427 \n",
      "total is: 10000 \n",
      "Top-1 error is 4.269999980926514\n"
     ]
    },
    {
     "name": "stderr",
     "output_type": "stream",
     "text": [
      "\n",
      "100it [00:10,  9.14it/s]"
     ]
    },
    {
     "name": "stdout",
     "output_type": "stream",
     "text": [
      "incorrects are: 558 \n",
      "total is: 10000 \n",
      "Top-1 error is 5.579999923706055\n"
     ]
    },
    {
     "name": "stderr",
     "output_type": "stream",
     "text": [
      "\n",
      "100it [00:10,  9.34it/s]\n"
     ]
    },
    {
     "name": "stdout",
     "output_type": "stream",
     "text": [
      "incorrects are: 854 \n",
      "total is: 10000 \n",
      "Top-1 error is 8.539999961853027\n"
     ]
    },
    {
     "name": "stderr",
     "output_type": "stream",
     "text": [
      "100it [00:10,  9.22it/s]"
     ]
    },
    {
     "name": "stdout",
     "output_type": "stream",
     "text": [
      "incorrects are: 1399 \n",
      "total is: 10000 \n",
      "Top-1 error is 13.989999771118164\n"
     ]
    },
    {
     "name": "stderr",
     "output_type": "stream",
     "text": [
      "\n",
      "100it [00:10,  9.21it/s]"
     ]
    },
    {
     "name": "stdout",
     "output_type": "stream",
     "text": [
      "incorrects are: 2202 \n",
      "total is: 10000 \n",
      "Top-1 error is 22.01999855041504\n"
     ]
    },
    {
     "name": "stderr",
     "output_type": "stream",
     "text": [
      "\n",
      "100it [00:10,  9.09it/s]"
     ]
    },
    {
     "name": "stdout",
     "output_type": "stream",
     "text": [
      "incorrects are: 3138 \n",
      "total is: 10000 \n",
      "Top-1 error is 31.3799991607666\n"
     ]
    },
    {
     "name": "stderr",
     "output_type": "stream",
     "text": [
      "\n",
      "100it [00:10,  9.23it/s]"
     ]
    },
    {
     "name": "stdout",
     "output_type": "stream",
     "text": [
      "incorrects are: 4059 \n",
      "total is: 10000 \n",
      "Top-1 error is 40.59000015258789\n"
     ]
    },
    {
     "name": "stderr",
     "output_type": "stream",
     "text": [
      "\n",
      "100it [00:10,  9.17it/s]\n"
     ]
    },
    {
     "name": "stdout",
     "output_type": "stream",
     "text": [
      "incorrects are: 4836 \n",
      "total is: 10000 \n",
      "Top-1 error is 48.36000061035156\n"
     ]
    },
    {
     "name": "stderr",
     "output_type": "stream",
     "text": [
      "100it [00:10,  9.13it/s]"
     ]
    },
    {
     "name": "stdout",
     "output_type": "stream",
     "text": [
      "incorrects are: 968 \n",
      "total is: 10000 \n",
      "Top-1 error is 9.679999351501465\n"
     ]
    },
    {
     "name": "stderr",
     "output_type": "stream",
     "text": [
      "\n",
      "100it [00:11,  9.06it/s]"
     ]
    },
    {
     "name": "stdout",
     "output_type": "stream",
     "text": [
      "incorrects are: 4621 \n",
      "total is: 10000 \n",
      "Top-1 error is 46.209999084472656\n"
     ]
    },
    {
     "name": "stderr",
     "output_type": "stream",
     "text": [
      "\n",
      "100it [00:10,  9.11it/s]"
     ]
    },
    {
     "name": "stdout",
     "output_type": "stream",
     "text": [
      "incorrects are: 4766 \n",
      "total is: 10000 \n",
      "Top-1 error is 47.65999984741211\n"
     ]
    },
    {
     "name": "stderr",
     "output_type": "stream",
     "text": [
      "\n",
      "100it [00:11,  8.98it/s]"
     ]
    },
    {
     "name": "stdout",
     "output_type": "stream",
     "text": [
      "incorrects are: 4166 \n",
      "total is: 10000 \n",
      "Top-1 error is 41.65999984741211\n"
     ]
    },
    {
     "name": "stderr",
     "output_type": "stream",
     "text": [
      "\n",
      "100it [00:11,  9.00it/s]"
     ]
    },
    {
     "name": "stdout",
     "output_type": "stream",
     "text": [
      "incorrects are: 3290 \n",
      "total is: 10000 \n",
      "Top-1 error is 32.89999771118164\n"
     ]
    },
    {
     "name": "stderr",
     "output_type": "stream",
     "text": [
      "\n",
      "100it [00:11,  9.06it/s]"
     ]
    },
    {
     "name": "stdout",
     "output_type": "stream",
     "text": [
      "incorrects are: 2873 \n",
      "total is: 10000 \n",
      "Top-1 error is 28.729999542236328\n"
     ]
    },
    {
     "name": "stderr",
     "output_type": "stream",
     "text": [
      "\n",
      "100it [00:11,  9.07it/s]"
     ]
    },
    {
     "name": "stdout",
     "output_type": "stream",
     "text": [
      "incorrects are: 3125 \n",
      "total is: 10000 \n",
      "Top-1 error is 31.25\n"
     ]
    },
    {
     "name": "stderr",
     "output_type": "stream",
     "text": [
      "\n",
      "100it [00:11,  8.97it/s]"
     ]
    },
    {
     "name": "stdout",
     "output_type": "stream",
     "text": [
      "incorrects are: 3591 \n",
      "total is: 10000 \n",
      "Top-1 error is 35.90999984741211\n"
     ]
    },
    {
     "name": "stderr",
     "output_type": "stream",
     "text": [
      "\n",
      "100it [00:11,  9.08it/s]"
     ]
    },
    {
     "name": "stdout",
     "output_type": "stream",
     "text": [
      "incorrects are: 4069 \n",
      "total is: 10000 \n",
      "Top-1 error is 40.689998626708984\n"
     ]
    },
    {
     "name": "stderr",
     "output_type": "stream",
     "text": [
      "\n",
      "100it [00:10,  9.38it/s]"
     ]
    },
    {
     "name": "stdout",
     "output_type": "stream",
     "text": [
      "incorrects are: 4408 \n",
      "total is: 10000 \n",
      "Top-1 error is 44.07999801635742\n"
     ]
    },
    {
     "name": "stderr",
     "output_type": "stream",
     "text": [
      "\n",
      "100it [00:10,  9.13it/s]"
     ]
    },
    {
     "name": "stdout",
     "output_type": "stream",
     "text": [
      "incorrects are: 4674 \n",
      "total is: 10000 \n",
      "Top-1 error is 46.73999786376953\n"
     ]
    },
    {
     "name": "stderr",
     "output_type": "stream",
     "text": [
      "\n",
      "100it [00:10,  9.15it/s]"
     ]
    },
    {
     "name": "stdout",
     "output_type": "stream",
     "text": [
      "incorrects are: 4921 \n",
      "total is: 10000 \n",
      "Top-1 error is 49.209999084472656\n"
     ]
    },
    {
     "name": "stderr",
     "output_type": "stream",
     "text": [
      "\n",
      "100it [00:11,  9.06it/s]"
     ]
    },
    {
     "name": "stdout",
     "output_type": "stream",
     "text": [
      "incorrects are: 5131 \n",
      "total is: 10000 \n",
      "Top-1 error is 51.30999755859375\n"
     ]
    },
    {
     "name": "stderr",
     "output_type": "stream",
     "text": [
      "\n",
      "100it [00:10,  9.14it/s]"
     ]
    },
    {
     "name": "stdout",
     "output_type": "stream",
     "text": [
      "incorrects are: 5368 \n",
      "total is: 10000 \n",
      "Top-1 error is 53.68000030517578\n"
     ]
    },
    {
     "name": "stderr",
     "output_type": "stream",
     "text": [
      "\n",
      "100it [00:11,  9.09it/s]\n"
     ]
    },
    {
     "name": "stdout",
     "output_type": "stream",
     "text": [
      "incorrects are: 5605 \n",
      "total is: 10000 \n",
      "Top-1 error is 56.04999923706055\n"
     ]
    },
    {
     "name": "stderr",
     "output_type": "stream",
     "text": [
      "100it [00:10,  9.16it/s]"
     ]
    },
    {
     "name": "stdout",
     "output_type": "stream",
     "text": [
      "incorrects are: 474 \n",
      "total is: 10000 \n",
      "Top-1 error is 4.739999771118164\n"
     ]
    },
    {
     "name": "stderr",
     "output_type": "stream",
     "text": [
      "\n",
      "100it [00:10,  9.09it/s]"
     ]
    },
    {
     "name": "stdout",
     "output_type": "stream",
     "text": [
      "incorrects are: 3688 \n",
      "total is: 10000 \n",
      "Top-1 error is 36.87999725341797\n"
     ]
    },
    {
     "name": "stderr",
     "output_type": "stream",
     "text": [
      "\n",
      "100it [00:10,  9.18it/s]"
     ]
    },
    {
     "name": "stdout",
     "output_type": "stream",
     "text": [
      "incorrects are: 4193 \n",
      "total is: 10000 \n",
      "Top-1 error is 41.93000030517578\n"
     ]
    },
    {
     "name": "stderr",
     "output_type": "stream",
     "text": [
      "\n",
      "100it [00:11,  9.03it/s]"
     ]
    },
    {
     "name": "stdout",
     "output_type": "stream",
     "text": [
      "incorrects are: 4678 \n",
      "total is: 10000 \n",
      "Top-1 error is 46.779998779296875\n"
     ]
    },
    {
     "name": "stderr",
     "output_type": "stream",
     "text": [
      "\n",
      "100it [00:11,  8.99it/s]"
     ]
    },
    {
     "name": "stdout",
     "output_type": "stream",
     "text": [
      "incorrects are: 5219 \n",
      "total is: 10000 \n",
      "Top-1 error is 52.189998626708984\n"
     ]
    },
    {
     "name": "stderr",
     "output_type": "stream",
     "text": [
      "\n",
      "100it [00:11,  9.06it/s]"
     ]
    },
    {
     "name": "stdout",
     "output_type": "stream",
     "text": [
      "incorrects are: 5882 \n",
      "total is: 10000 \n",
      "Top-1 error is 58.81999969482422\n"
     ]
    },
    {
     "name": "stderr",
     "output_type": "stream",
     "text": [
      "\n",
      "100it [00:11,  9.07it/s]"
     ]
    },
    {
     "name": "stdout",
     "output_type": "stream",
     "text": [
      "incorrects are: 6507 \n",
      "total is: 10000 \n",
      "Top-1 error is 65.06999969482422\n"
     ]
    },
    {
     "name": "stderr",
     "output_type": "stream",
     "text": [
      "\n",
      "100it [00:11,  9.02it/s]"
     ]
    },
    {
     "name": "stdout",
     "output_type": "stream",
     "text": [
      "incorrects are: 7160 \n",
      "total is: 10000 \n",
      "Top-1 error is 71.5999984741211\n"
     ]
    },
    {
     "name": "stderr",
     "output_type": "stream",
     "text": [
      "\n",
      "100it [00:10,  9.44it/s]"
     ]
    },
    {
     "name": "stdout",
     "output_type": "stream",
     "text": [
      "incorrects are: 7725 \n",
      "total is: 10000 \n",
      "Top-1 error is 77.25\n"
     ]
    },
    {
     "name": "stderr",
     "output_type": "stream",
     "text": [
      "\n",
      "100it [00:11,  9.07it/s]"
     ]
    },
    {
     "name": "stdout",
     "output_type": "stream",
     "text": [
      "incorrects are: 8195 \n",
      "total is: 10000 \n",
      "Top-1 error is 81.94999694824219\n"
     ]
    },
    {
     "name": "stderr",
     "output_type": "stream",
     "text": [
      "\n",
      "100it [00:11,  9.08it/s]"
     ]
    },
    {
     "name": "stdout",
     "output_type": "stream",
     "text": [
      "incorrects are: 8485 \n",
      "total is: 10000 \n",
      "Top-1 error is 84.8499984741211\n"
     ]
    },
    {
     "name": "stderr",
     "output_type": "stream",
     "text": [
      "\n",
      "100it [00:10,  9.12it/s]"
     ]
    },
    {
     "name": "stdout",
     "output_type": "stream",
     "text": [
      "incorrects are: 8664 \n",
      "total is: 10000 \n",
      "Top-1 error is 86.63999938964844\n"
     ]
    },
    {
     "name": "stderr",
     "output_type": "stream",
     "text": [
      "\n",
      "100it [00:11,  9.08it/s]"
     ]
    },
    {
     "name": "stdout",
     "output_type": "stream",
     "text": [
      "incorrects are: 8773 \n",
      "total is: 10000 \n",
      "Top-1 error is 87.72999572753906\n"
     ]
    },
    {
     "name": "stderr",
     "output_type": "stream",
     "text": [
      "\n",
      "100it [00:11,  9.05it/s]"
     ]
    },
    {
     "name": "stdout",
     "output_type": "stream",
     "text": [
      "incorrects are: 8835 \n",
      "total is: 10000 \n",
      "Top-1 error is 88.3499984741211\n"
     ]
    },
    {
     "name": "stderr",
     "output_type": "stream",
     "text": [
      "\n",
      "100it [00:10,  9.11it/s]"
     ]
    },
    {
     "name": "stdout",
     "output_type": "stream",
     "text": [
      "incorrects are: 8889 \n",
      "total is: 10000 \n",
      "Top-1 error is 88.88999938964844\n"
     ]
    },
    {
     "name": "stderr",
     "output_type": "stream",
     "text": [
      "\n",
      "100it [00:11,  8.94it/s]"
     ]
    },
    {
     "name": "stdout",
     "output_type": "stream",
     "text": [
      "incorrects are: 723 \n",
      "total is: 10000 \n",
      "Top-1 error is 7.230000019073486\n"
     ]
    },
    {
     "name": "stderr",
     "output_type": "stream",
     "text": [
      "\n",
      "100it [00:11,  9.03it/s]"
     ]
    },
    {
     "name": "stdout",
     "output_type": "stream",
     "text": [
      "incorrects are: 5337 \n",
      "total is: 10000 \n",
      "Top-1 error is 53.369998931884766\n"
     ]
    },
    {
     "name": "stderr",
     "output_type": "stream",
     "text": [
      "\n",
      "100it [00:10,  9.11it/s]"
     ]
    },
    {
     "name": "stdout",
     "output_type": "stream",
     "text": [
      "incorrects are: 6714 \n",
      "total is: 10000 \n",
      "Top-1 error is 67.13999938964844\n"
     ]
    },
    {
     "name": "stderr",
     "output_type": "stream",
     "text": [
      "\n",
      "100it [00:10,  9.17it/s]"
     ]
    },
    {
     "name": "stdout",
     "output_type": "stream",
     "text": [
      "incorrects are: 6852 \n",
      "total is: 10000 \n",
      "Top-1 error is 68.5199966430664\n"
     ]
    },
    {
     "name": "stderr",
     "output_type": "stream",
     "text": [
      "\n",
      "100it [00:11,  9.06it/s]"
     ]
    },
    {
     "name": "stdout",
     "output_type": "stream",
     "text": [
      "incorrects are: 6789 \n",
      "total is: 10000 \n",
      "Top-1 error is 67.88999938964844\n"
     ]
    },
    {
     "name": "stderr",
     "output_type": "stream",
     "text": [
      "\n",
      "100it [00:10,  9.13it/s]"
     ]
    },
    {
     "name": "stdout",
     "output_type": "stream",
     "text": [
      "incorrects are: 6803 \n",
      "total is: 10000 \n",
      "Top-1 error is 68.02999877929688\n"
     ]
    },
    {
     "name": "stderr",
     "output_type": "stream",
     "text": [
      "\n",
      "100it [00:10,  9.10it/s]"
     ]
    },
    {
     "name": "stdout",
     "output_type": "stream",
     "text": [
      "incorrects are: 6943 \n",
      "total is: 10000 \n",
      "Top-1 error is 69.43000030517578\n"
     ]
    },
    {
     "name": "stderr",
     "output_type": "stream",
     "text": [
      "\n",
      "100it [00:10,  9.61it/s]"
     ]
    },
    {
     "name": "stdout",
     "output_type": "stream",
     "text": [
      "incorrects are: 7080 \n",
      "total is: 10000 \n",
      "Top-1 error is 70.79999542236328\n"
     ]
    },
    {
     "name": "stderr",
     "output_type": "stream",
     "text": [
      "\n",
      "100it [00:11,  9.02it/s]"
     ]
    },
    {
     "name": "stdout",
     "output_type": "stream",
     "text": [
      "incorrects are: 7191 \n",
      "total is: 10000 \n",
      "Top-1 error is 71.90999603271484\n"
     ]
    },
    {
     "name": "stderr",
     "output_type": "stream",
     "text": [
      "\n",
      "100it [00:11,  9.05it/s]"
     ]
    },
    {
     "name": "stdout",
     "output_type": "stream",
     "text": [
      "incorrects are: 7261 \n",
      "total is: 10000 \n",
      "Top-1 error is 72.61000061035156\n"
     ]
    },
    {
     "name": "stderr",
     "output_type": "stream",
     "text": [
      "\n",
      "100it [00:10,  9.21it/s]"
     ]
    },
    {
     "name": "stdout",
     "output_type": "stream",
     "text": [
      "incorrects are: 7308 \n",
      "total is: 10000 \n",
      "Top-1 error is 73.08000183105469\n"
     ]
    },
    {
     "name": "stderr",
     "output_type": "stream",
     "text": [
      "\n",
      "100it [00:11,  9.06it/s]"
     ]
    },
    {
     "name": "stdout",
     "output_type": "stream",
     "text": [
      "incorrects are: 7374 \n",
      "total is: 10000 \n",
      "Top-1 error is 73.73999786376953\n"
     ]
    },
    {
     "name": "stderr",
     "output_type": "stream",
     "text": [
      "\n",
      "100it [00:10,  9.14it/s]"
     ]
    },
    {
     "name": "stdout",
     "output_type": "stream",
     "text": [
      "incorrects are: 7455 \n",
      "total is: 10000 \n",
      "Top-1 error is 74.54999542236328\n"
     ]
    },
    {
     "name": "stderr",
     "output_type": "stream",
     "text": [
      "\n",
      "100it [00:11,  9.02it/s]"
     ]
    },
    {
     "name": "stdout",
     "output_type": "stream",
     "text": [
      "incorrects are: 7564 \n",
      "total is: 10000 \n",
      "Top-1 error is 75.63999938964844\n"
     ]
    },
    {
     "name": "stderr",
     "output_type": "stream",
     "text": [
      "\n",
      "100it [00:11,  9.00it/s]"
     ]
    },
    {
     "name": "stdout",
     "output_type": "stream",
     "text": [
      "incorrects are: 7680 \n",
      "total is: 10000 \n",
      "Top-1 error is 76.79999542236328\n"
     ]
    },
    {
     "name": "stderr",
     "output_type": "stream",
     "text": [
      "\n"
     ]
    }
   ],
   "source": [
    "# for name, model in models.items():\n",
    "#     errs[name], eps_list = robust_eval_range(model)"
   ]
  },
  {
   "cell_type": "code",
   "execution_count": 76,
   "id": "regional-petroleum",
   "metadata": {
    "scrolled": false
   },
   "outputs": [],
   "source": []
  },
  {
   "cell_type": "code",
   "execution_count": 43,
   "id": "excess-france",
   "metadata": {},
   "outputs": [
    {
     "data": {
      "text/plain": [
       "<matplotlib.legend.Legend at 0x7f9be05a13c8>"
      ]
     },
     "execution_count": 43,
     "metadata": {},
     "output_type": "execute_result"
    },
    {
     "data": {
      "image/png": "[encoded data removed]",
      "text/plain": [
       "<Figure size 960x800 with 1 Axes>"
      ]
     },
     "metadata": {
      "needs_background": "light"
     },
     "output_type": "display_data"
    }
   ],
   "source": [
    "from matplotlib.pyplot import figure\n",
    "\n",
    "figure(figsize=(12, 10), dpi=80)\n",
    "\n",
    "plt.xlabel('epsilon'); plt.ylabel('acc');\n",
    "\n",
    "legends = []\n",
    "for name, err in errs.items():\n",
    "    plt.plot(eps_list, to_acc_tensor(err))\n",
    "    legends.append(name[7:])\n",
    "\n",
    "plt.legend(legends)"
   ]
  },
  {
   "cell_type": "code",
   "execution_count": 578,
   "id": "abstract-norway",
   "metadata": {},
   "outputs": [
    {
     "data": {
      "text/plain": [
       "<matplotlib.legend.Legend at 0x7f790b622eb0>"
      ]
     },
     "execution_count": 578,
     "metadata": {},
     "output_type": "execute_result"
    },
    {
     "data": {
      "image/png": "[encoded data removed]",
      "text/plain": [
       "<Figure size 960x800 with 1 Axes>"
      ]
     },
     "metadata": {
      "needs_background": "light"
     },
     "output_type": "display_data"
    }
   ],
   "source": [
    "from matplotlib.pyplot import figure\n",
    "\n",
    "figure(figsize=(12, 10), dpi=80)\n",
    "\n",
    "plt.xlabel('epsilon'); plt.ylabel('acc');\n",
    "\n",
    "plt.plot(eps_list, to_acc_tensor(err_testing_samp), c='darkgreen')\n",
    "# plt.plot(eps_list, to_acc_tensor(err_SampEps_32_08_Vertical_3samp), c='black')\n",
    "# plt.plot(eps_list, to_acc_tensor(err_SampEps_32_08_Vertical_2samp), c='gold')\n",
    "plt.plot(eps_list, to_acc_tensor(err_SampEps_32_08_linear_3samp), c='b')\n",
    "plt.plot(eps_list, to_acc_tensor(err_SampEps_32_08), c='gray')\n",
    "\n",
    "plt.legend(['Vertical Mixup 3Imgs Advs NormalSamp(.32, .08)','Vertical Mixup 2Imgs Advs NormalSamp(.32, .08)','Linear Mixup 3Imgs Advs NormalSamp(.32, .08)', 'Mixup Advs 2Imgs NormalSamp(.32, .08)',])"
   ]
  },
  {
   "cell_type": "code",
   "execution_count": 576,
   "id": "moved-tractor",
   "metadata": {
    "scrolled": false
   },
   "outputs": [
    {
     "data": {
      "image/png": "[encoded data removed]",
      "text/plain": [
       "<Figure size 960x800 with 1 Axes>"
      ]
     },
     "metadata": {
      "needs_background": "light"
     },
     "output_type": "display_data"
    }
   ],
   "source": [
    "from matplotlib.pyplot import figure\n",
    "\n",
    "figure(figsize=(12, 10), dpi=80)\n",
    "\n",
    "plt.xlabel('epsilon'); plt.ylabel('acc');\n",
    "\n",
    "\n",
    "# plt.plot(eps_list, to_acc_tensor(err_SampEps_32_08_Vertical_3samp), c='peru')\n",
    "# plt.plot(eps_list, to_acc_tensor(err_SampEps_32_08_Vertical_2samp), c='olive')\n",
    "# plt.plot(eps_list, to_acc_tensor(err_SampEps_32_08_linear_3samp), c='gold')\n",
    "plt.plot(eps_list, to_acc_tensor(err_SampEps_32_08), c='gray')\n",
    "plt.plot(eps_list, to_acc_tensor(err_SampEpsBeta_1_1), c='pink')\n",
    "plt.plot(eps_list, to_acc_tensor(err05))\n",
    "plt.plot(eps_list, to_acc_tensor(err25), c='purple')\n",
    "plt.plot(eps_list, to_acc_tensor(err35), c='r')\n",
    "plt.plot(eps_list, to_acc_tensor(err45), c='olive')\n",
    "plt.plot(eps_list, to_acc_tensor(err_mixup), c='b')\n",
    "plt.plot(eps_list, to_acc_tensor(err_erm_noadvs), c = 'darkgreen')\n",
    "plt.plot(eps_list, to_acc_tensor(err_norm_advs), c='black')\n",
    "plt.plot(eps_list, to_acc_tensor(err_NoAdvs_linear_3samp), c='steelblue')\n",
    "\n",
    "plt.legend(['Vertical Mixup 3Imgs Advs NormalSamp(.32, .08)','Vertical Mixup 2Imgs Advs NormalSamp(.32, .08)','Linear Mixup 3Imgs Advs NormalSamp(.32, .08)', 'Mixup Advs 2Imgs NormalSamp(.32, .08)', 'Mixup Advs BetaSamp(1., 1.)', 'Mixup Advs .05', 'Mixup Advs .25', 'Mixup Advs .35', 'Mixup Advs .45', 'Vanilla Mixup', 'Vanilla Training', 'Normal Advs Training', 'Normal LinearMixup 3Imgs']);\n"
   ]
  },
  {
   "cell_type": "code",
   "execution_count": 164,
   "id": "affiliated-campus",
   "metadata": {},
   "outputs": [],
   "source": [
    "def imshow(img):\n",
    "#     img = img / 2 + 0.5     # unnormalize\n",
    "    npimg = img.numpy()\n",
    "    plt.imshow(np.transpose(npimg, (1, 2, 0)))\n",
    "#     plt.imshow(npimg)\n",
    "    plt.show()"
   ]
  },
  {
   "cell_type": "code",
   "execution_count": 654,
   "id": "located-forum",
   "metadata": {
    "scrolled": true
   },
   "outputs": [
    {
     "data": {
      "text/plain": [
       "['/home/m25dehgh/testing_codes/NNs/Mixing-Augmentation/Adversarially-training-mixed',\n",
       " '/home/m25dehgh/anaconda3/envs/hugging/lib/python38.zip',\n",
       " '/home/m25dehgh/anaconda3/envs/hugging/lib/python3.8',\n",
       " '/home/m25dehgh/anaconda3/envs/hugging/lib/python3.8/lib-dynload',\n",
       " '',\n",
       " '/home/m25dehgh/anaconda3/envs/hugging/lib/python3.8/site-packages',\n",
       " '/home/m25dehgh/anaconda3/envs/hugging/lib/python3.8/site-packages/IPython/extensions',\n",
       " '/home/m25dehgh/.ipython']"
      ]
     },
     "execution_count": 654,
     "metadata": {},
     "output_type": "execute_result"
    }
   ],
   "source": [
    "while './Mixing-Augmentation/filters/attention' in sys.path:\n",
    "    sys.path.remove('./Mixing-Augmentation/filters/attention')\n",
    "    \n",
    "sys.path"
   ]
  },
  {
   "cell_type": "code",
   "execution_count": 21,
   "id": "wrapped-eight",
   "metadata": {},
   "outputs": [
    {
     "name": "stdout",
     "output_type": "stream",
     "text": [
      "/bin/bash: line 0: cd: ./Mixing-Augmentation.filters.attention.filter_code: No such file or directory\r\n"
     ]
    }
   ],
   "source": [
    "!cd $baseAddr"
   ]
  },
  {
   "cell_type": "code",
   "execution_count": 53,
   "id": "regulation-cotton",
   "metadata": {},
   "outputs": [
    {
     "name": "stdout",
     "output_type": "stream",
     "text": [
      "Model Complete\n",
      "torch.Size([128, 3, 32, 32])\n",
      "<class 'str'>\n"
     ]
    },
    {
     "data": {
      "text/plain": [
       "torch.Size([128, 3, 32, 32])"
      ]
     },
     "execution_count": 53,
     "metadata": {},
     "output_type": "execute_result"
    }
   ],
   "source": [
    "\n",
    "\n",
    "\n",
    "# loading model\n",
    "\n",
    "\n",
    "masked_imgs.shape"
   ]
  },
  {
   "cell_type": "code",
   "execution_count": null,
   "id": "banner-monster",
   "metadata": {},
   "outputs": [],
   "source": [
    "function = importlib.import_module(\"Mixing-Augmentation.filters.Environment\")\n",
    "\n",
    "masked_imgs = attention_mask_filter(torch.rand(10,3,32,32), payload={'model':CAM_cifar10,'mean':(0.4914, 0.4822, 0.4465),'std':(0.2023, 0.1994, 0.2010)})\n",
    "\n",
    "masked_imgs.shape"
   ]
  },
  {
   "cell_type": "code",
   "execution_count": 186,
   "id": "comparative-visitor",
   "metadata": {
    "collapsed": true
   },
   "outputs": [
    {
     "name": "stderr",
     "output_type": "stream",
     "text": [
      "Clipping input data to the valid range for imshow with RGB data ([0..1] for floats or [0..255] for integers).\n"
     ]
    },
    {
     "name": "stdout",
     "output_type": "stream",
     "text": [
      "true labels is 1 \n",
      " adversaliral predicted is tensor([6]) \n",
      " nomral is predictedtensor([1])\n"
     ]
    },
    {
     "data": {
      "image/png": "[encoded data removed]",
      "text/plain": [
       "<Figure size 432x288 with 1 Axes>"
      ]
     },
     "metadata": {
      "needs_background": "light"
     },
     "output_type": "display_data"
    },
    {
     "name": "stderr",
     "output_type": "stream",
     "text": [
      "Clipping input data to the valid range for imshow with RGB data ([0..1] for floats or [0..255] for integers).\n"
     ]
    },
    {
     "data": {
      "image/png": "[encoded data removed]",
      "text/plain": [
       "<Figure size 432x288 with 1 Axes>"
      ]
     },
     "metadata": {
      "needs_background": "light"
     },
     "output_type": "display_data"
    }
   ],
   "source": [
    "epsilon = .11\n",
    "i = random.randint(0,100)\n",
    "# i = 1\n",
    "\n",
    "\n",
    "normal_inpt = trainset[i][0].reshape(1,3,32,32).cuda()\n",
    "normal_inpt.requires_grad_(True)\n",
    "out = net(normal_inpt)\n",
    "\n",
    "target = torch.tensor([trainset[i][1]]).cuda()\n",
    "\n",
    "loss = criterion(out, target)\n",
    "\n",
    "optimizer.zero_grad()\n",
    "loss.backward()\n",
    "\n",
    "with torch.no_grad():\n",
    "    advers_inp = normal_inpt + (epsilon * normal_inpt.grad.sign())\n",
    "    advers_out = net(advers_inp)\n",
    "    normal_out = net(normal_inpt)\n",
    "    _,advs_predicted = torch.max(advers_out.cpu().data, 1)\n",
    "    _,normal_predicted = torch.max(normal_out.cpu().data, 1)\n",
    "    \n",
    "print(f'true labels is {target.item()} \\n adversaliral predicted is {advs_predicted} \\n nomral is predicted{normal_predicted}')\n",
    "\n",
    "imshow(normal_inpt.cpu().detach().squeeze())\n",
    "imshow(advers_inp.cpu().detach().squeeze())"
   ]
  },
  {
   "cell_type": "code",
   "execution_count": 264,
   "id": "inclusive-conspiracy",
   "metadata": {},
   "outputs": [
    {
     "data": {
      "text/plain": [
       "tensor(-2.4291)"
      ]
     },
     "execution_count": 264,
     "metadata": {},
     "output_type": "execute_result"
    }
   ],
   "source": [
    "# advers_out = net(advers_inp) #+ (epsilon * normal_inpt.grad.sign())\n",
    "# print(advers_out)\n",
    "mx = 100\n",
    "for j in range(1000):\n",
    "    i = random.randint(0,3000)\n",
    "    if torch.min(torch.min(trainset[i][0], -1)[0], -1)[0][0] < mx:\n",
    "        mx = torch.min(torch.min(trainset[i][0], -1)[0], -1)[0][0]\n",
    "mx"
   ]
  },
  {
   "cell_type": "code",
   "execution_count": null,
   "id": "sufficient-repository",
   "metadata": {},
   "outputs": [],
   "source": [
    "import pandas as pd\n",
    "\n",
    "df = pd.read_csv(\"~/testing_codes/NNs/results/log_ResNet_ERM-128-WithAug_10.csv\")\n",
    "df"
   ]
  },
  {
   "cell_type": "code",
   "execution_count": null,
   "id": "stuffed-mobile",
   "metadata": {},
   "outputs": [],
   "source": []
  }
 ],
 "metadata": {
  "kernelspec": {
   "display_name": "mixdef",
   "language": "python",
   "name": "mixdef"
  },
  "language_info": {
   "codemirror_mode": {
    "name": "ipython",
    "version": 3
   },
   "file_extension": ".py",
   "mimetype": "text/x-python",
   "name": "python",
   "nbconvert_exporter": "python",
   "pygments_lexer": "ipython3",
   "version": "3.6.13"
  }
 },
 "nbformat": 4,
 "nbformat_minor": 5
}
