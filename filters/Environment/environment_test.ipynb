{
 "cells": [
  {
   "cell_type": "code",
   "execution_count": 1,
   "metadata": {
    "colab": {
     "base_uri": "https://localhost:8080/"
    },
    "id": "EABPJWZrx8SX",
    "outputId": "656ad707-92b8-45ed-f989-072687cdd860"
   },
   "outputs": [
    {
     "name": "stdout",
     "output_type": "stream",
     "text": [
      "Mounted at /content/drive\n",
      "/content/drive/MyDrive/Advanced_Data_Augmentation\n"
     ]
    }
   ],
   "source": [
    "from google.colab import drive\n",
    "drive.mount('/content/drive',force_remount=True)\n",
    "%cd \"/content/drive/MyDrive/Advanced_Data_Augmentation\""
   ]
  },
  {
   "cell_type": "code",
   "execution_count": 2,
   "metadata": {
    "colab": {
     "base_uri": "https://localhost:8080/"
    },
    "id": "NjtDw4nsy8Y4",
    "outputId": "04fdf2da-eb81-41cb-e1b0-7cbf840e5072"
   },
   "outputs": [
    {
     "name": "stdout",
     "output_type": "stream",
     "text": [
      "Requirement already satisfied: pickle5 in /usr/local/lib/python3.7/dist-packages (0.0.11)\n"
     ]
    }
   ],
   "source": [
    "!pip3 install pickle5"
   ]
  },
  {
   "cell_type": "code",
   "execution_count": 3,
   "metadata": {
    "id": "hLFmuu3oyE4M"
   },
   "outputs": [],
   "source": [
    "import models\n",
    "from utils import progress_bar\n",
    "import matplotlib.pyplot as plt\n",
    "import numpy as np\n",
    "import pandas as pd\n",
    "import random\n",
    "from tqdm import tqdm\n",
    "\n",
    "import surrounding_augmentation as sn\n",
    "import environment_helpers as hp\n",
    "from random import randrange\n",
    "import pickle5 as pickle\n",
    "from PIL import Image\n",
    "#!pip install cifar2png"
   ]
  },
  {
   "cell_type": "code",
   "execution_count": 4,
   "metadata": {
    "id": "yIALyRQByITD"
   },
   "outputs": [],
   "source": [
    "#!/usr/bin/env python3 -u\n",
    "# Copyright (c) 2017-present, Facebook, Inc.\n",
    "# All rights reserved.\n",
    "#\n",
    "# This source code is licensed under the license found in the LICENSE file in\n",
    "# the root directory of this source tree.\n",
    "from __future__ import print_function\n",
    "\n",
    "import argparse\n",
    "import csv\n",
    "import os\n",
    "\n",
    "import numpy as np\n",
    "import torch\n",
    "from torch.autograd import Variable\n",
    "import torch.backends.cudnn as cudnn\n",
    "import torch.nn as nn\n",
    "import torch.optim as optim\n",
    "import torchvision.transforms as transforms\n",
    "import torchvision.datasets as datasets\n",
    "import cv2 as cv2\n",
    "\n",
    "#import sys  \n",
    "#sys.path.insert(0, '/content/gdrive/MyDrive/Advanced_Data_Augmentation')\n",
    "\n",
    "\n",
    "\n",
    "\n",
    "# parser = argparse.ArgumentParser(description='PyTorch CIFAR10 Training')\n",
    "# parser.add_argument('--lr', default=0.1, type=float, help='learning rate')\n",
    "# parser.add_argument('--resume', '-r', action='store_true',\n",
    "#                     help='resume from checkpoint')\n",
    "# parser.add_argument('--model', default=\"ResNet18\", type=str,\n",
    "#                     help='model type (default: ResNet18)')\n",
    "# parser.add_argument('--name', default='0', type=str, help='name of run')\n",
    "# parser.add_argument('--seed', default=0, type=int, help='random seed')\n",
    "# parser.add_argument('--batch-size', default=128, type=int, help='batch size')\n",
    "# parser.add_argument('--epoch', default=200, type=int,\n",
    "#                     help='total epochs to run')\n",
    "# parser.add_argument('--no-augment', dest='augment', action='store_false',\n",
    "#                     help='use standard augmentation (default: True)')\n",
    "# parser.add_argument('--decay', default=1e-4, type=float, help='weight decay')\n",
    "# parser.add_argument('--alpha', default=1., type=float,\n",
    "#                     help='mixup interpolation coefficient (default: 1)')\n",
    "# args = parser.parse_args()\n",
    "\n",
    "params = {\n",
    "    \"lr\": .01,\n",
    "    \"resume\": False,\n",
    "    \"model\": \"ResNet18\",\n",
    "    \"name\": \"mixup-128-NormalAdvsTrain\",\n",
    "    \"seed\": 10,\n",
    "    \"batch_size\": 128,\n",
    "    \"decay\": 5e-4, \n",
    "    \"augment\": True,\n",
    "    \"epoch\": 200,\n",
    "#     \"no_augment\": False,\n",
    "    \"alpha\": 0.,\n",
    "}\n",
    "\n",
    "# %cd ../../"
   ]
  },
  {
   "cell_type": "code",
   "execution_count": 5,
   "metadata": {
    "id": "ix8lxQPnxuYW"
   },
   "outputs": [],
   "source": [
    "def augment_environment(image_batch,mean,std,showImage=-1):\n",
    " inv_normalize = transforms.Normalize(\n",
    "    mean= [-m/s for m, s in zip(mean, std)],\n",
    "    std= [1/s for s in std]\n",
    "  )\n",
    " inv_tensor = inv_normalize(image_batch)*255\n",
    " inv_tensor = inv_tensor.permute(0,2,3,1)\n",
    " img_arr=inv_tensor.numpy().astype('uint8')\n",
    " aug_list=[]\n",
    " for i in range(len(img_arr)):\n",
    "  aug_images= sn.augment_random(img_arr[i], aug_types=['random_brightness','add_shadow','add_gravel','add_snow','add_rain','add_autumn','random_flip','random_brightness'], volume='expand')  ##all aug_types are applied in both images\n",
    "  rand_image=aug_images[randrange(7)]\n",
    "  if showImage != -1:\n",
    "    plt.imshow(rand_image)\n",
    "    plt.show()\n",
    "  rand_image=torch.from_numpy(np.transpose(rand_image, (2, 0, 1))).float()/255\n",
    "  normalizer = transforms.Normalize(\n",
    "    mean= mean,\n",
    "    std= std\n",
    "   )\n",
    "  new_image=normalizer(rand_image)\n",
    "  aug_list.append(new_image)\n",
    " aug_batch=torch.stack(aug_list)\n",
    " return aug_batch"
   ]
  },
  {
   "cell_type": "code",
   "execution_count": 7,
   "metadata": {
    "colab": {
     "base_uri": "https://localhost:8080/",
     "height": 351
    },
    "id": "HTK9f2wDyXJ7",
    "outputId": "99b88964-cef3-4f02-af70-f03bd23b8760"
   },
   "outputs": [
    {
     "name": "stdout",
     "output_type": "stream",
     "text": [
      "128\n"
     ]
    },
    {
     "name": "stderr",
     "output_type": "stream",
     "text": [
      "Clipping input data to the valid range for imshow with RGB data ([0..1] for floats or [0..255] for integers).\n"
     ]
    },
    {
     "name": "stdout",
     "output_type": "stream",
     "text": [
      "torch.Size([128, 3, 32, 32])\n",
      "torch.Size([3, 32, 32])\n"
     ]
    },
    {
     "data": {
      "text/plain": [
       "<matplotlib.image.AxesImage at 0x7fac530e6a10>"
      ]
     },
     "execution_count": 7,
     "metadata": {
      "tags": []
     },
     "output_type": "execute_result"
    },
    {
     "data": {
      "image/png": "[encoded data removed]",
      "text/plain": [
       "<Figure size 432x288 with 1 Axes>"
      ]
     },
     "metadata": {
      "needs_background": "light",
      "tags": []
     },
     "output_type": "display_data"
    }
   ],
   "source": [
    "image_batch = pickle.load( open( \"images_sample.pickle\", \"rb\" ) )\n",
    "print(len(image_batch))\n",
    "mean = (0.4914, 0.4822, 0.4465)\n",
    "std = (0.2023, 0.1994, 0.2010)\n",
    "aug_image_batch= augment_environment(image_batch, mean,std)\n",
    "print(aug_image_batch.shape)\n",
    "print(aug_image_batch[0].shape)\n",
    "plt.imshow(aug_image_batch[0].numpy().transpose(1,2,0))"
   ]
  }
 ],
 "metadata": {
  "colab": {
   "collapsed_sections": [],
   "name": "environment_test.ipynb",
   "provenance": []
  },
  "kernelspec": {
   "display_name": "Python 3",
   "language": "python",
   "name": "python3"
  },
  "language_info": {
   "codemirror_mode": {
    "name": "ipython",
    "version": 3
   },
   "file_extension": ".py",
   "mimetype": "text/x-python",
   "name": "python",
   "nbconvert_exporter": "python",
   "pygments_lexer": "ipython3",
   "version": "3.7.4"
  }
 },
 "nbformat": 4,
 "nbformat_minor": 1
}
